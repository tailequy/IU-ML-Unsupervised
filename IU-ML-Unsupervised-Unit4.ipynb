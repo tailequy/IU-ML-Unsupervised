{
 "cells": [
  {
   "cell_type": "markdown",
   "id": "6eb2a04f",
   "metadata": {},
   "source": [
    "# Machine Learning - Unsupervised Learning and Feature Engineering\n",
    "## Unit 4. Feature Engineering\n",
    "### Lecturer: Tai Le Quy\n",
    "#### 24.8.2023\n",
    "Thanks Prof. Dr. Christian Müller-Kett for his code."
   ]
  },
  {
   "cell_type": "markdown",
   "id": "ec3ed8bc",
   "metadata": {},
   "source": [
    "## 1 Numerical Features"
   ]
  },
  {
   "cell_type": "markdown",
   "id": "a2214ce2",
   "metadata": {},
   "source": [
    "### 1.1 Imputation of missing values"
   ]
  },
  {
   "cell_type": "code",
   "execution_count": 1,
   "id": "a61673c1",
   "metadata": {},
   "outputs": [],
   "source": [
    "# IU - International University of Applied Science\n",
    "# Machine Learning - Unsupervised Machine Learning\n",
    "# Course Code: DLBDSMLUSL01\n",
    "\n",
    "# Numerical feature imputation\n",
    "\n",
    "#%% load libraries\n",
    "import pandas as pd\n",
    "import numpy as np\n",
    "from sklearn.impute import SimpleImputer\n",
    "from sklearn.experimental import enable_iterative_imputer\n",
    "from sklearn.impute import IterativeImputer\n",
    "from sklearn.ensemble import ExtraTreesRegressor\n",
    "from sklearn.linear_model import BayesianRidge"
   ]
  },
  {
   "cell_type": "markdown",
   "id": "e9e8b435",
   "metadata": {},
   "source": [
    "Example 1: Impute missing values by using mean (placeholder value)"
   ]
  },
  {
   "cell_type": "code",
   "execution_count": 2,
   "id": "797f7dc8",
   "metadata": {},
   "outputs": [],
   "source": [
    "#Create the dataset of energy consumption as a DataFrame with the missing value\n",
    "#%% generate sample data\n",
    "Table = {\\\n",
    "    'Customer-ID': [1, 2, 3, 4, 5], \\\n",
    "    'Gender': ['M','F','M','F','F'], \\\n",
    "    'Work-type': [1, 2, 2, 3, 3], \\\n",
    "    'Client-satisfaction':[3, 0, 4, 3, 5], \\\n",
    "    'Number-occupants': [2, 4, 2, 1, 2],\n",
    "    'Consumption':[70, 140, 65, np.NaN, 65]}\n",
    "TDF = pd.DataFrame(data=Table)"
   ]
  },
  {
   "cell_type": "code",
   "execution_count": 3,
   "id": "f0d2f2b8",
   "metadata": {},
   "outputs": [
    {
     "data": {
      "text/html": [
       "<div>\n",
       "<style scoped>\n",
       "    .dataframe tbody tr th:only-of-type {\n",
       "        vertical-align: middle;\n",
       "    }\n",
       "\n",
       "    .dataframe tbody tr th {\n",
       "        vertical-align: top;\n",
       "    }\n",
       "\n",
       "    .dataframe thead th {\n",
       "        text-align: right;\n",
       "    }\n",
       "</style>\n",
       "<table border=\"1\" class=\"dataframe\">\n",
       "  <thead>\n",
       "    <tr style=\"text-align: right;\">\n",
       "      <th></th>\n",
       "      <th>Customer-ID</th>\n",
       "      <th>Gender</th>\n",
       "      <th>Work-type</th>\n",
       "      <th>Client-satisfaction</th>\n",
       "      <th>Number-occupants</th>\n",
       "      <th>Consumption</th>\n",
       "    </tr>\n",
       "  </thead>\n",
       "  <tbody>\n",
       "    <tr>\n",
       "      <th>0</th>\n",
       "      <td>1</td>\n",
       "      <td>M</td>\n",
       "      <td>1</td>\n",
       "      <td>3</td>\n",
       "      <td>2</td>\n",
       "      <td>70.0</td>\n",
       "    </tr>\n",
       "    <tr>\n",
       "      <th>1</th>\n",
       "      <td>2</td>\n",
       "      <td>F</td>\n",
       "      <td>2</td>\n",
       "      <td>0</td>\n",
       "      <td>4</td>\n",
       "      <td>140.0</td>\n",
       "    </tr>\n",
       "    <tr>\n",
       "      <th>2</th>\n",
       "      <td>3</td>\n",
       "      <td>M</td>\n",
       "      <td>2</td>\n",
       "      <td>4</td>\n",
       "      <td>2</td>\n",
       "      <td>65.0</td>\n",
       "    </tr>\n",
       "    <tr>\n",
       "      <th>3</th>\n",
       "      <td>4</td>\n",
       "      <td>F</td>\n",
       "      <td>3</td>\n",
       "      <td>3</td>\n",
       "      <td>1</td>\n",
       "      <td>NaN</td>\n",
       "    </tr>\n",
       "    <tr>\n",
       "      <th>4</th>\n",
       "      <td>5</td>\n",
       "      <td>F</td>\n",
       "      <td>3</td>\n",
       "      <td>5</td>\n",
       "      <td>2</td>\n",
       "      <td>65.0</td>\n",
       "    </tr>\n",
       "  </tbody>\n",
       "</table>\n",
       "</div>"
      ],
      "text/plain": [
       "   Customer-ID Gender  Work-type  Client-satisfaction  Number-occupants  \\\n",
       "0            1      M          1                    3                 2   \n",
       "1            2      F          2                    0                 4   \n",
       "2            3      M          2                    4                 2   \n",
       "3            4      F          3                    3                 1   \n",
       "4            5      F          3                    5                 2   \n",
       "\n",
       "   Consumption  \n",
       "0         70.0  \n",
       "1        140.0  \n",
       "2         65.0  \n",
       "3          NaN  \n",
       "4         65.0  "
      ]
     },
     "execution_count": 3,
     "metadata": {},
     "output_type": "execute_result"
    }
   ],
   "source": [
    "TDF"
   ]
  },
  {
   "cell_type": "code",
   "execution_count": 4,
   "id": "2f72cd40",
   "metadata": {},
   "outputs": [],
   "source": [
    "#%% simple imputation of missing values\n",
    "imput = SimpleImputer(missing_values = np.nan, strategy = 'mean')\n",
    "imput = imput.fit(TDF[['Consumption']])\n",
    "imput = imput.transform(TDF[['Consumption']])\n",
    "TDF['Consumption']= imput"
   ]
  },
  {
   "cell_type": "code",
   "execution_count": 5,
   "id": "9503493a",
   "metadata": {},
   "outputs": [
    {
     "data": {
      "text/html": [
       "<div>\n",
       "<style scoped>\n",
       "    .dataframe tbody tr th:only-of-type {\n",
       "        vertical-align: middle;\n",
       "    }\n",
       "\n",
       "    .dataframe tbody tr th {\n",
       "        vertical-align: top;\n",
       "    }\n",
       "\n",
       "    .dataframe thead th {\n",
       "        text-align: right;\n",
       "    }\n",
       "</style>\n",
       "<table border=\"1\" class=\"dataframe\">\n",
       "  <thead>\n",
       "    <tr style=\"text-align: right;\">\n",
       "      <th></th>\n",
       "      <th>Customer-ID</th>\n",
       "      <th>Gender</th>\n",
       "      <th>Work-type</th>\n",
       "      <th>Client-satisfaction</th>\n",
       "      <th>Number-occupants</th>\n",
       "      <th>Consumption</th>\n",
       "    </tr>\n",
       "  </thead>\n",
       "  <tbody>\n",
       "    <tr>\n",
       "      <th>0</th>\n",
       "      <td>1</td>\n",
       "      <td>M</td>\n",
       "      <td>1</td>\n",
       "      <td>3</td>\n",
       "      <td>2</td>\n",
       "      <td>70.0</td>\n",
       "    </tr>\n",
       "    <tr>\n",
       "      <th>1</th>\n",
       "      <td>2</td>\n",
       "      <td>F</td>\n",
       "      <td>2</td>\n",
       "      <td>0</td>\n",
       "      <td>4</td>\n",
       "      <td>140.0</td>\n",
       "    </tr>\n",
       "    <tr>\n",
       "      <th>2</th>\n",
       "      <td>3</td>\n",
       "      <td>M</td>\n",
       "      <td>2</td>\n",
       "      <td>4</td>\n",
       "      <td>2</td>\n",
       "      <td>65.0</td>\n",
       "    </tr>\n",
       "    <tr>\n",
       "      <th>3</th>\n",
       "      <td>4</td>\n",
       "      <td>F</td>\n",
       "      <td>3</td>\n",
       "      <td>3</td>\n",
       "      <td>1</td>\n",
       "      <td>85.0</td>\n",
       "    </tr>\n",
       "    <tr>\n",
       "      <th>4</th>\n",
       "      <td>5</td>\n",
       "      <td>F</td>\n",
       "      <td>3</td>\n",
       "      <td>5</td>\n",
       "      <td>2</td>\n",
       "      <td>65.0</td>\n",
       "    </tr>\n",
       "  </tbody>\n",
       "</table>\n",
       "</div>"
      ],
      "text/plain": [
       "   Customer-ID Gender  Work-type  Client-satisfaction  Number-occupants  \\\n",
       "0            1      M          1                    3                 2   \n",
       "1            2      F          2                    0                 4   \n",
       "2            3      M          2                    4                 2   \n",
       "3            4      F          3                    3                 1   \n",
       "4            5      F          3                    5                 2   \n",
       "\n",
       "   Consumption  \n",
       "0         70.0  \n",
       "1        140.0  \n",
       "2         65.0  \n",
       "3         85.0  \n",
       "4         65.0  "
      ]
     },
     "execution_count": 5,
     "metadata": {},
     "output_type": "execute_result"
    }
   ],
   "source": [
    "TDF"
   ]
  },
  {
   "cell_type": "markdown",
   "id": "1032c10e",
   "metadata": {},
   "source": [
    "Example 2: Using regression imputation technique."
   ]
  },
  {
   "cell_type": "code",
   "execution_count": 7,
   "id": "a75c9dc8",
   "metadata": {},
   "outputs": [
    {
     "data": {
      "text/html": [
       "<div>\n",
       "<style scoped>\n",
       "    .dataframe tbody tr th:only-of-type {\n",
       "        vertical-align: middle;\n",
       "    }\n",
       "\n",
       "    .dataframe tbody tr th {\n",
       "        vertical-align: top;\n",
       "    }\n",
       "\n",
       "    .dataframe thead th {\n",
       "        text-align: right;\n",
       "    }\n",
       "</style>\n",
       "<table border=\"1\" class=\"dataframe\">\n",
       "  <thead>\n",
       "    <tr style=\"text-align: right;\">\n",
       "      <th></th>\n",
       "      <th>Var-1</th>\n",
       "      <th>Var-2</th>\n",
       "    </tr>\n",
       "  </thead>\n",
       "  <tbody>\n",
       "    <tr>\n",
       "      <th>0</th>\n",
       "      <td>10.0</td>\n",
       "      <td>2.0</td>\n",
       "    </tr>\n",
       "    <tr>\n",
       "      <th>1</th>\n",
       "      <td>NaN</td>\n",
       "      <td>1.0</td>\n",
       "    </tr>\n",
       "    <tr>\n",
       "      <th>2</th>\n",
       "      <td>2.0</td>\n",
       "      <td>0.4</td>\n",
       "    </tr>\n",
       "    <tr>\n",
       "      <th>3</th>\n",
       "      <td>1.0</td>\n",
       "      <td>0.2</td>\n",
       "    </tr>\n",
       "    <tr>\n",
       "      <th>4</th>\n",
       "      <td>5.0</td>\n",
       "      <td>NaN</td>\n",
       "    </tr>\n",
       "  </tbody>\n",
       "</table>\n",
       "</div>"
      ],
      "text/plain": [
       "   Var-1  Var-2\n",
       "0   10.0    2.0\n",
       "1    NaN    1.0\n",
       "2    2.0    0.4\n",
       "3    1.0    0.2\n",
       "4    5.0    NaN"
      ]
     },
     "execution_count": 7,
     "metadata": {},
     "output_type": "execute_result"
    }
   ],
   "source": [
    "#%% generate sample data\n",
    "table = {'Var-1': [10, np.NaN, 2, 1, 5],\\\n",
    "         'Var-2': [2, 1, 0.4, 0.2, np.NaN]}\n",
    "TDF = pd.DataFrame(data=table)\n",
    "TDF"
   ]
  },
  {
   "cell_type": "code",
   "execution_count": 8,
   "id": "66c040e1",
   "metadata": {},
   "outputs": [
    {
     "data": {
      "text/html": [
       "<div>\n",
       "<style scoped>\n",
       "    .dataframe tbody tr th:only-of-type {\n",
       "        vertical-align: middle;\n",
       "    }\n",
       "\n",
       "    .dataframe tbody tr th {\n",
       "        vertical-align: top;\n",
       "    }\n",
       "\n",
       "    .dataframe thead th {\n",
       "        text-align: right;\n",
       "    }\n",
       "</style>\n",
       "<table border=\"1\" class=\"dataframe\">\n",
       "  <thead>\n",
       "    <tr style=\"text-align: right;\">\n",
       "      <th></th>\n",
       "      <th>0</th>\n",
       "      <th>1</th>\n",
       "    </tr>\n",
       "  </thead>\n",
       "  <tbody>\n",
       "    <tr>\n",
       "      <th>0</th>\n",
       "      <td>10.000000</td>\n",
       "      <td>2.000000</td>\n",
       "    </tr>\n",
       "    <tr>\n",
       "      <th>1</th>\n",
       "      <td>5.000531</td>\n",
       "      <td>1.000000</td>\n",
       "    </tr>\n",
       "    <tr>\n",
       "      <th>2</th>\n",
       "      <td>2.000000</td>\n",
       "      <td>0.400000</td>\n",
       "    </tr>\n",
       "    <tr>\n",
       "      <th>3</th>\n",
       "      <td>1.000000</td>\n",
       "      <td>0.200000</td>\n",
       "    </tr>\n",
       "    <tr>\n",
       "      <th>4</th>\n",
       "      <td>5.000000</td>\n",
       "      <td>0.999973</td>\n",
       "    </tr>\n",
       "  </tbody>\n",
       "</table>\n",
       "</div>"
      ],
      "text/plain": [
       "           0         1\n",
       "0  10.000000  2.000000\n",
       "1   5.000531  1.000000\n",
       "2   2.000000  0.400000\n",
       "3   1.000000  0.200000\n",
       "4   5.000000  0.999973"
      ]
     },
     "execution_count": 8,
     "metadata": {},
     "output_type": "execute_result"
    }
   ],
   "source": [
    "#%% apply regression imputation using ‘Bayesian Ridge’\n",
    "imputbr = IterativeImputer(BayesianRidge())\n",
    "TDF = pd.DataFrame(imputbr.fit_transform(TDF))\n",
    "TDF"
   ]
  },
  {
   "cell_type": "code",
   "execution_count": 9,
   "id": "6c6b51f1",
   "metadata": {},
   "outputs": [
    {
     "data": {
      "text/html": [
       "<div>\n",
       "<style scoped>\n",
       "    .dataframe tbody tr th:only-of-type {\n",
       "        vertical-align: middle;\n",
       "    }\n",
       "\n",
       "    .dataframe tbody tr th {\n",
       "        vertical-align: top;\n",
       "    }\n",
       "\n",
       "    .dataframe thead th {\n",
       "        text-align: right;\n",
       "    }\n",
       "</style>\n",
       "<table border=\"1\" class=\"dataframe\">\n",
       "  <thead>\n",
       "    <tr style=\"text-align: right;\">\n",
       "      <th></th>\n",
       "      <th>0</th>\n",
       "      <th>1</th>\n",
       "    </tr>\n",
       "  </thead>\n",
       "  <tbody>\n",
       "    <tr>\n",
       "      <th>0</th>\n",
       "      <td>10.0</td>\n",
       "      <td>2.0</td>\n",
       "    </tr>\n",
       "    <tr>\n",
       "      <th>1</th>\n",
       "      <td>5.0</td>\n",
       "      <td>1.0</td>\n",
       "    </tr>\n",
       "    <tr>\n",
       "      <th>2</th>\n",
       "      <td>2.0</td>\n",
       "      <td>0.4</td>\n",
       "    </tr>\n",
       "    <tr>\n",
       "      <th>3</th>\n",
       "      <td>1.0</td>\n",
       "      <td>0.2</td>\n",
       "    </tr>\n",
       "    <tr>\n",
       "      <th>4</th>\n",
       "      <td>5.0</td>\n",
       "      <td>1.0</td>\n",
       "    </tr>\n",
       "  </tbody>\n",
       "</table>\n",
       "</div>"
      ],
      "text/plain": [
       "      0    1\n",
       "0  10.0  2.0\n",
       "1   5.0  1.0\n",
       "2   2.0  0.4\n",
       "3   1.0  0.2\n",
       "4   5.0  1.0"
      ]
     },
     "execution_count": 9,
     "metadata": {},
     "output_type": "execute_result"
    }
   ],
   "source": [
    "#%%\n",
    "# apply regression imputation using\n",
    "# ‘Extra Trees Regressor’\n",
    "TDF = pd.DataFrame(data=table)\n",
    "imputetr = IterativeImputer(ExtraTreesRegressor())\n",
    "TDF = pd.DataFrame(imputetr.fit_transform(TDF))\n",
    "TDF"
   ]
  },
  {
   "cell_type": "markdown",
   "id": "9de67122",
   "metadata": {},
   "source": [
    "### 1.2 Feature Scaling"
   ]
  },
  {
   "cell_type": "code",
   "execution_count": 10,
   "id": "a8f519ce",
   "metadata": {},
   "outputs": [],
   "source": [
    "#%% import libraries\n",
    "import pandas as pd\n",
    "from sklearn.preprocessing import MinMaxScaler\n",
    "from sklearn.preprocessing import StandardScaler\n",
    "from sklearn.preprocessing import RobustScaler"
   ]
  },
  {
   "cell_type": "code",
   "execution_count": 11,
   "id": "867a5f6a",
   "metadata": {},
   "outputs": [],
   "source": [
    "#%% generate sample data\n",
    "Table = {\\\n",
    "    'Customer-ID': [1, 2, 3, 4, 5], \\\n",
    "    'Gender': ['M', 'F', 'M',' F', 'F'], \\\n",
    "    'Work-type': [1, 2, 2, 3, 3], \\\n",
    "    'Client-satisfaction': [3, 0, 4, 3, 5], \\\n",
    "    'Number-occupants': [2, 4, 2, 1, 2], \\\n",
    "    'Consumption': [70, 140, 65, 40, 65]}\n",
    "TDF = pd.DataFrame(data=Table)"
   ]
  },
  {
   "cell_type": "code",
   "execution_count": 12,
   "id": "84f1cbf6",
   "metadata": {},
   "outputs": [
    {
     "data": {
      "text/html": [
       "<div>\n",
       "<style scoped>\n",
       "    .dataframe tbody tr th:only-of-type {\n",
       "        vertical-align: middle;\n",
       "    }\n",
       "\n",
       "    .dataframe tbody tr th {\n",
       "        vertical-align: top;\n",
       "    }\n",
       "\n",
       "    .dataframe thead th {\n",
       "        text-align: right;\n",
       "    }\n",
       "</style>\n",
       "<table border=\"1\" class=\"dataframe\">\n",
       "  <thead>\n",
       "    <tr style=\"text-align: right;\">\n",
       "      <th></th>\n",
       "      <th>Customer-ID</th>\n",
       "      <th>Gender</th>\n",
       "      <th>Work-type</th>\n",
       "      <th>Client-satisfaction</th>\n",
       "      <th>Number-occupants</th>\n",
       "      <th>Consumption</th>\n",
       "    </tr>\n",
       "  </thead>\n",
       "  <tbody>\n",
       "    <tr>\n",
       "      <th>0</th>\n",
       "      <td>1</td>\n",
       "      <td>M</td>\n",
       "      <td>1</td>\n",
       "      <td>3</td>\n",
       "      <td>2</td>\n",
       "      <td>70</td>\n",
       "    </tr>\n",
       "    <tr>\n",
       "      <th>1</th>\n",
       "      <td>2</td>\n",
       "      <td>F</td>\n",
       "      <td>2</td>\n",
       "      <td>0</td>\n",
       "      <td>4</td>\n",
       "      <td>140</td>\n",
       "    </tr>\n",
       "    <tr>\n",
       "      <th>2</th>\n",
       "      <td>3</td>\n",
       "      <td>M</td>\n",
       "      <td>2</td>\n",
       "      <td>4</td>\n",
       "      <td>2</td>\n",
       "      <td>65</td>\n",
       "    </tr>\n",
       "    <tr>\n",
       "      <th>3</th>\n",
       "      <td>4</td>\n",
       "      <td>F</td>\n",
       "      <td>3</td>\n",
       "      <td>3</td>\n",
       "      <td>1</td>\n",
       "      <td>40</td>\n",
       "    </tr>\n",
       "    <tr>\n",
       "      <th>4</th>\n",
       "      <td>5</td>\n",
       "      <td>F</td>\n",
       "      <td>3</td>\n",
       "      <td>5</td>\n",
       "      <td>2</td>\n",
       "      <td>65</td>\n",
       "    </tr>\n",
       "  </tbody>\n",
       "</table>\n",
       "</div>"
      ],
      "text/plain": [
       "   Customer-ID Gender  Work-type  Client-satisfaction  Number-occupants  \\\n",
       "0            1      M          1                    3                 2   \n",
       "1            2      F          2                    0                 4   \n",
       "2            3      M          2                    4                 2   \n",
       "3            4      F          3                    3                 1   \n",
       "4            5      F          3                    5                 2   \n",
       "\n",
       "   Consumption  \n",
       "0           70  \n",
       "1          140  \n",
       "2           65  \n",
       "3           40  \n",
       "4           65  "
      ]
     },
     "execution_count": 12,
     "metadata": {},
     "output_type": "execute_result"
    }
   ],
   "source": [
    "TDF"
   ]
  },
  {
   "cell_type": "code",
   "execution_count": 16,
   "id": "c8fbc4b5",
   "metadata": {},
   "outputs": [
    {
     "name": "stdout",
     "output_type": "stream",
     "text": [
      "0    0.30\n",
      "1    1.00\n",
      "2    0.25\n",
      "3    0.00\n",
      "4    0.25\n",
      "Name: Consumption, dtype: float64\n"
     ]
    }
   ],
   "source": [
    "#%% apply Min-Max Scaling on the feature 'Consumption'\n",
    "MMS = MinMaxScaler().fit_transform(TDF[['Consumption']])\n",
    "TDF['Consumption'] = MMS\n",
    "\n",
    "print(TDF['Consumption'])"
   ]
  },
  {
   "cell_type": "code",
   "execution_count": 17,
   "id": "79f9b534",
   "metadata": {},
   "outputs": [
    {
     "name": "stdout",
     "output_type": "stream",
     "text": [
      "count    5.000000\n",
      "mean     0.360000\n",
      "std      0.376497\n",
      "min      0.000000\n",
      "25%      0.250000\n",
      "50%      0.250000\n",
      "75%      0.300000\n",
      "max      1.000000\n",
      "Name: Consumption, dtype: float64\n"
     ]
    }
   ],
   "source": [
    "print(TDF['Consumption'].describe())"
   ]
  },
  {
   "cell_type": "code",
   "execution_count": 18,
   "id": "c9b5439c",
   "metadata": {},
   "outputs": [
    {
     "name": "stdout",
     "output_type": "stream",
     "text": [
      "0   -0.178174\n",
      "1    1.900524\n",
      "2   -0.326653\n",
      "3   -1.069045\n",
      "4   -0.326653\n",
      "Name: Consumption, dtype: float64\n"
     ]
    }
   ],
   "source": [
    "#%% apply standardization on the feature 'Consumption'\n",
    "TDF = pd.DataFrame(data=Table)\n",
    "ST = StandardScaler().fit_transform(TDF[['Consumption']])\n",
    "TDF['Consumption'] = ST\n",
    "\n",
    "print(TDF['Consumption'])"
   ]
  },
  {
   "cell_type": "code",
   "execution_count": 19,
   "id": "f97b2840",
   "metadata": {},
   "outputs": [
    {
     "name": "stdout",
     "output_type": "stream",
     "text": [
      "count    5.000000e+00\n",
      "mean    -3.330669e-17\n",
      "std      1.118034e+00\n",
      "min     -1.069045e+00\n",
      "25%     -3.266526e-01\n",
      "50%     -3.266526e-01\n",
      "75%     -1.781742e-01\n",
      "max      1.900524e+00\n",
      "Name: Consumption, dtype: float64\n"
     ]
    }
   ],
   "source": [
    "print(TDF['Consumption'].describe())"
   ]
  },
  {
   "cell_type": "code",
   "execution_count": 13,
   "id": "f7570bba",
   "metadata": {},
   "outputs": [
    {
     "data": {
      "text/html": [
       "<div>\n",
       "<style scoped>\n",
       "    .dataframe tbody tr th:only-of-type {\n",
       "        vertical-align: middle;\n",
       "    }\n",
       "\n",
       "    .dataframe tbody tr th {\n",
       "        vertical-align: top;\n",
       "    }\n",
       "\n",
       "    .dataframe thead th {\n",
       "        text-align: right;\n",
       "    }\n",
       "</style>\n",
       "<table border=\"1\" class=\"dataframe\">\n",
       "  <thead>\n",
       "    <tr style=\"text-align: right;\">\n",
       "      <th></th>\n",
       "      <th>Customer-ID</th>\n",
       "      <th>Gender</th>\n",
       "      <th>Work-type</th>\n",
       "      <th>Client-satisfaction</th>\n",
       "      <th>Number-occupants</th>\n",
       "      <th>Consumption</th>\n",
       "    </tr>\n",
       "  </thead>\n",
       "  <tbody>\n",
       "    <tr>\n",
       "      <th>0</th>\n",
       "      <td>1</td>\n",
       "      <td>M</td>\n",
       "      <td>1</td>\n",
       "      <td>3</td>\n",
       "      <td>2</td>\n",
       "      <td>70</td>\n",
       "    </tr>\n",
       "    <tr>\n",
       "      <th>1</th>\n",
       "      <td>2</td>\n",
       "      <td>F</td>\n",
       "      <td>2</td>\n",
       "      <td>0</td>\n",
       "      <td>4</td>\n",
       "      <td>140</td>\n",
       "    </tr>\n",
       "    <tr>\n",
       "      <th>2</th>\n",
       "      <td>3</td>\n",
       "      <td>M</td>\n",
       "      <td>2</td>\n",
       "      <td>4</td>\n",
       "      <td>2</td>\n",
       "      <td>65</td>\n",
       "    </tr>\n",
       "    <tr>\n",
       "      <th>3</th>\n",
       "      <td>4</td>\n",
       "      <td>F</td>\n",
       "      <td>3</td>\n",
       "      <td>3</td>\n",
       "      <td>1</td>\n",
       "      <td>40</td>\n",
       "    </tr>\n",
       "    <tr>\n",
       "      <th>4</th>\n",
       "      <td>5</td>\n",
       "      <td>F</td>\n",
       "      <td>3</td>\n",
       "      <td>5</td>\n",
       "      <td>2</td>\n",
       "      <td>65</td>\n",
       "    </tr>\n",
       "  </tbody>\n",
       "</table>\n",
       "</div>"
      ],
      "text/plain": [
       "   Customer-ID Gender  Work-type  Client-satisfaction  Number-occupants  \\\n",
       "0            1      M          1                    3                 2   \n",
       "1            2      F          2                    0                 4   \n",
       "2            3      M          2                    4                 2   \n",
       "3            4      F          3                    3                 1   \n",
       "4            5      F          3                    5                 2   \n",
       "\n",
       "   Consumption  \n",
       "0           70  \n",
       "1          140  \n",
       "2           65  \n",
       "3           40  \n",
       "4           65  "
      ]
     },
     "execution_count": 13,
     "metadata": {},
     "output_type": "execute_result"
    }
   ],
   "source": [
    "TDF = pd.DataFrame(data=Table)\n",
    "TDF"
   ]
  },
  {
   "cell_type": "code",
   "execution_count": 14,
   "id": "0272f2ad",
   "metadata": {},
   "outputs": [],
   "source": [
    "#%% apply Robust Scaling to the column 'Consumption'\n",
    "#Thanks to the use of the median and IQR of data points, rather than minimum and\n",
    "#ean, robust scaling has the advantage of being more adapted to scale-sparse data\n",
    "#oints than min-max scaling and standardization\n",
    "RS = RobustScaler().fit_transform(TDF[['Consumption']])\n",
    "TDF['Consumption'] = RS"
   ]
  },
  {
   "cell_type": "code",
   "execution_count": 15,
   "id": "f6ea6a18",
   "metadata": {},
   "outputs": [
    {
     "name": "stdout",
     "output_type": "stream",
     "text": [
      "0     1.0\n",
      "1    15.0\n",
      "2     0.0\n",
      "3    -5.0\n",
      "4     0.0\n",
      "Name: Consumption, dtype: float64\n"
     ]
    }
   ],
   "source": [
    "print(TDF['Consumption'])"
   ]
  },
  {
   "cell_type": "markdown",
   "id": "49e3a996",
   "metadata": {},
   "source": [
    "### 1.3 Feature Generation"
   ]
  },
  {
   "cell_type": "markdown",
   "id": "d096995e",
   "metadata": {},
   "source": [
    "#### 1.3.1 Transformed features"
   ]
  },
  {
   "cell_type": "code",
   "execution_count": 44,
   "id": "793f11aa",
   "metadata": {},
   "outputs": [
    {
     "name": "stdout",
     "output_type": "stream",
     "text": [
      "Collecting feature-engine"
     ]
    },
    {
     "name": "stderr",
     "output_type": "stream",
     "text": [
      "WARNING: Ignoring invalid distribution -mportlib-metadata (c:\\programdata\\anaconda3\\lib\\site-packages)\n",
      "WARNING: Ignoring invalid distribution -lick (c:\\programdata\\anaconda3\\lib\\site-packages)\n",
      "WARNING: Ignoring invalid distribution -cipy (c:\\programdata\\anaconda3\\lib\\site-packages)\n",
      "WARNING: Ignoring invalid distribution -andas (c:\\programdata\\anaconda3\\lib\\site-packages)\n",
      "WARNING: Ignoring invalid distribution -mportlib-metadata (c:\\programdata\\anaconda3\\lib\\site-packages)\n",
      "WARNING: Ignoring invalid distribution -lick (c:\\programdata\\anaconda3\\lib\\site-packages)\n",
      "WARNING: Ignoring invalid distribution -cipy (c:\\programdata\\anaconda3\\lib\\site-packages)\n",
      "WARNING: Ignoring invalid distribution -andas (c:\\programdata\\anaconda3\\lib\\site-packages)\n",
      "WARNING: Ignoring invalid distribution -mportlib-metadata (c:\\programdata\\anaconda3\\lib\\site-packages)\n",
      "WARNING: Ignoring invalid distribution -lick (c:\\programdata\\anaconda3\\lib\\site-packages)\n",
      "WARNING: Ignoring invalid distribution -cipy (c:\\programdata\\anaconda3\\lib\\site-packages)\n",
      "WARNING: Ignoring invalid distribution -andas (c:\\programdata\\anaconda3\\lib\\site-packages)\n",
      "WARNING: Ignoring invalid distribution -mportlib-metadata (c:\\programdata\\anaconda3\\lib\\site-packages)\n",
      "WARNING: Ignoring invalid distribution -lick (c:\\programdata\\anaconda3\\lib\\site-packages)\n",
      "WARNING: Ignoring invalid distribution -cipy (c:\\programdata\\anaconda3\\lib\\site-packages)\n",
      "WARNING: Ignoring invalid distribution -andas (c:\\programdata\\anaconda3\\lib\\site-packages)\n",
      "WARNING: Ignoring invalid distribution -mportlib-metadata (c:\\programdata\\anaconda3\\lib\\site-packages)\n",
      "WARNING: Ignoring invalid distribution -lick (c:\\programdata\\anaconda3\\lib\\site-packages)\n",
      "WARNING: Ignoring invalid distribution -cipy (c:\\programdata\\anaconda3\\lib\\site-packages)\n",
      "WARNING: Ignoring invalid distribution -andas (c:\\programdata\\anaconda3\\lib\\site-packages)\n",
      "WARNING: Ignoring invalid distribution -mportlib-metadata (c:\\programdata\\anaconda3\\lib\\site-packages)\n",
      "WARNING: Ignoring invalid distribution -lick (c:\\programdata\\anaconda3\\lib\\site-packages)\n",
      "WARNING: Ignoring invalid distribution -cipy (c:\\programdata\\anaconda3\\lib\\site-packages)\n",
      "WARNING: Ignoring invalid distribution -andas (c:\\programdata\\anaconda3\\lib\\site-packages)\n",
      "WARNING: Ignoring invalid distribution -mportlib-metadata (c:\\programdata\\anaconda3\\lib\\site-packages)\n",
      "WARNING: Ignoring invalid distribution -lick (c:\\programdata\\anaconda3\\lib\\site-packages)\n",
      "WARNING: Ignoring invalid distribution -cipy (c:\\programdata\\anaconda3\\lib\\site-packages)\n",
      "WARNING: Ignoring invalid distribution -andas (c:\\programdata\\anaconda3\\lib\\site-packages)\n"
     ]
    },
    {
     "name": "stdout",
     "output_type": "stream",
     "text": [
      "\n",
      "  Downloading feature_engine-1.4.0-py2.py3-none-any.whl (276 kB)\n",
      "Requirement already satisfied: numpy>=1.18.2 in c:\\programdata\\anaconda3\\lib\\site-packages (from feature-engine) (1.20.3)\n",
      "Requirement already satisfied: statsmodels>=0.11.1 in c:\\programdata\\anaconda3\\lib\\site-packages (from feature-engine) (0.13.5)\n",
      "Requirement already satisfied: scipy>=1.4.1 in c:\\programdata\\anaconda3\\lib\\site-packages (from feature-engine) (1.6.3)\n",
      "Requirement already satisfied: scikit-learn>=1.0.0 in c:\\programdata\\anaconda3\\lib\\site-packages (from feature-engine) (1.0.2)\n",
      "Requirement already satisfied: pandas>=1.0.3 in c:\\programdata\\anaconda3\\lib\\site-packages (from feature-engine) (1.2.4)\n",
      "Requirement already satisfied: python-dateutil>=2.7.3 in c:\\programdata\\anaconda3\\lib\\site-packages (from pandas>=1.0.3->feature-engine) (2.8.2)\n",
      "Requirement already satisfied: pytz>=2017.3 in c:\\programdata\\anaconda3\\lib\\site-packages (from pandas>=1.0.3->feature-engine) (2021.1)\n",
      "Requirement already satisfied: six>=1.5 in c:\\programdata\\anaconda3\\lib\\site-packages (from python-dateutil>=2.7.3->pandas>=1.0.3->feature-engine) (1.16.0)\n",
      "Requirement already satisfied: joblib>=0.11 in c:\\programdata\\anaconda3\\lib\\site-packages (from scikit-learn>=1.0.0->feature-engine) (1.0.1)\n",
      "Requirement already satisfied: threadpoolctl>=2.0.0 in c:\\programdata\\anaconda3\\lib\\site-packages (from scikit-learn>=1.0.0->feature-engine) (2.2.0)\n",
      "Requirement already satisfied: patsy>=0.5.2 in c:\\programdata\\anaconda3\\lib\\site-packages (from statsmodels>=0.11.1->feature-engine) (0.5.3)\n",
      "Requirement already satisfied: packaging>=21.3 in c:\\programdata\\anaconda3\\lib\\site-packages (from statsmodels>=0.11.1->feature-engine) (23.1)\n",
      "Installing collected packages: feature-engine\n",
      "Successfully installed feature-engine-1.4.0\n"
     ]
    }
   ],
   "source": [
    "#Install library\n",
    "!pip install feature-engine"
   ]
  },
  {
   "cell_type": "code",
   "execution_count": 45,
   "id": "a439e032",
   "metadata": {},
   "outputs": [],
   "source": [
    "# Numerical feature transformation\n",
    "\n",
    "#%% import libraries\n",
    "from numpy import exp\n",
    "from numpy.random import randn\n",
    "from feature_engine import transformation as vt\n",
    "import pandas as pd\n",
    "from sklearn.preprocessing import QuantileTransformer\n",
    "import matplotlib.pyplot as plt"
   ]
  },
  {
   "cell_type": "code",
   "execution_count": 46,
   "id": "8c990144",
   "metadata": {},
   "outputs": [
    {
     "data": {
      "image/png": "[encoded data removed]",
      "text/plain": [
       "<Figure size 432x288 with 1 Axes>"
      ]
     },
     "metadata": {
      "needs_background": "light"
     },
     "output_type": "display_data"
    }
   ],
   "source": [
    "#%% generate sample data from a normal distribution \n",
    "dat = randn(999)\n",
    "\n",
    "#%% add a skew to the generated data points\n",
    "dat_skew = exp(dat)\n",
    "plt.hist(dat_skew, bins = 25)\n",
    "plt.show()"
   ]
  },
  {
   "cell_type": "code",
   "execution_count": 47,
   "id": "29c16741",
   "metadata": {},
   "outputs": [],
   "source": [
    "#%% convert the data into a dataframe\n",
    "dat_skew = dat_skew.reshape((len(dat), 1))\n",
    "dat_skew = pd.DataFrame(dat_skew, columns = ['Value'])"
   ]
  },
  {
   "cell_type": "code",
   "execution_count": 48,
   "id": "cebbffed",
   "metadata": {},
   "outputs": [
    {
     "data": {
      "text/html": [
       "<div>\n",
       "<style scoped>\n",
       "    .dataframe tbody tr th:only-of-type {\n",
       "        vertical-align: middle;\n",
       "    }\n",
       "\n",
       "    .dataframe tbody tr th {\n",
       "        vertical-align: top;\n",
       "    }\n",
       "\n",
       "    .dataframe thead th {\n",
       "        text-align: right;\n",
       "    }\n",
       "</style>\n",
       "<table border=\"1\" class=\"dataframe\">\n",
       "  <thead>\n",
       "    <tr style=\"text-align: right;\">\n",
       "      <th></th>\n",
       "      <th>Value</th>\n",
       "    </tr>\n",
       "  </thead>\n",
       "  <tbody>\n",
       "    <tr>\n",
       "      <th>0</th>\n",
       "      <td>1.199305</td>\n",
       "    </tr>\n",
       "    <tr>\n",
       "      <th>1</th>\n",
       "      <td>0.811243</td>\n",
       "    </tr>\n",
       "    <tr>\n",
       "      <th>2</th>\n",
       "      <td>1.871166</td>\n",
       "    </tr>\n",
       "    <tr>\n",
       "      <th>3</th>\n",
       "      <td>3.254511</td>\n",
       "    </tr>\n",
       "    <tr>\n",
       "      <th>4</th>\n",
       "      <td>0.152871</td>\n",
       "    </tr>\n",
       "    <tr>\n",
       "      <th>...</th>\n",
       "      <td>...</td>\n",
       "    </tr>\n",
       "    <tr>\n",
       "      <th>994</th>\n",
       "      <td>0.305152</td>\n",
       "    </tr>\n",
       "    <tr>\n",
       "      <th>995</th>\n",
       "      <td>0.466822</td>\n",
       "    </tr>\n",
       "    <tr>\n",
       "      <th>996</th>\n",
       "      <td>0.307069</td>\n",
       "    </tr>\n",
       "    <tr>\n",
       "      <th>997</th>\n",
       "      <td>1.669211</td>\n",
       "    </tr>\n",
       "    <tr>\n",
       "      <th>998</th>\n",
       "      <td>1.726956</td>\n",
       "    </tr>\n",
       "  </tbody>\n",
       "</table>\n",
       "<p>999 rows × 1 columns</p>\n",
       "</div>"
      ],
      "text/plain": [
       "        Value\n",
       "0    1.199305\n",
       "1    0.811243\n",
       "2    1.871166\n",
       "3    3.254511\n",
       "4    0.152871\n",
       "..        ...\n",
       "994  0.305152\n",
       "995  0.466822\n",
       "996  0.307069\n",
       "997  1.669211\n",
       "998  1.726956\n",
       "\n",
       "[999 rows x 1 columns]"
      ]
     },
     "execution_count": 48,
     "metadata": {},
     "output_type": "execute_result"
    }
   ],
   "source": [
    "dat_skew"
   ]
  },
  {
   "cell_type": "code",
   "execution_count": 49,
   "id": "413d2efc",
   "metadata": {},
   "outputs": [
    {
     "data": {
      "image/png": "[encoded data removed]",
      "text/plain": [
       "<Figure size 432x288 with 1 Axes>"
      ]
     },
     "metadata": {
      "needs_background": "light"
     },
     "output_type": "display_data"
    }
   ],
   "source": [
    "#%% generate and fit log transformer\n",
    "lgt = vt.LogTransformer(variables= ['Value'])\n",
    "lgt.fit(dat_skew)\n",
    "\n",
    "#%% apply log transformation \n",
    "dat_lg = lgt.transform(dat_skew)\n",
    "\n",
    "#%% plot the distribution of the transformed data\n",
    "plt.hist(dat_lg['Value'], bins=25)\n",
    "plt.show()"
   ]
  },
  {
   "cell_type": "code",
   "execution_count": 50,
   "id": "d59af98d",
   "metadata": {},
   "outputs": [
    {
     "name": "stderr",
     "output_type": "stream",
     "text": [
      "C:\\ProgramData\\Anaconda3\\lib\\site-packages\\sklearn\\preprocessing\\_data.py:2593: UserWarning: n_quantiles (1000) is greater than the total number of samples (999). n_quantiles is set to n_samples.\n",
      "  \"n_samples.\" % (self.n_quantiles, n_samples)\n"
     ]
    },
    {
     "data": {
      "image/png": "[encoded data removed]",
      "text/plain": [
       "<Figure size 432x288 with 1 Axes>"
      ]
     },
     "metadata": {
      "needs_background": "light"
     },
     "output_type": "display_data"
    }
   ],
   "source": [
    "#%% generate and fit quantile transformer\n",
    "qt = QuantileTransformer(output_distribution='normal')\n",
    "qt.fit(dat_skew[['Value']])\n",
    "\n",
    "#%% apply quantile transformation \n",
    "dat_q = qt.transform(dat_skew[['Value']])\n",
    "\n",
    "#%% plot the distribution of the transformed data\n",
    "plt.hist(dat_q, bins=25)\n",
    "plt.show()"
   ]
  },
  {
   "cell_type": "markdown",
   "id": "6ddbb2d3",
   "metadata": {},
   "source": [
    "#### 1.3.2 Interaction features\n",
    "\n",
    "Interaction features, or cross product features, allow the combination of pairs of features through the logical operator AND"
   ]
  },
  {
   "cell_type": "markdown",
   "id": "35f59055",
   "metadata": {},
   "source": [
    "Interaction features can be generated using the polynomial expansion function PolynomialFeatures\n",
    "in the Python library sklearn. Let us generate the interaction feature between the features “number occupants” and “consumption” of the energy consumption\n",
    "example."
   ]
  },
  {
   "cell_type": "code",
   "execution_count": 16,
   "id": "c69132cf",
   "metadata": {},
   "outputs": [],
   "source": [
    "# Numerical interaction features\n",
    "\n",
    "#%% import libraries\n",
    "import pandas as pd\n",
    "import numpy as np\n",
    "from sklearn.preprocessing import PolynomialFeatures"
   ]
  },
  {
   "cell_type": "code",
   "execution_count": 17,
   "id": "be538820",
   "metadata": {},
   "outputs": [],
   "source": [
    "#%% generate sample data\n",
    "Table = {\\\n",
    "    'Customer-ID': [1, 2, 3, 4, 5], \\\n",
    "    'Gender': ['M','F','M','F','F'], \\\n",
    "    'Work-type': [1, 2, 2, 3, 3], \\\n",
    "    'Client-satisfaction':[3, 0, 4, 3, 5], \\\n",
    "    'Number-occupants': [2, 4, 2, 1, 2],\n",
    "    'Consumption':[70, 140, 65, 40, 65]}\n",
    "TDF = pd.DataFrame(data=Table)"
   ]
  },
  {
   "cell_type": "code",
   "execution_count": 18,
   "id": "add80d69",
   "metadata": {},
   "outputs": [
    {
     "data": {
      "text/html": [
       "<div>\n",
       "<style scoped>\n",
       "    .dataframe tbody tr th:only-of-type {\n",
       "        vertical-align: middle;\n",
       "    }\n",
       "\n",
       "    .dataframe tbody tr th {\n",
       "        vertical-align: top;\n",
       "    }\n",
       "\n",
       "    .dataframe thead th {\n",
       "        text-align: right;\n",
       "    }\n",
       "</style>\n",
       "<table border=\"1\" class=\"dataframe\">\n",
       "  <thead>\n",
       "    <tr style=\"text-align: right;\">\n",
       "      <th></th>\n",
       "      <th>Customer-ID</th>\n",
       "      <th>Gender</th>\n",
       "      <th>Work-type</th>\n",
       "      <th>Client-satisfaction</th>\n",
       "      <th>Number-occupants</th>\n",
       "      <th>Consumption</th>\n",
       "    </tr>\n",
       "  </thead>\n",
       "  <tbody>\n",
       "    <tr>\n",
       "      <th>0</th>\n",
       "      <td>1</td>\n",
       "      <td>M</td>\n",
       "      <td>1</td>\n",
       "      <td>3</td>\n",
       "      <td>2</td>\n",
       "      <td>70</td>\n",
       "    </tr>\n",
       "    <tr>\n",
       "      <th>1</th>\n",
       "      <td>2</td>\n",
       "      <td>F</td>\n",
       "      <td>2</td>\n",
       "      <td>0</td>\n",
       "      <td>4</td>\n",
       "      <td>140</td>\n",
       "    </tr>\n",
       "    <tr>\n",
       "      <th>2</th>\n",
       "      <td>3</td>\n",
       "      <td>M</td>\n",
       "      <td>2</td>\n",
       "      <td>4</td>\n",
       "      <td>2</td>\n",
       "      <td>65</td>\n",
       "    </tr>\n",
       "    <tr>\n",
       "      <th>3</th>\n",
       "      <td>4</td>\n",
       "      <td>F</td>\n",
       "      <td>3</td>\n",
       "      <td>3</td>\n",
       "      <td>1</td>\n",
       "      <td>40</td>\n",
       "    </tr>\n",
       "    <tr>\n",
       "      <th>4</th>\n",
       "      <td>5</td>\n",
       "      <td>F</td>\n",
       "      <td>3</td>\n",
       "      <td>5</td>\n",
       "      <td>2</td>\n",
       "      <td>65</td>\n",
       "    </tr>\n",
       "  </tbody>\n",
       "</table>\n",
       "</div>"
      ],
      "text/plain": [
       "   Customer-ID Gender  Work-type  Client-satisfaction  Number-occupants  \\\n",
       "0            1      M          1                    3                 2   \n",
       "1            2      F          2                    0                 4   \n",
       "2            3      M          2                    4                 2   \n",
       "3            4      F          3                    3                 1   \n",
       "4            5      F          3                    5                 2   \n",
       "\n",
       "   Consumption  \n",
       "0           70  \n",
       "1          140  \n",
       "2           65  \n",
       "3           40  \n",
       "4           65  "
      ]
     },
     "execution_count": 18,
     "metadata": {},
     "output_type": "execute_result"
    }
   ],
   "source": [
    "TDF"
   ]
  },
  {
   "cell_type": "code",
   "execution_count": 25,
   "id": "c00b44cf",
   "metadata": {},
   "outputs": [],
   "source": [
    "#%% create and fit a polynomial feature creator\n",
    "#degree: int or tuple (min_degree, max_degree), default=2\n",
    "#If a single int is given, it specifies the maximal degree of the polynomial features. \n",
    "#If a tuple (min_degree, max_degree) is passed, then min_degree is the minimum and max_degree is the maximum \n",
    "#polynomial degree of the generated features. Note that min_degree=0 and min_degree=1 are equivalent as \n",
    "#outputting the degree zero term is determined by include_bias.\n",
    "\n",
    "#interaction_only: bool, default=False\n",
    "#If True, only interaction features are produced: features that are products of at most degree distinct input features, \n",
    "#i.e. terms with power of 2 or higher of the same input feature are excluded:\n",
    "\n",
    "#included: x[0], x[1], x[0] * x[1], etc.\n",
    "\n",
    "#excluded: x[0] ** 2, x[0] ** 2 * x[1], etc.\n",
    "\n",
    "#include_bias: bool, default=True\n",
    "#If True (default), then include a bias column, the feature in which all polynomial powers are zero \n",
    "#(i.e. a column of ones - acts as an intercept term in a linear model).\n",
    "\n",
    "pf =  PolynomialFeatures(degree = 2, interaction_only=True, include_bias = False).fit(TDF[['Number-occupants', 'Consumption']])\n"
   ]
  },
  {
   "cell_type": "code",
   "execution_count": 26,
   "id": "99b0f963",
   "metadata": {},
   "outputs": [],
   "source": [
    "#%% apply the polynomial feature creator to the data\n",
    "int_feat = pf.transform(TDF[['Number-occupants',  'Consumption']])"
   ]
  },
  {
   "cell_type": "code",
   "execution_count": 27,
   "id": "f16cee7e",
   "metadata": {},
   "outputs": [
    {
     "name": "stdout",
     "output_type": "stream",
     "text": [
      "[[  2.  70. 140.]\n",
      " [  4. 140. 560.]\n",
      " [  2.  65. 130.]\n",
      " [  1.  40.  40.]\n",
      " [  2.  65. 130.]]\n"
     ]
    }
   ],
   "source": [
    "print(int_feat)"
   ]
  },
  {
   "cell_type": "code",
   "execution_count": 28,
   "id": "f82aeabc",
   "metadata": {},
   "outputs": [],
   "source": [
    "#%%\n",
    "# convert the generated interaction feature array\n",
    "# to a dataframe\n",
    "int_feat = pd.DataFrame(int_feat, columns=['Number-occupants', 'Consumption', 'nOcc_x_Conspt'])\n",
    "\n",
    "#%% append generated interaction feature to dataframe\n",
    "TDF = pd.concat([TDF, int_feat], axis=1)"
   ]
  },
  {
   "cell_type": "code",
   "execution_count": 29,
   "id": "956e2539",
   "metadata": {},
   "outputs": [
    {
     "data": {
      "text/html": [
       "<div>\n",
       "<style scoped>\n",
       "    .dataframe tbody tr th:only-of-type {\n",
       "        vertical-align: middle;\n",
       "    }\n",
       "\n",
       "    .dataframe tbody tr th {\n",
       "        vertical-align: top;\n",
       "    }\n",
       "\n",
       "    .dataframe thead th {\n",
       "        text-align: right;\n",
       "    }\n",
       "</style>\n",
       "<table border=\"1\" class=\"dataframe\">\n",
       "  <thead>\n",
       "    <tr style=\"text-align: right;\">\n",
       "      <th></th>\n",
       "      <th>Customer-ID</th>\n",
       "      <th>Gender</th>\n",
       "      <th>Work-type</th>\n",
       "      <th>Client-satisfaction</th>\n",
       "      <th>Number-occupants</th>\n",
       "      <th>Consumption</th>\n",
       "      <th>Number-occupants</th>\n",
       "      <th>Consumption</th>\n",
       "      <th>nOcc_x_Conspt</th>\n",
       "    </tr>\n",
       "  </thead>\n",
       "  <tbody>\n",
       "    <tr>\n",
       "      <th>0</th>\n",
       "      <td>1</td>\n",
       "      <td>M</td>\n",
       "      <td>1</td>\n",
       "      <td>3</td>\n",
       "      <td>2</td>\n",
       "      <td>70</td>\n",
       "      <td>2.0</td>\n",
       "      <td>70.0</td>\n",
       "      <td>140.0</td>\n",
       "    </tr>\n",
       "    <tr>\n",
       "      <th>1</th>\n",
       "      <td>2</td>\n",
       "      <td>F</td>\n",
       "      <td>2</td>\n",
       "      <td>0</td>\n",
       "      <td>4</td>\n",
       "      <td>140</td>\n",
       "      <td>4.0</td>\n",
       "      <td>140.0</td>\n",
       "      <td>560.0</td>\n",
       "    </tr>\n",
       "    <tr>\n",
       "      <th>2</th>\n",
       "      <td>3</td>\n",
       "      <td>M</td>\n",
       "      <td>2</td>\n",
       "      <td>4</td>\n",
       "      <td>2</td>\n",
       "      <td>65</td>\n",
       "      <td>2.0</td>\n",
       "      <td>65.0</td>\n",
       "      <td>130.0</td>\n",
       "    </tr>\n",
       "    <tr>\n",
       "      <th>3</th>\n",
       "      <td>4</td>\n",
       "      <td>F</td>\n",
       "      <td>3</td>\n",
       "      <td>3</td>\n",
       "      <td>1</td>\n",
       "      <td>40</td>\n",
       "      <td>1.0</td>\n",
       "      <td>40.0</td>\n",
       "      <td>40.0</td>\n",
       "    </tr>\n",
       "    <tr>\n",
       "      <th>4</th>\n",
       "      <td>5</td>\n",
       "      <td>F</td>\n",
       "      <td>3</td>\n",
       "      <td>5</td>\n",
       "      <td>2</td>\n",
       "      <td>65</td>\n",
       "      <td>2.0</td>\n",
       "      <td>65.0</td>\n",
       "      <td>130.0</td>\n",
       "    </tr>\n",
       "  </tbody>\n",
       "</table>\n",
       "</div>"
      ],
      "text/plain": [
       "   Customer-ID Gender  Work-type  Client-satisfaction  Number-occupants  \\\n",
       "0            1      M          1                    3                 2   \n",
       "1            2      F          2                    0                 4   \n",
       "2            3      M          2                    4                 2   \n",
       "3            4      F          3                    3                 1   \n",
       "4            5      F          3                    5                 2   \n",
       "\n",
       "   Consumption  Number-occupants  Consumption  nOcc_x_Conspt  \n",
       "0           70               2.0         70.0          140.0  \n",
       "1          140               4.0        140.0          560.0  \n",
       "2           65               2.0         65.0          130.0  \n",
       "3           40               1.0         40.0           40.0  \n",
       "4           65               2.0         65.0          130.0  "
      ]
     },
     "execution_count": 29,
     "metadata": {},
     "output_type": "execute_result"
    }
   ],
   "source": [
    "TDF"
   ]
  },
  {
   "cell_type": "markdown",
   "id": "ff1f7af7",
   "metadata": {},
   "source": [
    "## 2 Categorical Features"
   ]
  },
  {
   "cell_type": "markdown",
   "id": "1e0fad16",
   "metadata": {},
   "source": [
    "### 2.1 Feature Cleaning (Imputing Missing Values)"
   ]
  },
  {
   "cell_type": "code",
   "execution_count": 30,
   "id": "1fbcbff1",
   "metadata": {},
   "outputs": [],
   "source": [
    "# Categorical feature imputation\n",
    "\n",
    "#%% import libraries\n",
    "import pandas as pd"
   ]
  },
  {
   "cell_type": "code",
   "execution_count": 31,
   "id": "32ac36ea",
   "metadata": {},
   "outputs": [],
   "source": [
    "#%% generate sample data\n",
    "Table = { \\\n",
    "    'Customer-ID': [1, 2, 3, 4, 5], \\\n",
    "    'Gender':['M', pd.NA, 'M', 'F', 'F'], \\\n",
    "    'Work-type': [1, 2, 2, 3, 3], \\\n",
    "    'Client-satisfaction':[3, 0, 4, 3, 5], \\\n",
    "    'Number-occupants': [2, 4, 2, 1, 2], \\\n",
    "    'Consumption': [70, 140, 65, 40, 65]}\n",
    "TDF = pd.DataFrame(data=Table)"
   ]
  },
  {
   "cell_type": "code",
   "execution_count": 32,
   "id": "cc664544",
   "metadata": {},
   "outputs": [
    {
     "data": {
      "text/html": [
       "<div>\n",
       "<style scoped>\n",
       "    .dataframe tbody tr th:only-of-type {\n",
       "        vertical-align: middle;\n",
       "    }\n",
       "\n",
       "    .dataframe tbody tr th {\n",
       "        vertical-align: top;\n",
       "    }\n",
       "\n",
       "    .dataframe thead th {\n",
       "        text-align: right;\n",
       "    }\n",
       "</style>\n",
       "<table border=\"1\" class=\"dataframe\">\n",
       "  <thead>\n",
       "    <tr style=\"text-align: right;\">\n",
       "      <th></th>\n",
       "      <th>Customer-ID</th>\n",
       "      <th>Gender</th>\n",
       "      <th>Work-type</th>\n",
       "      <th>Client-satisfaction</th>\n",
       "      <th>Number-occupants</th>\n",
       "      <th>Consumption</th>\n",
       "    </tr>\n",
       "  </thead>\n",
       "  <tbody>\n",
       "    <tr>\n",
       "      <th>0</th>\n",
       "      <td>1</td>\n",
       "      <td>M</td>\n",
       "      <td>1</td>\n",
       "      <td>3</td>\n",
       "      <td>2</td>\n",
       "      <td>70</td>\n",
       "    </tr>\n",
       "    <tr>\n",
       "      <th>1</th>\n",
       "      <td>2</td>\n",
       "      <td>&lt;NA&gt;</td>\n",
       "      <td>2</td>\n",
       "      <td>0</td>\n",
       "      <td>4</td>\n",
       "      <td>140</td>\n",
       "    </tr>\n",
       "    <tr>\n",
       "      <th>2</th>\n",
       "      <td>3</td>\n",
       "      <td>M</td>\n",
       "      <td>2</td>\n",
       "      <td>4</td>\n",
       "      <td>2</td>\n",
       "      <td>65</td>\n",
       "    </tr>\n",
       "    <tr>\n",
       "      <th>3</th>\n",
       "      <td>4</td>\n",
       "      <td>F</td>\n",
       "      <td>3</td>\n",
       "      <td>3</td>\n",
       "      <td>1</td>\n",
       "      <td>40</td>\n",
       "    </tr>\n",
       "    <tr>\n",
       "      <th>4</th>\n",
       "      <td>5</td>\n",
       "      <td>F</td>\n",
       "      <td>3</td>\n",
       "      <td>5</td>\n",
       "      <td>2</td>\n",
       "      <td>65</td>\n",
       "    </tr>\n",
       "  </tbody>\n",
       "</table>\n",
       "</div>"
      ],
      "text/plain": [
       "   Customer-ID Gender  Work-type  Client-satisfaction  Number-occupants  \\\n",
       "0            1      M          1                    3                 2   \n",
       "1            2   <NA>          2                    0                 4   \n",
       "2            3      M          2                    4                 2   \n",
       "3            4      F          3                    3                 1   \n",
       "4            5      F          3                    5                 2   \n",
       "\n",
       "   Consumption  \n",
       "0           70  \n",
       "1          140  \n",
       "2           65  \n",
       "3           40  \n",
       "4           65  "
      ]
     },
     "execution_count": 32,
     "metadata": {},
     "output_type": "execute_result"
    }
   ],
   "source": [
    "TDF"
   ]
  },
  {
   "cell_type": "code",
   "execution_count": 34,
   "id": "33aa0d3a",
   "metadata": {},
   "outputs": [
    {
     "name": "stdout",
     "output_type": "stream",
     "text": [
      "Customer-ID            0\n",
      "Gender                 1\n",
      "Work-type              0\n",
      "Client-satisfaction    0\n",
      "Number-occupants       0\n",
      "Consumption            0\n",
      "dtype: int64\n"
     ]
    }
   ],
   "source": [
    "#%% print the number of missing values per column\n",
    "print(TDF.isnull().sum())"
   ]
  },
  {
   "cell_type": "code",
   "execution_count": 35,
   "id": "14d45786",
   "metadata": {},
   "outputs": [
    {
     "name": "stdout",
     "output_type": "stream",
     "text": [
      "Customer-ID            0\n",
      "Gender                 0\n",
      "Work-type              0\n",
      "Client-satisfaction    0\n",
      "Number-occupants       0\n",
      "Consumption            0\n",
      "dtype: int64\n"
     ]
    }
   ],
   "source": [
    "#%% simple imputation by mode\n",
    "TDF = TDF.fillna(TDF['Gender'].value_counts().index[0])\n",
    "print(TDF.isnull().sum())"
   ]
  },
  {
   "cell_type": "code",
   "execution_count": 36,
   "id": "d28256c7",
   "metadata": {},
   "outputs": [
    {
     "data": {
      "text/html": [
       "<div>\n",
       "<style scoped>\n",
       "    .dataframe tbody tr th:only-of-type {\n",
       "        vertical-align: middle;\n",
       "    }\n",
       "\n",
       "    .dataframe tbody tr th {\n",
       "        vertical-align: top;\n",
       "    }\n",
       "\n",
       "    .dataframe thead th {\n",
       "        text-align: right;\n",
       "    }\n",
       "</style>\n",
       "<table border=\"1\" class=\"dataframe\">\n",
       "  <thead>\n",
       "    <tr style=\"text-align: right;\">\n",
       "      <th></th>\n",
       "      <th>Customer-ID</th>\n",
       "      <th>Gender</th>\n",
       "      <th>Work-type</th>\n",
       "      <th>Client-satisfaction</th>\n",
       "      <th>Number-occupants</th>\n",
       "      <th>Consumption</th>\n",
       "    </tr>\n",
       "  </thead>\n",
       "  <tbody>\n",
       "    <tr>\n",
       "      <th>0</th>\n",
       "      <td>1</td>\n",
       "      <td>M</td>\n",
       "      <td>1</td>\n",
       "      <td>3</td>\n",
       "      <td>2</td>\n",
       "      <td>70</td>\n",
       "    </tr>\n",
       "    <tr>\n",
       "      <th>1</th>\n",
       "      <td>2</td>\n",
       "      <td>F</td>\n",
       "      <td>2</td>\n",
       "      <td>0</td>\n",
       "      <td>4</td>\n",
       "      <td>140</td>\n",
       "    </tr>\n",
       "    <tr>\n",
       "      <th>2</th>\n",
       "      <td>3</td>\n",
       "      <td>M</td>\n",
       "      <td>2</td>\n",
       "      <td>4</td>\n",
       "      <td>2</td>\n",
       "      <td>65</td>\n",
       "    </tr>\n",
       "    <tr>\n",
       "      <th>3</th>\n",
       "      <td>4</td>\n",
       "      <td>F</td>\n",
       "      <td>3</td>\n",
       "      <td>3</td>\n",
       "      <td>1</td>\n",
       "      <td>40</td>\n",
       "    </tr>\n",
       "    <tr>\n",
       "      <th>4</th>\n",
       "      <td>5</td>\n",
       "      <td>F</td>\n",
       "      <td>3</td>\n",
       "      <td>5</td>\n",
       "      <td>2</td>\n",
       "      <td>65</td>\n",
       "    </tr>\n",
       "  </tbody>\n",
       "</table>\n",
       "</div>"
      ],
      "text/plain": [
       "   Customer-ID Gender  Work-type  Client-satisfaction  Number-occupants  \\\n",
       "0            1      M          1                    3                 2   \n",
       "1            2      F          2                    0                 4   \n",
       "2            3      M          2                    4                 2   \n",
       "3            4      F          3                    3                 1   \n",
       "4            5      F          3                    5                 2   \n",
       "\n",
       "   Consumption  \n",
       "0           70  \n",
       "1          140  \n",
       "2           65  \n",
       "3           40  \n",
       "4           65  "
      ]
     },
     "execution_count": 36,
     "metadata": {},
     "output_type": "execute_result"
    }
   ],
   "source": [
    "TDF"
   ]
  },
  {
   "cell_type": "markdown",
   "id": "2d78f9c9",
   "metadata": {},
   "source": [
    "### 2.2 Feature Encoding"
   ]
  },
  {
   "cell_type": "markdown",
   "id": "85d395d7",
   "metadata": {},
   "source": [
    "One technique used to convert categorical features into numerical features is label encoding. This alphabetically converts each category in a column to a number between 0 and (the number of categories —1). For this example, the “gender” category will take one of two variables M and F, which will be replaced by 1 and 0, respectively."
   ]
  },
  {
   "cell_type": "code",
   "execution_count": 37,
   "id": "879e4385",
   "metadata": {},
   "outputs": [],
   "source": [
    "# Categorical features encoding\n",
    "\n",
    "#%% import libraries\n",
    "import pandas as pd\n",
    "from sklearn.preprocessing import LabelEncoder"
   ]
  },
  {
   "cell_type": "code",
   "execution_count": 47,
   "id": "d0a973f7",
   "metadata": {},
   "outputs": [],
   "source": [
    "#%% generate sample data\n",
    "Table = { \\\n",
    "    'Customer-ID': [1, 2, 3, 4, 5], \\\n",
    "    'Gender':['M', 'F', 'M', 'F', 'F'], \\\n",
    "    'Work-type': [1, 2, 2, 3, 3], \\\n",
    "    'Client-satisfaction':[3, 0, 4, 3, 5], \\\n",
    "    'Number-occupants': [2, 4, 2, 1, 2], \\\n",
    "    'Consumption': [70, 140, 65, 40, 65]}\n",
    "TDF = pd.DataFrame(data=Table)"
   ]
  },
  {
   "cell_type": "code",
   "execution_count": 48,
   "id": "a2596a46",
   "metadata": {},
   "outputs": [
    {
     "data": {
      "text/html": [
       "<div>\n",
       "<style scoped>\n",
       "    .dataframe tbody tr th:only-of-type {\n",
       "        vertical-align: middle;\n",
       "    }\n",
       "\n",
       "    .dataframe tbody tr th {\n",
       "        vertical-align: top;\n",
       "    }\n",
       "\n",
       "    .dataframe thead th {\n",
       "        text-align: right;\n",
       "    }\n",
       "</style>\n",
       "<table border=\"1\" class=\"dataframe\">\n",
       "  <thead>\n",
       "    <tr style=\"text-align: right;\">\n",
       "      <th></th>\n",
       "      <th>Customer-ID</th>\n",
       "      <th>Gender</th>\n",
       "      <th>Work-type</th>\n",
       "      <th>Client-satisfaction</th>\n",
       "      <th>Number-occupants</th>\n",
       "      <th>Consumption</th>\n",
       "    </tr>\n",
       "  </thead>\n",
       "  <tbody>\n",
       "    <tr>\n",
       "      <th>0</th>\n",
       "      <td>1</td>\n",
       "      <td>M</td>\n",
       "      <td>1</td>\n",
       "      <td>3</td>\n",
       "      <td>2</td>\n",
       "      <td>70</td>\n",
       "    </tr>\n",
       "    <tr>\n",
       "      <th>1</th>\n",
       "      <td>2</td>\n",
       "      <td>F</td>\n",
       "      <td>2</td>\n",
       "      <td>0</td>\n",
       "      <td>4</td>\n",
       "      <td>140</td>\n",
       "    </tr>\n",
       "    <tr>\n",
       "      <th>2</th>\n",
       "      <td>3</td>\n",
       "      <td>M</td>\n",
       "      <td>2</td>\n",
       "      <td>4</td>\n",
       "      <td>2</td>\n",
       "      <td>65</td>\n",
       "    </tr>\n",
       "    <tr>\n",
       "      <th>3</th>\n",
       "      <td>4</td>\n",
       "      <td>F</td>\n",
       "      <td>3</td>\n",
       "      <td>3</td>\n",
       "      <td>1</td>\n",
       "      <td>40</td>\n",
       "    </tr>\n",
       "    <tr>\n",
       "      <th>4</th>\n",
       "      <td>5</td>\n",
       "      <td>F</td>\n",
       "      <td>3</td>\n",
       "      <td>5</td>\n",
       "      <td>2</td>\n",
       "      <td>65</td>\n",
       "    </tr>\n",
       "  </tbody>\n",
       "</table>\n",
       "</div>"
      ],
      "text/plain": [
       "   Customer-ID Gender  Work-type  Client-satisfaction  Number-occupants  \\\n",
       "0            1      M          1                    3                 2   \n",
       "1            2      F          2                    0                 4   \n",
       "2            3      M          2                    4                 2   \n",
       "3            4      F          3                    3                 1   \n",
       "4            5      F          3                    5                 2   \n",
       "\n",
       "   Consumption  \n",
       "0           70  \n",
       "1          140  \n",
       "2           65  \n",
       "3           40  \n",
       "4           65  "
      ]
     },
     "execution_count": 48,
     "metadata": {},
     "output_type": "execute_result"
    }
   ],
   "source": [
    "TDF"
   ]
  },
  {
   "cell_type": "code",
   "execution_count": 49,
   "id": "87c18fd3",
   "metadata": {},
   "outputs": [
    {
     "data": {
      "text/plain": [
       "0    1\n",
       "1    0\n",
       "2    1\n",
       "3    0\n",
       "4    0\n",
       "Name: Gender, dtype: int32"
      ]
     },
     "execution_count": 49,
     "metadata": {},
     "output_type": "execute_result"
    }
   ],
   "source": [
    "#%% \n",
    "# encode the categories in the column\n",
    "# 'Gender' by numbers\n",
    "TDF['Gender'] = LabelEncoder().fit_transform(TDF['Gender'])\n",
    "\n",
    "# show the resulting column\n",
    "TDF['Gender']"
   ]
  },
  {
   "cell_type": "code",
   "execution_count": 50,
   "id": "22bb5a63",
   "metadata": {},
   "outputs": [
    {
     "data": {
      "text/html": [
       "<div>\n",
       "<style scoped>\n",
       "    .dataframe tbody tr th:only-of-type {\n",
       "        vertical-align: middle;\n",
       "    }\n",
       "\n",
       "    .dataframe tbody tr th {\n",
       "        vertical-align: top;\n",
       "    }\n",
       "\n",
       "    .dataframe thead th {\n",
       "        text-align: right;\n",
       "    }\n",
       "</style>\n",
       "<table border=\"1\" class=\"dataframe\">\n",
       "  <thead>\n",
       "    <tr style=\"text-align: right;\">\n",
       "      <th></th>\n",
       "      <th>Customer-ID</th>\n",
       "      <th>Gender</th>\n",
       "      <th>Work-type</th>\n",
       "      <th>Client-satisfaction</th>\n",
       "      <th>Number-occupants</th>\n",
       "      <th>Consumption</th>\n",
       "    </tr>\n",
       "  </thead>\n",
       "  <tbody>\n",
       "    <tr>\n",
       "      <th>0</th>\n",
       "      <td>1</td>\n",
       "      <td>1</td>\n",
       "      <td>1</td>\n",
       "      <td>3</td>\n",
       "      <td>2</td>\n",
       "      <td>70</td>\n",
       "    </tr>\n",
       "    <tr>\n",
       "      <th>1</th>\n",
       "      <td>2</td>\n",
       "      <td>0</td>\n",
       "      <td>2</td>\n",
       "      <td>0</td>\n",
       "      <td>4</td>\n",
       "      <td>140</td>\n",
       "    </tr>\n",
       "    <tr>\n",
       "      <th>2</th>\n",
       "      <td>3</td>\n",
       "      <td>1</td>\n",
       "      <td>2</td>\n",
       "      <td>4</td>\n",
       "      <td>2</td>\n",
       "      <td>65</td>\n",
       "    </tr>\n",
       "    <tr>\n",
       "      <th>3</th>\n",
       "      <td>4</td>\n",
       "      <td>0</td>\n",
       "      <td>3</td>\n",
       "      <td>3</td>\n",
       "      <td>1</td>\n",
       "      <td>40</td>\n",
       "    </tr>\n",
       "    <tr>\n",
       "      <th>4</th>\n",
       "      <td>5</td>\n",
       "      <td>0</td>\n",
       "      <td>3</td>\n",
       "      <td>5</td>\n",
       "      <td>2</td>\n",
       "      <td>65</td>\n",
       "    </tr>\n",
       "  </tbody>\n",
       "</table>\n",
       "</div>"
      ],
      "text/plain": [
       "   Customer-ID  Gender  Work-type  Client-satisfaction  Number-occupants  \\\n",
       "0            1       1          1                    3                 2   \n",
       "1            2       0          2                    0                 4   \n",
       "2            3       1          2                    4                 2   \n",
       "3            4       0          3                    3                 1   \n",
       "4            5       0          3                    5                 2   \n",
       "\n",
       "   Consumption  \n",
       "0           70  \n",
       "1          140  \n",
       "2           65  \n",
       "3           40  \n",
       "4           65  "
      ]
     },
     "execution_count": 50,
     "metadata": {},
     "output_type": "execute_result"
    }
   ],
   "source": [
    "TDF"
   ]
  },
  {
   "cell_type": "code",
   "execution_count": 45,
   "id": "6cb71bfb",
   "metadata": {},
   "outputs": [
    {
     "name": "stdout",
     "output_type": "stream",
     "text": [
      "Customer-ID             int64\n",
      "Gender                 object\n",
      "Work-type               int64\n",
      "Client-satisfaction     int64\n",
      "Number-occupants        int64\n",
      "Consumption             int64\n",
      "dtype: object\n"
     ]
    }
   ],
   "source": [
    "#%% one-hot-encoding\n",
    "TDF = pd.DataFrame(data=Table)\n",
    "\n",
    "print(TDF.dtypes)"
   ]
  },
  {
   "cell_type": "code",
   "execution_count": 46,
   "id": "50e53c54",
   "metadata": {},
   "outputs": [
    {
     "data": {
      "text/html": [
       "<div>\n",
       "<style scoped>\n",
       "    .dataframe tbody tr th:only-of-type {\n",
       "        vertical-align: middle;\n",
       "    }\n",
       "\n",
       "    .dataframe tbody tr th {\n",
       "        vertical-align: top;\n",
       "    }\n",
       "\n",
       "    .dataframe thead th {\n",
       "        text-align: right;\n",
       "    }\n",
       "</style>\n",
       "<table border=\"1\" class=\"dataframe\">\n",
       "  <thead>\n",
       "    <tr style=\"text-align: right;\">\n",
       "      <th></th>\n",
       "      <th>Customer-ID</th>\n",
       "      <th>Gender</th>\n",
       "      <th>Work-type</th>\n",
       "      <th>Client-satisfaction</th>\n",
       "      <th>Number-occupants</th>\n",
       "      <th>Consumption</th>\n",
       "    </tr>\n",
       "  </thead>\n",
       "  <tbody>\n",
       "    <tr>\n",
       "      <th>0</th>\n",
       "      <td>1</td>\n",
       "      <td>M</td>\n",
       "      <td>1</td>\n",
       "      <td>3</td>\n",
       "      <td>2</td>\n",
       "      <td>70</td>\n",
       "    </tr>\n",
       "    <tr>\n",
       "      <th>1</th>\n",
       "      <td>2</td>\n",
       "      <td>F</td>\n",
       "      <td>2</td>\n",
       "      <td>0</td>\n",
       "      <td>4</td>\n",
       "      <td>140</td>\n",
       "    </tr>\n",
       "    <tr>\n",
       "      <th>2</th>\n",
       "      <td>3</td>\n",
       "      <td>M</td>\n",
       "      <td>2</td>\n",
       "      <td>4</td>\n",
       "      <td>2</td>\n",
       "      <td>65</td>\n",
       "    </tr>\n",
       "    <tr>\n",
       "      <th>3</th>\n",
       "      <td>4</td>\n",
       "      <td>F</td>\n",
       "      <td>3</td>\n",
       "      <td>3</td>\n",
       "      <td>1</td>\n",
       "      <td>40</td>\n",
       "    </tr>\n",
       "    <tr>\n",
       "      <th>4</th>\n",
       "      <td>5</td>\n",
       "      <td>F</td>\n",
       "      <td>3</td>\n",
       "      <td>5</td>\n",
       "      <td>2</td>\n",
       "      <td>65</td>\n",
       "    </tr>\n",
       "  </tbody>\n",
       "</table>\n",
       "</div>"
      ],
      "text/plain": [
       "   Customer-ID Gender  Work-type  Client-satisfaction  Number-occupants  \\\n",
       "0            1      M          1                    3                 2   \n",
       "1            2      F          2                    0                 4   \n",
       "2            3      M          2                    4                 2   \n",
       "3            4      F          3                    3                 1   \n",
       "4            5      F          3                    5                 2   \n",
       "\n",
       "   Consumption  \n",
       "0           70  \n",
       "1          140  \n",
       "2           65  \n",
       "3           40  \n",
       "4           65  "
      ]
     },
     "execution_count": 46,
     "metadata": {},
     "output_type": "execute_result"
    }
   ],
   "source": [
    "TDF"
   ]
  },
  {
   "cell_type": "code",
   "execution_count": 51,
   "id": "c23c1931",
   "metadata": {},
   "outputs": [
    {
     "name": "stdout",
     "output_type": "stream",
     "text": [
      "Customer-ID             int64\n",
      "Gender                  int32\n",
      "Work-type              object\n",
      "Client-satisfaction    object\n",
      "Number-occupants        int64\n",
      "Consumption             int64\n",
      "dtype: object\n"
     ]
    }
   ],
   "source": [
    "#%% specify categorical columns as text\n",
    "TDF['Work-type'] = TDF['Work-type'].astype(str)\n",
    "TDF['Client-satisfaction'] = TDF['Client-satisfaction'].astype(str)\n",
    "print(TDF.dtypes)"
   ]
  },
  {
   "cell_type": "code",
   "execution_count": 52,
   "id": "8bde5505",
   "metadata": {},
   "outputs": [],
   "source": [
    "#%% one-hot-encode categorical features\n",
    "TDF_1hot = pd.get_dummies(TDF)"
   ]
  },
  {
   "cell_type": "code",
   "execution_count": 53,
   "id": "ed50336a",
   "metadata": {},
   "outputs": [
    {
     "data": {
      "text/html": [
       "<div>\n",
       "<style scoped>\n",
       "    .dataframe tbody tr th:only-of-type {\n",
       "        vertical-align: middle;\n",
       "    }\n",
       "\n",
       "    .dataframe tbody tr th {\n",
       "        vertical-align: top;\n",
       "    }\n",
       "\n",
       "    .dataframe thead th {\n",
       "        text-align: right;\n",
       "    }\n",
       "</style>\n",
       "<table border=\"1\" class=\"dataframe\">\n",
       "  <thead>\n",
       "    <tr style=\"text-align: right;\">\n",
       "      <th></th>\n",
       "      <th>Customer-ID</th>\n",
       "      <th>Gender</th>\n",
       "      <th>Number-occupants</th>\n",
       "      <th>Consumption</th>\n",
       "      <th>Work-type_1</th>\n",
       "      <th>Work-type_2</th>\n",
       "      <th>Work-type_3</th>\n",
       "      <th>Client-satisfaction_0</th>\n",
       "      <th>Client-satisfaction_3</th>\n",
       "      <th>Client-satisfaction_4</th>\n",
       "      <th>Client-satisfaction_5</th>\n",
       "    </tr>\n",
       "  </thead>\n",
       "  <tbody>\n",
       "    <tr>\n",
       "      <th>0</th>\n",
       "      <td>1</td>\n",
       "      <td>1</td>\n",
       "      <td>2</td>\n",
       "      <td>70</td>\n",
       "      <td>1</td>\n",
       "      <td>0</td>\n",
       "      <td>0</td>\n",
       "      <td>0</td>\n",
       "      <td>1</td>\n",
       "      <td>0</td>\n",
       "      <td>0</td>\n",
       "    </tr>\n",
       "    <tr>\n",
       "      <th>1</th>\n",
       "      <td>2</td>\n",
       "      <td>0</td>\n",
       "      <td>4</td>\n",
       "      <td>140</td>\n",
       "      <td>0</td>\n",
       "      <td>1</td>\n",
       "      <td>0</td>\n",
       "      <td>1</td>\n",
       "      <td>0</td>\n",
       "      <td>0</td>\n",
       "      <td>0</td>\n",
       "    </tr>\n",
       "    <tr>\n",
       "      <th>2</th>\n",
       "      <td>3</td>\n",
       "      <td>1</td>\n",
       "      <td>2</td>\n",
       "      <td>65</td>\n",
       "      <td>0</td>\n",
       "      <td>1</td>\n",
       "      <td>0</td>\n",
       "      <td>0</td>\n",
       "      <td>0</td>\n",
       "      <td>1</td>\n",
       "      <td>0</td>\n",
       "    </tr>\n",
       "    <tr>\n",
       "      <th>3</th>\n",
       "      <td>4</td>\n",
       "      <td>0</td>\n",
       "      <td>1</td>\n",
       "      <td>40</td>\n",
       "      <td>0</td>\n",
       "      <td>0</td>\n",
       "      <td>1</td>\n",
       "      <td>0</td>\n",
       "      <td>1</td>\n",
       "      <td>0</td>\n",
       "      <td>0</td>\n",
       "    </tr>\n",
       "    <tr>\n",
       "      <th>4</th>\n",
       "      <td>5</td>\n",
       "      <td>0</td>\n",
       "      <td>2</td>\n",
       "      <td>65</td>\n",
       "      <td>0</td>\n",
       "      <td>0</td>\n",
       "      <td>1</td>\n",
       "      <td>0</td>\n",
       "      <td>0</td>\n",
       "      <td>0</td>\n",
       "      <td>1</td>\n",
       "    </tr>\n",
       "  </tbody>\n",
       "</table>\n",
       "</div>"
      ],
      "text/plain": [
       "   Customer-ID  Gender  Number-occupants  Consumption  Work-type_1  \\\n",
       "0            1       1                 2           70            1   \n",
       "1            2       0                 4          140            0   \n",
       "2            3       1                 2           65            0   \n",
       "3            4       0                 1           40            0   \n",
       "4            5       0                 2           65            0   \n",
       "\n",
       "   Work-type_2  Work-type_3  Client-satisfaction_0  Client-satisfaction_3  \\\n",
       "0            0            0                      0                      1   \n",
       "1            1            0                      1                      0   \n",
       "2            1            0                      0                      0   \n",
       "3            0            1                      0                      1   \n",
       "4            0            1                      0                      0   \n",
       "\n",
       "   Client-satisfaction_4  Client-satisfaction_5  \n",
       "0                      0                      0  \n",
       "1                      0                      0  \n",
       "2                      1                      0  \n",
       "3                      0                      0  \n",
       "4                      0                      1  "
      ]
     },
     "execution_count": 53,
     "metadata": {},
     "output_type": "execute_result"
    }
   ],
   "source": [
    "TDF_1hot"
   ]
  },
  {
   "cell_type": "code",
   "execution_count": 54,
   "id": "3ab69f87",
   "metadata": {},
   "outputs": [
    {
     "name": "stdout",
     "output_type": "stream",
     "text": [
      "['Customer-ID', 'Gender', 'Number-occupants', 'Consumption', 'Work-type_1', 'Work-type_2', 'Work-type_3', 'Client-satisfaction_0', 'Client-satisfaction_3', 'Client-satisfaction_4', 'Client-satisfaction_5']\n"
     ]
    }
   ],
   "source": [
    "print(list(TDF_1hot.columns))"
   ]
  },
  {
   "cell_type": "markdown",
   "id": "f217dfa9",
   "metadata": {},
   "source": [
    "### 2.3 Feature Generation"
   ]
  },
  {
   "cell_type": "markdown",
   "id": "3eb05cdb",
   "metadata": {},
   "source": [
    "#### 2.3.1 Feature splitting or spreading\n",
    "Splitting, or spreading, features in order to extract useful features from raw and irrelevant features"
   ]
  },
  {
   "cell_type": "code",
   "execution_count": 55,
   "id": "795f9bf2",
   "metadata": {},
   "outputs": [],
   "source": [
    "# Categorical features generation\n",
    "\n",
    "#%% import libraries\n",
    "import pandas as pd\n",
    "import numpy as np"
   ]
  },
  {
   "cell_type": "code",
   "execution_count": 56,
   "id": "9c17e392",
   "metadata": {},
   "outputs": [],
   "source": [
    "#%% generate sample data\n",
    "Table = { \\\n",
    "    'Customer-ID': [1, 2, 3, 4, 5], \\\n",
    "    'Names': [ \\\n",
    "        'Joe B. BARBY 12-05-2019', \\\n",
    "        'Juliette KARB 18-08-2018', \\\n",
    "        'Lucien VAN 05-07-2017', \\\n",
    "        'Danielle G. REB 03-09-2020', \\\n",
    "        'Lydia HAM 09-07-2018'], \\\n",
    "    'Gender': ['M', 'F', 'M', 'F', 'F'], \\\n",
    "    'Work-type': [1, 2, 2, 3, 3], \\\n",
    "    'Client-satisfaction': [3, 0, 4, 3, 5], \\\n",
    "    'Number-occupants': [2, 4, 2, 1, 2], \\\n",
    "    'Consumption': [70, 140, 65, 40, 65]}\n",
    "TDF = pd.DataFrame(data=Table)"
   ]
  },
  {
   "cell_type": "code",
   "execution_count": 77,
   "id": "2e4c8afc",
   "metadata": {},
   "outputs": [
    {
     "data": {
      "text/html": [
       "<div>\n",
       "<style scoped>\n",
       "    .dataframe tbody tr th:only-of-type {\n",
       "        vertical-align: middle;\n",
       "    }\n",
       "\n",
       "    .dataframe tbody tr th {\n",
       "        vertical-align: top;\n",
       "    }\n",
       "\n",
       "    .dataframe thead th {\n",
       "        text-align: right;\n",
       "    }\n",
       "</style>\n",
       "<table border=\"1\" class=\"dataframe\">\n",
       "  <thead>\n",
       "    <tr style=\"text-align: right;\">\n",
       "      <th></th>\n",
       "      <th>Customer-ID</th>\n",
       "      <th>Names</th>\n",
       "      <th>Gender</th>\n",
       "      <th>Work-type</th>\n",
       "      <th>Client-satisfaction</th>\n",
       "      <th>Number-occupants</th>\n",
       "      <th>Consumption</th>\n",
       "    </tr>\n",
       "  </thead>\n",
       "  <tbody>\n",
       "    <tr>\n",
       "      <th>0</th>\n",
       "      <td>1</td>\n",
       "      <td>Joe B. BARBY 12-05-2019</td>\n",
       "      <td>M</td>\n",
       "      <td>1</td>\n",
       "      <td>3</td>\n",
       "      <td>2</td>\n",
       "      <td>70</td>\n",
       "    </tr>\n",
       "    <tr>\n",
       "      <th>1</th>\n",
       "      <td>2</td>\n",
       "      <td>Juliette KARB 18-08-2018</td>\n",
       "      <td>F</td>\n",
       "      <td>2</td>\n",
       "      <td>0</td>\n",
       "      <td>4</td>\n",
       "      <td>140</td>\n",
       "    </tr>\n",
       "    <tr>\n",
       "      <th>2</th>\n",
       "      <td>3</td>\n",
       "      <td>Lucien VAN 05-07-2017</td>\n",
       "      <td>M</td>\n",
       "      <td>2</td>\n",
       "      <td>4</td>\n",
       "      <td>2</td>\n",
       "      <td>65</td>\n",
       "    </tr>\n",
       "    <tr>\n",
       "      <th>3</th>\n",
       "      <td>4</td>\n",
       "      <td>Danielle G. REB 03-09-2020</td>\n",
       "      <td>F</td>\n",
       "      <td>3</td>\n",
       "      <td>3</td>\n",
       "      <td>1</td>\n",
       "      <td>40</td>\n",
       "    </tr>\n",
       "    <tr>\n",
       "      <th>4</th>\n",
       "      <td>5</td>\n",
       "      <td>Lydia HAM 09-07-2018</td>\n",
       "      <td>F</td>\n",
       "      <td>3</td>\n",
       "      <td>5</td>\n",
       "      <td>2</td>\n",
       "      <td>65</td>\n",
       "    </tr>\n",
       "  </tbody>\n",
       "</table>\n",
       "</div>"
      ],
      "text/plain": [
       "   Customer-ID                       Names Gender  Work-type  \\\n",
       "0            1     Joe B. BARBY 12-05-2019      M          1   \n",
       "1            2    Juliette KARB 18-08-2018      F          2   \n",
       "2            3       Lucien VAN 05-07-2017      M          2   \n",
       "3            4  Danielle G. REB 03-09-2020      F          3   \n",
       "4            5        Lydia HAM 09-07-2018      F          3   \n",
       "\n",
       "   Client-satisfaction  Number-occupants  Consumption  \n",
       "0                    3                 2           70  \n",
       "1                    0                 4          140  \n",
       "2                    4                 2           65  \n",
       "3                    3                 1           40  \n",
       "4                    5                 2           65  "
      ]
     },
     "execution_count": 77,
     "metadata": {},
     "output_type": "execute_result"
    }
   ],
   "source": [
    "TDF"
   ]
  },
  {
   "cell_type": "code",
   "execution_count": 78,
   "id": "51fdbc56",
   "metadata": {},
   "outputs": [],
   "source": [
    "## spliting columns\n",
    "\n",
    "# %% split information in one column into three\n",
    "TDF['First-Name'] = TDF.Names.str.split(\" \").\\\n",
    "    map(lambda x: x[0])\n",
    "TDF['Second-Name'] = TDF.Names.str.split(\" \").\\\n",
    "    map(lambda x: x[-2])\n",
    "TDF['Birth-Year'] = TDF.Names.\\\n",
    "    str.split(\"-\", n=2, expand=True)[2]"
   ]
  },
  {
   "cell_type": "code",
   "execution_count": 79,
   "id": "32e1626c",
   "metadata": {},
   "outputs": [
    {
     "data": {
      "text/html": [
       "<div>\n",
       "<style scoped>\n",
       "    .dataframe tbody tr th:only-of-type {\n",
       "        vertical-align: middle;\n",
       "    }\n",
       "\n",
       "    .dataframe tbody tr th {\n",
       "        vertical-align: top;\n",
       "    }\n",
       "\n",
       "    .dataframe thead th {\n",
       "        text-align: right;\n",
       "    }\n",
       "</style>\n",
       "<table border=\"1\" class=\"dataframe\">\n",
       "  <thead>\n",
       "    <tr style=\"text-align: right;\">\n",
       "      <th></th>\n",
       "      <th>Customer-ID</th>\n",
       "      <th>Names</th>\n",
       "      <th>Gender</th>\n",
       "      <th>Work-type</th>\n",
       "      <th>Client-satisfaction</th>\n",
       "      <th>Number-occupants</th>\n",
       "      <th>Consumption</th>\n",
       "      <th>First-Name</th>\n",
       "      <th>Second-Name</th>\n",
       "      <th>Birth-Year</th>\n",
       "    </tr>\n",
       "  </thead>\n",
       "  <tbody>\n",
       "    <tr>\n",
       "      <th>0</th>\n",
       "      <td>1</td>\n",
       "      <td>Joe B. BARBY 12-05-2019</td>\n",
       "      <td>M</td>\n",
       "      <td>1</td>\n",
       "      <td>3</td>\n",
       "      <td>2</td>\n",
       "      <td>70</td>\n",
       "      <td>Joe</td>\n",
       "      <td>BARBY</td>\n",
       "      <td>2019</td>\n",
       "    </tr>\n",
       "    <tr>\n",
       "      <th>1</th>\n",
       "      <td>2</td>\n",
       "      <td>Juliette KARB 18-08-2018</td>\n",
       "      <td>F</td>\n",
       "      <td>2</td>\n",
       "      <td>0</td>\n",
       "      <td>4</td>\n",
       "      <td>140</td>\n",
       "      <td>Juliette</td>\n",
       "      <td>KARB</td>\n",
       "      <td>2018</td>\n",
       "    </tr>\n",
       "    <tr>\n",
       "      <th>2</th>\n",
       "      <td>3</td>\n",
       "      <td>Lucien VAN 05-07-2017</td>\n",
       "      <td>M</td>\n",
       "      <td>2</td>\n",
       "      <td>4</td>\n",
       "      <td>2</td>\n",
       "      <td>65</td>\n",
       "      <td>Lucien</td>\n",
       "      <td>VAN</td>\n",
       "      <td>2017</td>\n",
       "    </tr>\n",
       "    <tr>\n",
       "      <th>3</th>\n",
       "      <td>4</td>\n",
       "      <td>Danielle G. REB 03-09-2020</td>\n",
       "      <td>F</td>\n",
       "      <td>3</td>\n",
       "      <td>3</td>\n",
       "      <td>1</td>\n",
       "      <td>40</td>\n",
       "      <td>Danielle</td>\n",
       "      <td>REB</td>\n",
       "      <td>2020</td>\n",
       "    </tr>\n",
       "    <tr>\n",
       "      <th>4</th>\n",
       "      <td>5</td>\n",
       "      <td>Lydia HAM 09-07-2018</td>\n",
       "      <td>F</td>\n",
       "      <td>3</td>\n",
       "      <td>5</td>\n",
       "      <td>2</td>\n",
       "      <td>65</td>\n",
       "      <td>Lydia</td>\n",
       "      <td>HAM</td>\n",
       "      <td>2018</td>\n",
       "    </tr>\n",
       "  </tbody>\n",
       "</table>\n",
       "</div>"
      ],
      "text/plain": [
       "   Customer-ID                       Names Gender  Work-type  \\\n",
       "0            1     Joe B. BARBY 12-05-2019      M          1   \n",
       "1            2    Juliette KARB 18-08-2018      F          2   \n",
       "2            3       Lucien VAN 05-07-2017      M          2   \n",
       "3            4  Danielle G. REB 03-09-2020      F          3   \n",
       "4            5        Lydia HAM 09-07-2018      F          3   \n",
       "\n",
       "   Client-satisfaction  Number-occupants  Consumption First-Name Second-Name  \\\n",
       "0                    3                 2           70        Joe       BARBY   \n",
       "1                    0                 4          140   Juliette        KARB   \n",
       "2                    4                 2           65     Lucien         VAN   \n",
       "3                    3                 1           40   Danielle         REB   \n",
       "4                    5                 2           65      Lydia         HAM   \n",
       "\n",
       "  Birth-Year  \n",
       "0       2019  \n",
       "1       2018  \n",
       "2       2017  \n",
       "3       2020  \n",
       "4       2018  "
      ]
     },
     "execution_count": 79,
     "metadata": {},
     "output_type": "execute_result"
    }
   ],
   "source": [
    "TDF"
   ]
  },
  {
   "cell_type": "markdown",
   "id": "3a2ba054",
   "metadata": {},
   "source": [
    "#### 2.3.2 Feature grouping\n",
    "Multiple rows may represent the same data point. Therefore, it is important to convert an untidy dataset to a tidy dataset. This can be achieved using group-by operations through deciding the aggregation function (sum, mean, max, and min, etc.)."
   ]
  },
  {
   "cell_type": "code",
   "execution_count": 80,
   "id": "916541af",
   "metadata": {},
   "outputs": [],
   "source": [
    "#%% generate sample data\n",
    "dat_tidy = pd.DataFrame({'Customer-ID': [1, 2, 3], \\\n",
    "    'Gender': ['M', 'F', 'M']})\n",
    "dat_non_tidy = pd.DataFrame(\\\n",
    "    {'Customer-ID': [1, 2, 3, 2, 3, 1],\n",
    "     'Consumption': [70, 50, 65, 57, 69, 73]})"
   ]
  },
  {
   "cell_type": "code",
   "execution_count": 81,
   "id": "3a41d5bd",
   "metadata": {},
   "outputs": [
    {
     "data": {
      "text/html": [
       "<div>\n",
       "<style scoped>\n",
       "    .dataframe tbody tr th:only-of-type {\n",
       "        vertical-align: middle;\n",
       "    }\n",
       "\n",
       "    .dataframe tbody tr th {\n",
       "        vertical-align: top;\n",
       "    }\n",
       "\n",
       "    .dataframe thead th {\n",
       "        text-align: right;\n",
       "    }\n",
       "</style>\n",
       "<table border=\"1\" class=\"dataframe\">\n",
       "  <thead>\n",
       "    <tr style=\"text-align: right;\">\n",
       "      <th></th>\n",
       "      <th>Customer-ID</th>\n",
       "      <th>Gender</th>\n",
       "    </tr>\n",
       "  </thead>\n",
       "  <tbody>\n",
       "    <tr>\n",
       "      <th>0</th>\n",
       "      <td>1</td>\n",
       "      <td>M</td>\n",
       "    </tr>\n",
       "    <tr>\n",
       "      <th>1</th>\n",
       "      <td>2</td>\n",
       "      <td>F</td>\n",
       "    </tr>\n",
       "    <tr>\n",
       "      <th>2</th>\n",
       "      <td>3</td>\n",
       "      <td>M</td>\n",
       "    </tr>\n",
       "  </tbody>\n",
       "</table>\n",
       "</div>"
      ],
      "text/plain": [
       "   Customer-ID Gender\n",
       "0            1      M\n",
       "1            2      F\n",
       "2            3      M"
      ]
     },
     "execution_count": 81,
     "metadata": {},
     "output_type": "execute_result"
    }
   ],
   "source": [
    "dat_tidy"
   ]
  },
  {
   "cell_type": "code",
   "execution_count": 82,
   "id": "10d5e0a2",
   "metadata": {},
   "outputs": [
    {
     "data": {
      "text/html": [
       "<div>\n",
       "<style scoped>\n",
       "    .dataframe tbody tr th:only-of-type {\n",
       "        vertical-align: middle;\n",
       "    }\n",
       "\n",
       "    .dataframe tbody tr th {\n",
       "        vertical-align: top;\n",
       "    }\n",
       "\n",
       "    .dataframe thead th {\n",
       "        text-align: right;\n",
       "    }\n",
       "</style>\n",
       "<table border=\"1\" class=\"dataframe\">\n",
       "  <thead>\n",
       "    <tr style=\"text-align: right;\">\n",
       "      <th></th>\n",
       "      <th>Customer-ID</th>\n",
       "      <th>Consumption</th>\n",
       "    </tr>\n",
       "  </thead>\n",
       "  <tbody>\n",
       "    <tr>\n",
       "      <th>0</th>\n",
       "      <td>1</td>\n",
       "      <td>70</td>\n",
       "    </tr>\n",
       "    <tr>\n",
       "      <th>1</th>\n",
       "      <td>2</td>\n",
       "      <td>50</td>\n",
       "    </tr>\n",
       "    <tr>\n",
       "      <th>2</th>\n",
       "      <td>3</td>\n",
       "      <td>65</td>\n",
       "    </tr>\n",
       "    <tr>\n",
       "      <th>3</th>\n",
       "      <td>2</td>\n",
       "      <td>57</td>\n",
       "    </tr>\n",
       "    <tr>\n",
       "      <th>4</th>\n",
       "      <td>3</td>\n",
       "      <td>69</td>\n",
       "    </tr>\n",
       "    <tr>\n",
       "      <th>5</th>\n",
       "      <td>1</td>\n",
       "      <td>73</td>\n",
       "    </tr>\n",
       "  </tbody>\n",
       "</table>\n",
       "</div>"
      ],
      "text/plain": [
       "   Customer-ID  Consumption\n",
       "0            1           70\n",
       "1            2           50\n",
       "2            3           65\n",
       "3            2           57\n",
       "4            3           69\n",
       "5            1           73"
      ]
     },
     "execution_count": 82,
     "metadata": {},
     "output_type": "execute_result"
    }
   ],
   "source": [
    "dat_non_tidy"
   ]
  },
  {
   "cell_type": "code",
   "execution_count": 83,
   "id": "7f76fbca",
   "metadata": {},
   "outputs": [],
   "source": [
    "## aggregation and joining\n",
    "\n",
    "#%% aggregate consumption per customer\n",
    "dat = dat_non_tidy.groupby('Customer-ID')['Consumption'].\\\n",
    "    agg(['sum'])\n",
    "\n",
    "# rename column\n",
    "dat.columns = ['Sum-Consumption']\n",
    "\n",
    "# join tables\n",
    "dat = dat_tidy.merge(dat, left_on='Customer-ID', \\\n",
    "    right_index=True, how='left')"
   ]
  },
  {
   "cell_type": "code",
   "execution_count": 84,
   "id": "802861fa",
   "metadata": {},
   "outputs": [
    {
     "data": {
      "text/html": [
       "<div>\n",
       "<style scoped>\n",
       "    .dataframe tbody tr th:only-of-type {\n",
       "        vertical-align: middle;\n",
       "    }\n",
       "\n",
       "    .dataframe tbody tr th {\n",
       "        vertical-align: top;\n",
       "    }\n",
       "\n",
       "    .dataframe thead th {\n",
       "        text-align: right;\n",
       "    }\n",
       "</style>\n",
       "<table border=\"1\" class=\"dataframe\">\n",
       "  <thead>\n",
       "    <tr style=\"text-align: right;\">\n",
       "      <th></th>\n",
       "      <th>Customer-ID</th>\n",
       "      <th>Gender</th>\n",
       "      <th>Sum-Consumption</th>\n",
       "    </tr>\n",
       "  </thead>\n",
       "  <tbody>\n",
       "    <tr>\n",
       "      <th>0</th>\n",
       "      <td>1</td>\n",
       "      <td>M</td>\n",
       "      <td>143</td>\n",
       "    </tr>\n",
       "    <tr>\n",
       "      <th>1</th>\n",
       "      <td>2</td>\n",
       "      <td>F</td>\n",
       "      <td>107</td>\n",
       "    </tr>\n",
       "    <tr>\n",
       "      <th>2</th>\n",
       "      <td>3</td>\n",
       "      <td>M</td>\n",
       "      <td>134</td>\n",
       "    </tr>\n",
       "  </tbody>\n",
       "</table>\n",
       "</div>"
      ],
      "text/plain": [
       "   Customer-ID Gender  Sum-Consumption\n",
       "0            1      M              143\n",
       "1            2      F              107\n",
       "2            3      M              134"
      ]
     },
     "execution_count": 84,
     "metadata": {},
     "output_type": "execute_result"
    }
   ],
   "source": [
    "# show the resulting table\n",
    "dat"
   ]
  },
  {
   "cell_type": "markdown",
   "id": "c01c0be9",
   "metadata": {},
   "source": [
    "#### 2.3.3 Extracting dates\n",
    "Date columns carry interesting information that machine learning approaches ignore because they combine year, month, and day in the same cell. Therefore, it is useful to extract dates to improve the performance of machine learning methods using one of\n",
    "the following:\n",
    "- extracting the year, month, or day of the date\n",
    "- extracting the elapsed time between the current date and the date in the column\n",
    "- extracting whether the day is a weekday, a weekend, or a holiday"
   ]
  },
  {
   "cell_type": "code",
   "execution_count": 57,
   "id": "cccf19e5",
   "metadata": {},
   "outputs": [],
   "source": [
    "# Extracting dates\n",
    "\n",
    "#%% import libraries\n",
    "import pandas as pd\n",
    "from datetime import date"
   ]
  },
  {
   "cell_type": "code",
   "execution_count": 58,
   "id": "9f07a8e5",
   "metadata": {},
   "outputs": [],
   "source": [
    "#%% generate sample data\n",
    "Table = {'Customer-ID': [1, 2, 3, 4, 5], \\\n",
    "    'Date': ['12-05-2019', '18-08-2018', \\\n",
    "        '05-07-2017', '03-09-2020', '09-07-2018'], \\\n",
    "    'Consumption': [70, 140, 65, 40, 65]}\n",
    "TDF = pd.DataFrame(data=Table)"
   ]
  },
  {
   "cell_type": "code",
   "execution_count": 59,
   "id": "4290f6b8",
   "metadata": {},
   "outputs": [
    {
     "data": {
      "text/html": [
       "<div>\n",
       "<style scoped>\n",
       "    .dataframe tbody tr th:only-of-type {\n",
       "        vertical-align: middle;\n",
       "    }\n",
       "\n",
       "    .dataframe tbody tr th {\n",
       "        vertical-align: top;\n",
       "    }\n",
       "\n",
       "    .dataframe thead th {\n",
       "        text-align: right;\n",
       "    }\n",
       "</style>\n",
       "<table border=\"1\" class=\"dataframe\">\n",
       "  <thead>\n",
       "    <tr style=\"text-align: right;\">\n",
       "      <th></th>\n",
       "      <th>Customer-ID</th>\n",
       "      <th>Date</th>\n",
       "      <th>Consumption</th>\n",
       "    </tr>\n",
       "  </thead>\n",
       "  <tbody>\n",
       "    <tr>\n",
       "      <th>0</th>\n",
       "      <td>1</td>\n",
       "      <td>12-05-2019</td>\n",
       "      <td>70</td>\n",
       "    </tr>\n",
       "    <tr>\n",
       "      <th>1</th>\n",
       "      <td>2</td>\n",
       "      <td>18-08-2018</td>\n",
       "      <td>140</td>\n",
       "    </tr>\n",
       "    <tr>\n",
       "      <th>2</th>\n",
       "      <td>3</td>\n",
       "      <td>05-07-2017</td>\n",
       "      <td>65</td>\n",
       "    </tr>\n",
       "    <tr>\n",
       "      <th>3</th>\n",
       "      <td>4</td>\n",
       "      <td>03-09-2020</td>\n",
       "      <td>40</td>\n",
       "    </tr>\n",
       "    <tr>\n",
       "      <th>4</th>\n",
       "      <td>5</td>\n",
       "      <td>09-07-2018</td>\n",
       "      <td>65</td>\n",
       "    </tr>\n",
       "  </tbody>\n",
       "</table>\n",
       "</div>"
      ],
      "text/plain": [
       "   Customer-ID        Date  Consumption\n",
       "0            1  12-05-2019           70\n",
       "1            2  18-08-2018          140\n",
       "2            3  05-07-2017           65\n",
       "3            4  03-09-2020           40\n",
       "4            5  09-07-2018           65"
      ]
     },
     "execution_count": 59,
     "metadata": {},
     "output_type": "execute_result"
    }
   ],
   "source": [
    "TDF"
   ]
  },
  {
   "cell_type": "code",
   "execution_count": 60,
   "id": "b0fa5464",
   "metadata": {},
   "outputs": [],
   "source": [
    "#%% convert 'Date'-column to date format\n",
    "TDF['Date'] = pd.to_datetime(TDF.Date, format=\"%d-%m-%Y\")\n",
    "\n",
    "# extract the year\n",
    "TDF['year'] = TDF['Date'].dt.year\n",
    "\n",
    "# extract the month\n",
    "TDF['month'] = TDF['Date'].dt.month\n",
    "\n",
    "# extract quarter of the year\n",
    "TDF['quarter'] = TDF['Date'].dt.quarter"
   ]
  },
  {
   "cell_type": "code",
   "execution_count": 90,
   "id": "c5210342",
   "metadata": {},
   "outputs": [
    {
     "data": {
      "text/html": [
       "<div>\n",
       "<style scoped>\n",
       "    .dataframe tbody tr th:only-of-type {\n",
       "        vertical-align: middle;\n",
       "    }\n",
       "\n",
       "    .dataframe tbody tr th {\n",
       "        vertical-align: top;\n",
       "    }\n",
       "\n",
       "    .dataframe thead th {\n",
       "        text-align: right;\n",
       "    }\n",
       "</style>\n",
       "<table border=\"1\" class=\"dataframe\">\n",
       "  <thead>\n",
       "    <tr style=\"text-align: right;\">\n",
       "      <th></th>\n",
       "      <th>Customer-ID</th>\n",
       "      <th>Date</th>\n",
       "      <th>Consumption</th>\n",
       "      <th>year</th>\n",
       "      <th>month</th>\n",
       "      <th>quarter</th>\n",
       "    </tr>\n",
       "  </thead>\n",
       "  <tbody>\n",
       "    <tr>\n",
       "      <th>0</th>\n",
       "      <td>1</td>\n",
       "      <td>2019-05-12</td>\n",
       "      <td>70</td>\n",
       "      <td>2019</td>\n",
       "      <td>5</td>\n",
       "      <td>2</td>\n",
       "    </tr>\n",
       "    <tr>\n",
       "      <th>1</th>\n",
       "      <td>2</td>\n",
       "      <td>2018-08-18</td>\n",
       "      <td>140</td>\n",
       "      <td>2018</td>\n",
       "      <td>8</td>\n",
       "      <td>3</td>\n",
       "    </tr>\n",
       "    <tr>\n",
       "      <th>2</th>\n",
       "      <td>3</td>\n",
       "      <td>2017-07-05</td>\n",
       "      <td>65</td>\n",
       "      <td>2017</td>\n",
       "      <td>7</td>\n",
       "      <td>3</td>\n",
       "    </tr>\n",
       "    <tr>\n",
       "      <th>3</th>\n",
       "      <td>4</td>\n",
       "      <td>2020-09-03</td>\n",
       "      <td>40</td>\n",
       "      <td>2020</td>\n",
       "      <td>9</td>\n",
       "      <td>3</td>\n",
       "    </tr>\n",
       "    <tr>\n",
       "      <th>4</th>\n",
       "      <td>5</td>\n",
       "      <td>2018-07-09</td>\n",
       "      <td>65</td>\n",
       "      <td>2018</td>\n",
       "      <td>7</td>\n",
       "      <td>3</td>\n",
       "    </tr>\n",
       "  </tbody>\n",
       "</table>\n",
       "</div>"
      ],
      "text/plain": [
       "   Customer-ID       Date  Consumption  year  month  quarter\n",
       "0            1 2019-05-12           70  2019      5        2\n",
       "1            2 2018-08-18          140  2018      8        3\n",
       "2            3 2017-07-05           65  2017      7        3\n",
       "3            4 2020-09-03           40  2020      9        3\n",
       "4            5 2018-07-09           65  2018      7        3"
      ]
     },
     "execution_count": 90,
     "metadata": {},
     "output_type": "execute_result"
    }
   ],
   "source": [
    "TDF"
   ]
  },
  {
   "cell_type": "code",
   "execution_count": 61,
   "id": "d392b1aa",
   "metadata": {},
   "outputs": [],
   "source": [
    "#%% extract passed years \n",
    "years_diff = date.today().year - TDF['Date'].dt.year\n",
    "TDF['passed_years'] = years_diff"
   ]
  },
  {
   "cell_type": "code",
   "execution_count": 62,
   "id": "270e1388",
   "metadata": {},
   "outputs": [
    {
     "data": {
      "text/html": [
       "<div>\n",
       "<style scoped>\n",
       "    .dataframe tbody tr th:only-of-type {\n",
       "        vertical-align: middle;\n",
       "    }\n",
       "\n",
       "    .dataframe tbody tr th {\n",
       "        vertical-align: top;\n",
       "    }\n",
       "\n",
       "    .dataframe thead th {\n",
       "        text-align: right;\n",
       "    }\n",
       "</style>\n",
       "<table border=\"1\" class=\"dataframe\">\n",
       "  <thead>\n",
       "    <tr style=\"text-align: right;\">\n",
       "      <th></th>\n",
       "      <th>Customer-ID</th>\n",
       "      <th>Date</th>\n",
       "      <th>Consumption</th>\n",
       "      <th>year</th>\n",
       "      <th>month</th>\n",
       "      <th>quarter</th>\n",
       "      <th>passed_years</th>\n",
       "    </tr>\n",
       "  </thead>\n",
       "  <tbody>\n",
       "    <tr>\n",
       "      <th>0</th>\n",
       "      <td>1</td>\n",
       "      <td>2019-05-12</td>\n",
       "      <td>70</td>\n",
       "      <td>2019</td>\n",
       "      <td>5</td>\n",
       "      <td>2</td>\n",
       "      <td>4</td>\n",
       "    </tr>\n",
       "    <tr>\n",
       "      <th>1</th>\n",
       "      <td>2</td>\n",
       "      <td>2018-08-18</td>\n",
       "      <td>140</td>\n",
       "      <td>2018</td>\n",
       "      <td>8</td>\n",
       "      <td>3</td>\n",
       "      <td>5</td>\n",
       "    </tr>\n",
       "    <tr>\n",
       "      <th>2</th>\n",
       "      <td>3</td>\n",
       "      <td>2017-07-05</td>\n",
       "      <td>65</td>\n",
       "      <td>2017</td>\n",
       "      <td>7</td>\n",
       "      <td>3</td>\n",
       "      <td>6</td>\n",
       "    </tr>\n",
       "    <tr>\n",
       "      <th>3</th>\n",
       "      <td>4</td>\n",
       "      <td>2020-09-03</td>\n",
       "      <td>40</td>\n",
       "      <td>2020</td>\n",
       "      <td>9</td>\n",
       "      <td>3</td>\n",
       "      <td>3</td>\n",
       "    </tr>\n",
       "    <tr>\n",
       "      <th>4</th>\n",
       "      <td>5</td>\n",
       "      <td>2018-07-09</td>\n",
       "      <td>65</td>\n",
       "      <td>2018</td>\n",
       "      <td>7</td>\n",
       "      <td>3</td>\n",
       "      <td>5</td>\n",
       "    </tr>\n",
       "  </tbody>\n",
       "</table>\n",
       "</div>"
      ],
      "text/plain": [
       "   Customer-ID       Date  Consumption  year  month  quarter  passed_years\n",
       "0            1 2019-05-12           70  2019      5        2             4\n",
       "1            2 2018-08-18          140  2018      8        3             5\n",
       "2            3 2017-07-05           65  2017      7        3             6\n",
       "3            4 2020-09-03           40  2020      9        3             3\n",
       "4            5 2018-07-09           65  2018      7        3             5"
      ]
     },
     "execution_count": 62,
     "metadata": {},
     "output_type": "execute_result"
    }
   ],
   "source": [
    "TDF"
   ]
  },
  {
   "cell_type": "code",
   "execution_count": 63,
   "id": "29fc7941",
   "metadata": {},
   "outputs": [],
   "source": [
    "#%% extract passed months \n",
    "months_diff = (date.today().year - TDF['Date'].dt.year) * 12 + date.today().month - TDF['Date'].dt.month\n",
    "TDF['passed_months'] = months_diff"
   ]
  },
  {
   "cell_type": "code",
   "execution_count": 64,
   "id": "e10db203",
   "metadata": {},
   "outputs": [],
   "source": [
    "#%% extract the name of weekday\n",
    "TDF['day_name'] = TDF['Date'].dt.day_name()"
   ]
  },
  {
   "cell_type": "code",
   "execution_count": 65,
   "id": "f1ab2a8b",
   "metadata": {},
   "outputs": [
    {
     "data": {
      "text/html": [
       "<div>\n",
       "<style scoped>\n",
       "    .dataframe tbody tr th:only-of-type {\n",
       "        vertical-align: middle;\n",
       "    }\n",
       "\n",
       "    .dataframe tbody tr th {\n",
       "        vertical-align: top;\n",
       "    }\n",
       "\n",
       "    .dataframe thead th {\n",
       "        text-align: right;\n",
       "    }\n",
       "</style>\n",
       "<table border=\"1\" class=\"dataframe\">\n",
       "  <thead>\n",
       "    <tr style=\"text-align: right;\">\n",
       "      <th></th>\n",
       "      <th>Customer-ID</th>\n",
       "      <th>Date</th>\n",
       "      <th>Consumption</th>\n",
       "      <th>year</th>\n",
       "      <th>month</th>\n",
       "      <th>quarter</th>\n",
       "      <th>passed_years</th>\n",
       "      <th>passed_months</th>\n",
       "      <th>day_name</th>\n",
       "    </tr>\n",
       "  </thead>\n",
       "  <tbody>\n",
       "    <tr>\n",
       "      <th>0</th>\n",
       "      <td>1</td>\n",
       "      <td>2019-05-12</td>\n",
       "      <td>70</td>\n",
       "      <td>2019</td>\n",
       "      <td>5</td>\n",
       "      <td>2</td>\n",
       "      <td>4</td>\n",
       "      <td>51</td>\n",
       "      <td>Sunday</td>\n",
       "    </tr>\n",
       "    <tr>\n",
       "      <th>1</th>\n",
       "      <td>2</td>\n",
       "      <td>2018-08-18</td>\n",
       "      <td>140</td>\n",
       "      <td>2018</td>\n",
       "      <td>8</td>\n",
       "      <td>3</td>\n",
       "      <td>5</td>\n",
       "      <td>60</td>\n",
       "      <td>Saturday</td>\n",
       "    </tr>\n",
       "    <tr>\n",
       "      <th>2</th>\n",
       "      <td>3</td>\n",
       "      <td>2017-07-05</td>\n",
       "      <td>65</td>\n",
       "      <td>2017</td>\n",
       "      <td>7</td>\n",
       "      <td>3</td>\n",
       "      <td>6</td>\n",
       "      <td>73</td>\n",
       "      <td>Wednesday</td>\n",
       "    </tr>\n",
       "    <tr>\n",
       "      <th>3</th>\n",
       "      <td>4</td>\n",
       "      <td>2020-09-03</td>\n",
       "      <td>40</td>\n",
       "      <td>2020</td>\n",
       "      <td>9</td>\n",
       "      <td>3</td>\n",
       "      <td>3</td>\n",
       "      <td>35</td>\n",
       "      <td>Thursday</td>\n",
       "    </tr>\n",
       "    <tr>\n",
       "      <th>4</th>\n",
       "      <td>5</td>\n",
       "      <td>2018-07-09</td>\n",
       "      <td>65</td>\n",
       "      <td>2018</td>\n",
       "      <td>7</td>\n",
       "      <td>3</td>\n",
       "      <td>5</td>\n",
       "      <td>61</td>\n",
       "      <td>Monday</td>\n",
       "    </tr>\n",
       "  </tbody>\n",
       "</table>\n",
       "</div>"
      ],
      "text/plain": [
       "   Customer-ID       Date  Consumption  year  month  quarter  passed_years  \\\n",
       "0            1 2019-05-12           70  2019      5        2             4   \n",
       "1            2 2018-08-18          140  2018      8        3             5   \n",
       "2            3 2017-07-05           65  2017      7        3             6   \n",
       "3            4 2020-09-03           40  2020      9        3             3   \n",
       "4            5 2018-07-09           65  2018      7        3             5   \n",
       "\n",
       "   passed_months   day_name  \n",
       "0             51     Sunday  \n",
       "1             60   Saturday  \n",
       "2             73  Wednesday  \n",
       "3             35   Thursday  \n",
       "4             61     Monday  "
      ]
     },
     "execution_count": 65,
     "metadata": {},
     "output_type": "execute_result"
    }
   ],
   "source": [
    "TDF"
   ]
  },
  {
   "cell_type": "code",
   "execution_count": 94,
   "id": "a4e20964",
   "metadata": {},
   "outputs": [],
   "source": [
    "#%% extract the day of the week\n",
    "TDF['dow'] = pd.to_datetime(TDF['Date']).dt.dayofweek"
   ]
  },
  {
   "cell_type": "code",
   "execution_count": 95,
   "id": "abff8fba",
   "metadata": {},
   "outputs": [],
   "source": [
    "#%% extract weekends\n",
    "TDF['weekend'] = TDF['dow'].map(lambda x: 0 if x < 5 else 1)"
   ]
  },
  {
   "cell_type": "code",
   "execution_count": 96,
   "id": "3ec33b8b",
   "metadata": {},
   "outputs": [
    {
     "data": {
      "text/html": [
       "<div>\n",
       "<style scoped>\n",
       "    .dataframe tbody tr th:only-of-type {\n",
       "        vertical-align: middle;\n",
       "    }\n",
       "\n",
       "    .dataframe tbody tr th {\n",
       "        vertical-align: top;\n",
       "    }\n",
       "\n",
       "    .dataframe thead th {\n",
       "        text-align: right;\n",
       "    }\n",
       "</style>\n",
       "<table border=\"1\" class=\"dataframe\">\n",
       "  <thead>\n",
       "    <tr style=\"text-align: right;\">\n",
       "      <th></th>\n",
       "      <th>Customer-ID</th>\n",
       "      <th>Date</th>\n",
       "      <th>Consumption</th>\n",
       "      <th>year</th>\n",
       "      <th>month</th>\n",
       "      <th>quarter</th>\n",
       "      <th>passed_years</th>\n",
       "      <th>passed_months</th>\n",
       "      <th>day_name</th>\n",
       "      <th>dow</th>\n",
       "      <th>weekend</th>\n",
       "    </tr>\n",
       "  </thead>\n",
       "  <tbody>\n",
       "    <tr>\n",
       "      <th>0</th>\n",
       "      <td>1</td>\n",
       "      <td>2019-05-12</td>\n",
       "      <td>70</td>\n",
       "      <td>2019</td>\n",
       "      <td>5</td>\n",
       "      <td>2</td>\n",
       "      <td>4</td>\n",
       "      <td>51</td>\n",
       "      <td>Sunday</td>\n",
       "      <td>6</td>\n",
       "      <td>1</td>\n",
       "    </tr>\n",
       "    <tr>\n",
       "      <th>1</th>\n",
       "      <td>2</td>\n",
       "      <td>2018-08-18</td>\n",
       "      <td>140</td>\n",
       "      <td>2018</td>\n",
       "      <td>8</td>\n",
       "      <td>3</td>\n",
       "      <td>5</td>\n",
       "      <td>60</td>\n",
       "      <td>Saturday</td>\n",
       "      <td>5</td>\n",
       "      <td>1</td>\n",
       "    </tr>\n",
       "    <tr>\n",
       "      <th>2</th>\n",
       "      <td>3</td>\n",
       "      <td>2017-07-05</td>\n",
       "      <td>65</td>\n",
       "      <td>2017</td>\n",
       "      <td>7</td>\n",
       "      <td>3</td>\n",
       "      <td>6</td>\n",
       "      <td>73</td>\n",
       "      <td>Wednesday</td>\n",
       "      <td>2</td>\n",
       "      <td>0</td>\n",
       "    </tr>\n",
       "    <tr>\n",
       "      <th>3</th>\n",
       "      <td>4</td>\n",
       "      <td>2020-09-03</td>\n",
       "      <td>40</td>\n",
       "      <td>2020</td>\n",
       "      <td>9</td>\n",
       "      <td>3</td>\n",
       "      <td>3</td>\n",
       "      <td>35</td>\n",
       "      <td>Thursday</td>\n",
       "      <td>3</td>\n",
       "      <td>0</td>\n",
       "    </tr>\n",
       "    <tr>\n",
       "      <th>4</th>\n",
       "      <td>5</td>\n",
       "      <td>2018-07-09</td>\n",
       "      <td>65</td>\n",
       "      <td>2018</td>\n",
       "      <td>7</td>\n",
       "      <td>3</td>\n",
       "      <td>5</td>\n",
       "      <td>61</td>\n",
       "      <td>Monday</td>\n",
       "      <td>0</td>\n",
       "      <td>0</td>\n",
       "    </tr>\n",
       "  </tbody>\n",
       "</table>\n",
       "</div>"
      ],
      "text/plain": [
       "   Customer-ID       Date  Consumption  year  month  quarter  passed_years  \\\n",
       "0            1 2019-05-12           70  2019      5        2             4   \n",
       "1            2 2018-08-18          140  2018      8        3             5   \n",
       "2            3 2017-07-05           65  2017      7        3             6   \n",
       "3            4 2020-09-03           40  2020      9        3             3   \n",
       "4            5 2018-07-09           65  2018      7        3             5   \n",
       "\n",
       "   passed_months   day_name  dow  weekend  \n",
       "0             51     Sunday    6        1  \n",
       "1             60   Saturday    5        1  \n",
       "2             73  Wednesday    2        0  \n",
       "3             35   Thursday    3        0  \n",
       "4             61     Monday    0        0  "
      ]
     },
     "execution_count": 96,
     "metadata": {},
     "output_type": "execute_result"
    }
   ],
   "source": [
    "TDF"
   ]
  },
  {
   "cell_type": "markdown",
   "id": "443326c8",
   "metadata": {},
   "source": [
    "#### 2.3.4 Cross products features (interaction features)"
   ]
  },
  {
   "cell_type": "code",
   "execution_count": 66,
   "id": "fe376346",
   "metadata": {},
   "outputs": [],
   "source": [
    "# Categorical cross-product features\n",
    "\n",
    "#%% import libraries\n",
    "import pandas as pd\n",
    "from sklearn.preprocessing import PolynomialFeatures"
   ]
  },
  {
   "cell_type": "code",
   "execution_count": 67,
   "id": "9bc3a6ff",
   "metadata": {},
   "outputs": [],
   "source": [
    "#%% generate sample data\n",
    "Table = {'Gender': ['M','F','M','F','F','M', 'F', 'M'], \\\n",
    "         'Science-Grant': ['Y', 'N', 'Y', 'N', \\\n",
    "             'Y', 'N', 'N', 'N']}\n",
    "TDF = pd.DataFrame(data=Table)"
   ]
  },
  {
   "cell_type": "code",
   "execution_count": 68,
   "id": "69105bdd",
   "metadata": {},
   "outputs": [
    {
     "data": {
      "text/html": [
       "<div>\n",
       "<style scoped>\n",
       "    .dataframe tbody tr th:only-of-type {\n",
       "        vertical-align: middle;\n",
       "    }\n",
       "\n",
       "    .dataframe tbody tr th {\n",
       "        vertical-align: top;\n",
       "    }\n",
       "\n",
       "    .dataframe thead th {\n",
       "        text-align: right;\n",
       "    }\n",
       "</style>\n",
       "<table border=\"1\" class=\"dataframe\">\n",
       "  <thead>\n",
       "    <tr style=\"text-align: right;\">\n",
       "      <th></th>\n",
       "      <th>Gender</th>\n",
       "      <th>Science-Grant</th>\n",
       "    </tr>\n",
       "  </thead>\n",
       "  <tbody>\n",
       "    <tr>\n",
       "      <th>0</th>\n",
       "      <td>M</td>\n",
       "      <td>Y</td>\n",
       "    </tr>\n",
       "    <tr>\n",
       "      <th>1</th>\n",
       "      <td>F</td>\n",
       "      <td>N</td>\n",
       "    </tr>\n",
       "    <tr>\n",
       "      <th>2</th>\n",
       "      <td>M</td>\n",
       "      <td>Y</td>\n",
       "    </tr>\n",
       "    <tr>\n",
       "      <th>3</th>\n",
       "      <td>F</td>\n",
       "      <td>N</td>\n",
       "    </tr>\n",
       "    <tr>\n",
       "      <th>4</th>\n",
       "      <td>F</td>\n",
       "      <td>Y</td>\n",
       "    </tr>\n",
       "    <tr>\n",
       "      <th>5</th>\n",
       "      <td>M</td>\n",
       "      <td>N</td>\n",
       "    </tr>\n",
       "    <tr>\n",
       "      <th>6</th>\n",
       "      <td>F</td>\n",
       "      <td>N</td>\n",
       "    </tr>\n",
       "    <tr>\n",
       "      <th>7</th>\n",
       "      <td>M</td>\n",
       "      <td>N</td>\n",
       "    </tr>\n",
       "  </tbody>\n",
       "</table>\n",
       "</div>"
      ],
      "text/plain": [
       "  Gender Science-Grant\n",
       "0      M             Y\n",
       "1      F             N\n",
       "2      M             Y\n",
       "3      F             N\n",
       "4      F             Y\n",
       "5      M             N\n",
       "6      F             N\n",
       "7      M             N"
      ]
     },
     "execution_count": 68,
     "metadata": {},
     "output_type": "execute_result"
    }
   ],
   "source": [
    "TDF"
   ]
  },
  {
   "cell_type": "code",
   "execution_count": 69,
   "id": "8d2860f8",
   "metadata": {},
   "outputs": [],
   "source": [
    "#%% one-hot encoding\n",
    "TDF = pd.get_dummies(TDF)"
   ]
  },
  {
   "cell_type": "code",
   "execution_count": 101,
   "id": "19b90a50",
   "metadata": {},
   "outputs": [
    {
     "data": {
      "text/html": [
       "<div>\n",
       "<style scoped>\n",
       "    .dataframe tbody tr th:only-of-type {\n",
       "        vertical-align: middle;\n",
       "    }\n",
       "\n",
       "    .dataframe tbody tr th {\n",
       "        vertical-align: top;\n",
       "    }\n",
       "\n",
       "    .dataframe thead th {\n",
       "        text-align: right;\n",
       "    }\n",
       "</style>\n",
       "<table border=\"1\" class=\"dataframe\">\n",
       "  <thead>\n",
       "    <tr style=\"text-align: right;\">\n",
       "      <th></th>\n",
       "      <th>Gender_F</th>\n",
       "      <th>Gender_M</th>\n",
       "      <th>Science-Grant_N</th>\n",
       "      <th>Science-Grant_Y</th>\n",
       "    </tr>\n",
       "  </thead>\n",
       "  <tbody>\n",
       "    <tr>\n",
       "      <th>0</th>\n",
       "      <td>0</td>\n",
       "      <td>1</td>\n",
       "      <td>0</td>\n",
       "      <td>1</td>\n",
       "    </tr>\n",
       "    <tr>\n",
       "      <th>1</th>\n",
       "      <td>1</td>\n",
       "      <td>0</td>\n",
       "      <td>1</td>\n",
       "      <td>0</td>\n",
       "    </tr>\n",
       "    <tr>\n",
       "      <th>2</th>\n",
       "      <td>0</td>\n",
       "      <td>1</td>\n",
       "      <td>0</td>\n",
       "      <td>1</td>\n",
       "    </tr>\n",
       "    <tr>\n",
       "      <th>3</th>\n",
       "      <td>1</td>\n",
       "      <td>0</td>\n",
       "      <td>1</td>\n",
       "      <td>0</td>\n",
       "    </tr>\n",
       "    <tr>\n",
       "      <th>4</th>\n",
       "      <td>1</td>\n",
       "      <td>0</td>\n",
       "      <td>0</td>\n",
       "      <td>1</td>\n",
       "    </tr>\n",
       "    <tr>\n",
       "      <th>5</th>\n",
       "      <td>0</td>\n",
       "      <td>1</td>\n",
       "      <td>1</td>\n",
       "      <td>0</td>\n",
       "    </tr>\n",
       "    <tr>\n",
       "      <th>6</th>\n",
       "      <td>1</td>\n",
       "      <td>0</td>\n",
       "      <td>1</td>\n",
       "      <td>0</td>\n",
       "    </tr>\n",
       "    <tr>\n",
       "      <th>7</th>\n",
       "      <td>0</td>\n",
       "      <td>1</td>\n",
       "      <td>1</td>\n",
       "      <td>0</td>\n",
       "    </tr>\n",
       "  </tbody>\n",
       "</table>\n",
       "</div>"
      ],
      "text/plain": [
       "   Gender_F  Gender_M  Science-Grant_N  Science-Grant_Y\n",
       "0         0         1                0                1\n",
       "1         1         0                1                0\n",
       "2         0         1                0                1\n",
       "3         1         0                1                0\n",
       "4         1         0                0                1\n",
       "5         0         1                1                0\n",
       "6         1         0                1                0\n",
       "7         0         1                1                0"
      ]
     },
     "execution_count": 101,
     "metadata": {},
     "output_type": "execute_result"
    }
   ],
   "source": [
    "TDF"
   ]
  },
  {
   "cell_type": "code",
   "execution_count": 102,
   "id": "1a03634e",
   "metadata": {},
   "outputs": [],
   "source": [
    "#%% generate interaction features (female x grant)\n",
    "#Since we are interested only in the interaction between features, i.e., “Gender_F” x “Science-Grant_N,” \n",
    "#the parameter “interaction only” is selected to be “True.” This allows us to avoid generating \n",
    "#the features “Gender_F” x “Gender_F” and “Science-Grant_N” x “Science-Grant_N.” \n",
    "#The parameter “include bias” is deactivated by assigning the “False” value in order to avoid generating \n",
    "#an intercept feature (the feature in which all polynomial powers are zero, i.e., a column of ones). \n",
    "#Calculate the mean value of female scientists who did not obtain the grant\n",
    "pf = PolynomialFeatures(degree=2, interaction_only=True, include_bias=False).fit(TDF[['Gender_F','Science-Grant_N']])\n",
    "int_feat = pf.transform(TDF[['Gender_F', 'Science-Grant_N']])"
   ]
  },
  {
   "cell_type": "code",
   "execution_count": 103,
   "id": "8aa27f0e",
   "metadata": {},
   "outputs": [
    {
     "name": "stdout",
     "output_type": "stream",
     "text": [
      "[[0. 0. 0.]\n",
      " [1. 1. 1.]\n",
      " [0. 0. 0.]\n",
      " [1. 1. 1.]\n",
      " [1. 0. 0.]\n",
      " [0. 1. 0.]\n",
      " [1. 1. 1.]\n",
      " [0. 1. 0.]]\n"
     ]
    }
   ],
   "source": [
    "print(int_feat)"
   ]
  },
  {
   "cell_type": "code",
   "execution_count": 105,
   "id": "8256b285",
   "metadata": {},
   "outputs": [],
   "source": [
    "#%%\n",
    "# convert the generated interaction feature array\n",
    "# to a dataframe\n",
    "fem_x_grant = pd.DataFrame(int_feat, columns=['Gender_F','Science-Grant_N', 'FxGrant'])"
   ]
  },
  {
   "cell_type": "code",
   "execution_count": 106,
   "id": "e7f387b9",
   "metadata": {},
   "outputs": [
    {
     "name": "stdout",
     "output_type": "stream",
     "text": [
      "0.375\n"
     ]
    }
   ],
   "source": [
    "#%%\n",
    "# Calculate the mean value of female scientists who did not obtain the grant\n",
    "print(fem_x_grant['FxGrant'].mean(0))"
   ]
  },
  {
   "cell_type": "code",
   "execution_count": 107,
   "id": "410b8840",
   "metadata": {},
   "outputs": [],
   "source": [
    "#%% generate interaction features (male x grant)\n",
    "pf = PolynomialFeatures(degree=2, interaction_only=True, include_bias=False).fit(TDF[['Gender_M','Science-Grant_N']])\n",
    "int_feat = pf.transform(TDF[['Gender_M', 'Science-Grant_N']])"
   ]
  },
  {
   "cell_type": "code",
   "execution_count": 108,
   "id": "6d408b6c",
   "metadata": {},
   "outputs": [],
   "source": [
    "#%%\n",
    "# convert the generated interaction feature array\n",
    "# to a dataframe\n",
    "male_x_grant = pd.DataFrame(int_feat, columns=['Gender_M','Science-Grant_N', 'MxGrant'])"
   ]
  },
  {
   "cell_type": "code",
   "execution_count": 109,
   "id": "7f491da3",
   "metadata": {},
   "outputs": [
    {
     "name": "stdout",
     "output_type": "stream",
     "text": [
      "0.25\n"
     ]
    }
   ],
   "source": [
    "#%%\n",
    "# Calculate the mean value of male scientists who did obtain the grant\n",
    "print(male_x_grant['MxGrant'].mean(0))"
   ]
  },
  {
   "cell_type": "markdown",
   "id": "91399fa2",
   "metadata": {},
   "source": [
    "## 3 Text Features"
   ]
  },
  {
   "cell_type": "markdown",
   "id": "8d602e30",
   "metadata": {},
   "source": [
    "### 3.1 Bag-of-Words (BoW)"
   ]
  },
  {
   "cell_type": "code",
   "execution_count": 70,
   "id": "ab0b6cd2",
   "metadata": {},
   "outputs": [],
   "source": [
    "# Bag-of-Words (BoW)\n",
    "\n",
    "#%% import libraries\n",
    "from sklearn.feature_extraction.text import CountVectorizer"
   ]
  },
  {
   "cell_type": "code",
   "execution_count": 71,
   "id": "45b480da",
   "metadata": {},
   "outputs": [],
   "source": [
    "#%% generate sample data\n",
    "corpus = ['Martin is not a bad person.',\n",
    "          'Kevin, is the brother of Martin.',\n",
    "          'Kevin is a bad person.'] "
   ]
  },
  {
   "cell_type": "code",
   "execution_count": 72,
   "id": "2ac0a4cb",
   "metadata": {},
   "outputs": [
    {
     "name": "stdout",
     "output_type": "stream",
     "text": [
      "['Kevin', 'Martin', 'bad', 'brother', 'person']\n"
     ]
    },
    {
     "name": "stderr",
     "output_type": "stream",
     "text": [
      "C:\\ProgramData\\Anaconda3\\lib\\site-packages\\sklearn\\utils\\deprecation.py:87: FutureWarning: Function get_feature_names is deprecated; get_feature_names is deprecated in 1.0 and will be removed in 1.2. Please use get_feature_names_out instead.\n",
      "  warnings.warn(msg, category=FutureWarning)\n"
     ]
    }
   ],
   "source": [
    "#%% create bag-of-words tokenizer\n",
    "vectorizer = CountVectorizer(lowercase = False,  \n",
    "                             stop_words='english')\n",
    "\n",
    "#%% fit tokenizer\n",
    "BoW = vectorizer.fit_transform(corpus)\n",
    "\n",
    "#%% print feature names\n",
    "print(vectorizer.get_feature_names())"
   ]
  },
  {
   "cell_type": "code",
   "execution_count": 113,
   "id": "4984884c",
   "metadata": {},
   "outputs": [
    {
     "name": "stdout",
     "output_type": "stream",
     "text": [
      "[[0 1 1 0 1]\n",
      " [1 1 0 1 0]\n",
      " [1 0 1 0 1]]\n"
     ]
    }
   ],
   "source": [
    "print(BoW.toarray())"
   ]
  },
  {
   "cell_type": "markdown",
   "id": "0bb60b5e",
   "metadata": {},
   "source": [
    "### 3.2 Bag-of-N-Grams"
   ]
  },
  {
   "cell_type": "code",
   "execution_count": null,
   "id": "7096a3a9",
   "metadata": {},
   "outputs": [],
   "source": [
    "#The parameter ngram_range(n, n) indicates the lower and upper n-values for word n-grams to be extracted \n",
    "#(1, 2) will extract the unigrams and bigrams of the text while (2, 2) will extract only bigrams of the text"
   ]
  },
  {
   "cell_type": "code",
   "execution_count": 73,
   "id": "88b943f8",
   "metadata": {},
   "outputs": [],
   "source": [
    "#Bag-of-2-Grams (Bo2G)\n",
    "#%% import libraries\n",
    "from sklearn.feature_extraction.text  import CountVectorizer"
   ]
  },
  {
   "cell_type": "code",
   "execution_count": 74,
   "id": "2d8c7479",
   "metadata": {},
   "outputs": [],
   "source": [
    "#%% generate sample data\n",
    "corpus = ['Martin is not a bad person.',\n",
    "          'Kevin, is the brother of Martin.',\n",
    "          'Kevin is a bad person.'] "
   ]
  },
  {
   "cell_type": "code",
   "execution_count": 76,
   "id": "34b39ece",
   "metadata": {},
   "outputs": [],
   "source": [
    "#%% create bag Bag-of-n-Grams tokenizer\n",
    "vectorizer2 = CountVectorizer(analyzer='word', ngram_range=(2, 2), lowercase=False,  stop_words='english')"
   ]
  },
  {
   "cell_type": "code",
   "execution_count": 77,
   "id": "913f54bd",
   "metadata": {},
   "outputs": [
    {
     "name": "stdout",
     "output_type": "stream",
     "text": [
      "['Kevin bad', 'Kevin brother', 'Martin bad', 'bad person', 'brother Martin']\n"
     ]
    }
   ],
   "source": [
    "#%% fit the vectorizer\n",
    "Bo2G = vectorizer2.fit_transform(corpus)\n",
    "\n",
    "#%% print feature names\n",
    "print(vectorizer2.get_feature_names())"
   ]
  },
  {
   "cell_type": "code",
   "execution_count": 78,
   "id": "ef4b2387",
   "metadata": {},
   "outputs": [
    {
     "name": "stdout",
     "output_type": "stream",
     "text": [
      "[[0 0 1 1 0]\n",
      " [0 1 0 0 1]\n",
      " [1 0 0 1 0]]\n"
     ]
    }
   ],
   "source": [
    "# print the number of occurrences of each feature in each text element\n",
    "print(Bo2G.toarray())"
   ]
  },
  {
   "cell_type": "markdown",
   "id": "60d4fd27",
   "metadata": {},
   "source": [
    "### 3.3 Term Frequency-Inverse Document Frequency (TF-IDF)"
   ]
  },
  {
   "cell_type": "code",
   "execution_count": 80,
   "id": "eca53d23",
   "metadata": {},
   "outputs": [],
   "source": [
    "#%% import libraries\n",
    "from sklearn.feature_extraction.text import TfidfVectorizer"
   ]
  },
  {
   "cell_type": "code",
   "execution_count": 81,
   "id": "4ce0b102",
   "metadata": {},
   "outputs": [],
   "source": [
    "#%% generate sample data\n",
    "corpus = ['Martin is not a bad person.',\n",
    "          'Kevin, is the brother of Martin.',\n",
    "          'Kevin is a bad person.'] "
   ]
  },
  {
   "cell_type": "code",
   "execution_count": 83,
   "id": "c9cfc8b4",
   "metadata": {},
   "outputs": [],
   "source": [
    "#%% create TF-IDF tokenizer without normalization\n",
    "#lowercase: bool, default=True Convert all characters to lowercase before tokenizing.\n",
    "# norm{‘l1’, ‘l2’} or None, default=’l2’\n",
    "#Each output row will have unit norm, either:\n",
    "#‘l2’: Sum of squares of vector elements is 1. \n",
    "#The cosine similarity between two vectors is their dot product when l2 norm has been applied.\n",
    "#‘l1’: Sum of absolute values of vector elements is 1.\n",
    "#None: No normalization.\n",
    "TFIDF= TfidfVectorizer(lowercase=False, norm=False, stop_words='english')"
   ]
  },
  {
   "cell_type": "code",
   "execution_count": 84,
   "id": "3099e741",
   "metadata": {},
   "outputs": [
    {
     "name": "stdout",
     "output_type": "stream",
     "text": [
      "['Kevin', 'Martin', 'bad', 'brother', 'person']\n"
     ]
    }
   ],
   "source": [
    "#%% fit tokenizer\n",
    "TFIDFtext = TFIDF.fit_transform(corpus)\n",
    "\n",
    "#%% print feature names\n",
    "print(TFIDF.get_feature_names())"
   ]
  },
  {
   "cell_type": "code",
   "execution_count": 86,
   "id": "eb7dd5af",
   "metadata": {},
   "outputs": [
    {
     "name": "stdout",
     "output_type": "stream",
     "text": [
      "  (0, 4)\t1.2876820724517808\n",
      "  (0, 2)\t1.2876820724517808\n",
      "  (0, 1)\t1.2876820724517808\n",
      "  (1, 3)\t1.6931471805599454\n",
      "  (1, 0)\t1.2876820724517808\n",
      "  (1, 1)\t1.2876820724517808\n",
      "  (2, 0)\t1.2876820724517808\n",
      "  (2, 4)\t1.2876820724517808\n",
      "  (2, 2)\t1.2876820724517808\n"
     ]
    }
   ],
   "source": [
    "# print the values of each Word\n",
    "# (second entry in parenthesis) in each \n",
    "# document (first entry in parenthesis)\n",
    "print(TFIDFtext) "
   ]
  },
  {
   "cell_type": "code",
   "execution_count": 88,
   "id": "14477b99",
   "metadata": {},
   "outputs": [],
   "source": [
    "#%% create TF-IDF tokenizer with normalization\n",
    "TFIDF= TfidfVectorizer(lowercase=False,stop_words='english',norm=\"l2\")"
   ]
  },
  {
   "cell_type": "code",
   "execution_count": 89,
   "id": "776ac3c0",
   "metadata": {},
   "outputs": [
    {
     "name": "stdout",
     "output_type": "stream",
     "text": [
      "['Kevin', 'Martin', 'bad', 'brother', 'person']\n"
     ]
    }
   ],
   "source": [
    "#%% fit tokenizer\n",
    "TFIDFtext = TFIDF.fit_transform(corpus)\n",
    "\n",
    "#%% print feature names\n",
    "print(TFIDF.get_feature_names())"
   ]
  },
  {
   "cell_type": "code",
   "execution_count": 90,
   "id": "c311a428",
   "metadata": {},
   "outputs": [
    {
     "name": "stdout",
     "output_type": "stream",
     "text": [
      "  (0, 4)\t0.5773502691896257\n",
      "  (0, 2)\t0.5773502691896257\n",
      "  (0, 1)\t0.5773502691896257\n",
      "  (1, 3)\t0.680918560398684\n",
      "  (1, 0)\t0.5178561161676974\n",
      "  (1, 1)\t0.5178561161676974\n",
      "  (2, 0)\t0.5773502691896257\n",
      "  (2, 4)\t0.5773502691896257\n",
      "  (2, 2)\t0.5773502691896257\n"
     ]
    }
   ],
   "source": [
    "#%%\n",
    "# print the values of each Word\n",
    "# (second entry in parenthesis) in each \n",
    "# document (first entry in parenthesis)\n",
    "print(TFIDFtext) "
   ]
  },
  {
   "cell_type": "code",
   "execution_count": null,
   "id": "617d461f",
   "metadata": {},
   "outputs": [],
   "source": []
  }
 ],
 "metadata": {
  "kernelspec": {
   "display_name": "Python 3",
   "language": "python",
   "name": "python3"
  },
  "language_info": {
   "codemirror_mode": {
    "name": "ipython",
    "version": 3
   },
   "file_extension": ".py",
   "mimetype": "text/x-python",
   "name": "python",
   "nbconvert_exporter": "python",
   "pygments_lexer": "ipython3",
   "version": "3.7.9"
  }
 },
 "nbformat": 4,
 "nbformat_minor": 5
}
