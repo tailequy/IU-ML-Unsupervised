{
 "cells": [
  {
   "cell_type": "markdown",
   "id": "af5a4f2c",
   "metadata": {},
   "source": [
    "# Machine Learning - Unsupervised Learning and Feature Engineering"
   ]
  },
  {
   "cell_type": "markdown",
   "id": "17069e5e",
   "metadata": {},
   "source": [
    "## Unit 1. Introduction to Unsupervised Machine Learning and Feature Engineering"
   ]
  },
  {
   "cell_type": "markdown",
   "id": "a8955ab4",
   "metadata": {},
   "source": [
    "Lecturer: Tai Le Quy\n",
    "\n",
    "Thanks Prof. Dr. Christian Müller-Kett\n",
    "\n",
    "This notebook is based on Python version on https://github.com/iubh/DLBDSMLUSL01"
   ]
  },
  {
   "cell_type": "markdown",
   "id": "6e8da664",
   "metadata": {},
   "source": [
    "### 1. Example 1"
   ]
  },
  {
   "cell_type": "code",
   "execution_count": 1,
   "id": "0bad5f46",
   "metadata": {},
   "outputs": [],
   "source": [
    "# import libraries\n",
    "import numpy as np\n",
    "import pandas as pd\n",
    "import datetime"
   ]
  },
  {
   "cell_type": "code",
   "execution_count": 2,
   "id": "43459dbf",
   "metadata": {},
   "outputs": [],
   "source": [
    "# create sample data\n",
    "Student_R = {'Student_ID':['S1', 'S2', 'S3'], \n",
    "    'Birth_date': [datetime.date(1996,7,14), \n",
    "                   datetime.date(1997,8,22), \n",
    "                   datetime.date(1998,5,11)]}\n",
    "\n",
    "Student_R = pd.DataFrame(Student_R, columns = ['Student_ID','Birth_date'])\n",
    "\n",
    "Courses = { 'Student_ID':['S1', 'S2', 'S3', 'S1', 'S2', 'S3'], 'Grades':[18, 11, 12, 15, 19, 10]}\n",
    "\n",
    "Courses = pd.DataFrame (Courses, columns = ['Student_ID', 'Grades'])"
   ]
  },
  {
   "cell_type": "code",
   "execution_count": 6,
   "id": "ecd96a43",
   "metadata": {},
   "outputs": [
    {
     "data": {
      "text/html": [
       "<div>\n",
       "<style scoped>\n",
       "    .dataframe tbody tr th:only-of-type {\n",
       "        vertical-align: middle;\n",
       "    }\n",
       "\n",
       "    .dataframe tbody tr th {\n",
       "        vertical-align: top;\n",
       "    }\n",
       "\n",
       "    .dataframe thead th {\n",
       "        text-align: right;\n",
       "    }\n",
       "</style>\n",
       "<table border=\"1\" class=\"dataframe\">\n",
       "  <thead>\n",
       "    <tr style=\"text-align: right;\">\n",
       "      <th></th>\n",
       "      <th>Student_ID</th>\n",
       "      <th>Birth_date</th>\n",
       "      <th>year</th>\n",
       "    </tr>\n",
       "  </thead>\n",
       "  <tbody>\n",
       "    <tr>\n",
       "      <th>0</th>\n",
       "      <td>S1</td>\n",
       "      <td>1996-07-14</td>\n",
       "      <td>1996</td>\n",
       "    </tr>\n",
       "    <tr>\n",
       "      <th>1</th>\n",
       "      <td>S2</td>\n",
       "      <td>1997-08-22</td>\n",
       "      <td>1997</td>\n",
       "    </tr>\n",
       "    <tr>\n",
       "      <th>2</th>\n",
       "      <td>S3</td>\n",
       "      <td>1998-05-11</td>\n",
       "      <td>1998</td>\n",
       "    </tr>\n",
       "  </tbody>\n",
       "</table>\n",
       "</div>"
      ],
      "text/plain": [
       "  Student_ID  Birth_date  year\n",
       "0         S1  1996-07-14  1996\n",
       "1         S2  1997-08-22  1997\n",
       "2         S3  1998-05-11  1998"
      ]
     },
     "execution_count": 6,
     "metadata": {},
     "output_type": "execute_result"
    }
   ],
   "source": [
    "Student_R"
   ]
  },
  {
   "cell_type": "code",
   "execution_count": 7,
   "id": "e7f8acb7",
   "metadata": {},
   "outputs": [
    {
     "data": {
      "text/html": [
       "<div>\n",
       "<style scoped>\n",
       "    .dataframe tbody tr th:only-of-type {\n",
       "        vertical-align: middle;\n",
       "    }\n",
       "\n",
       "    .dataframe tbody tr th {\n",
       "        vertical-align: top;\n",
       "    }\n",
       "\n",
       "    .dataframe thead th {\n",
       "        text-align: right;\n",
       "    }\n",
       "</style>\n",
       "<table border=\"1\" class=\"dataframe\">\n",
       "  <thead>\n",
       "    <tr style=\"text-align: right;\">\n",
       "      <th></th>\n",
       "      <th>Student_ID</th>\n",
       "      <th>Grades</th>\n",
       "    </tr>\n",
       "  </thead>\n",
       "  <tbody>\n",
       "    <tr>\n",
       "      <th>0</th>\n",
       "      <td>S1</td>\n",
       "      <td>18</td>\n",
       "    </tr>\n",
       "    <tr>\n",
       "      <th>1</th>\n",
       "      <td>S2</td>\n",
       "      <td>11</td>\n",
       "    </tr>\n",
       "    <tr>\n",
       "      <th>2</th>\n",
       "      <td>S3</td>\n",
       "      <td>12</td>\n",
       "    </tr>\n",
       "    <tr>\n",
       "      <th>3</th>\n",
       "      <td>S1</td>\n",
       "      <td>15</td>\n",
       "    </tr>\n",
       "    <tr>\n",
       "      <th>4</th>\n",
       "      <td>S2</td>\n",
       "      <td>19</td>\n",
       "    </tr>\n",
       "    <tr>\n",
       "      <th>5</th>\n",
       "      <td>S3</td>\n",
       "      <td>10</td>\n",
       "    </tr>\n",
       "  </tbody>\n",
       "</table>\n",
       "</div>"
      ],
      "text/plain": [
       "  Student_ID  Grades\n",
       "0         S1      18\n",
       "1         S2      11\n",
       "2         S3      12\n",
       "3         S1      15\n",
       "4         S2      19\n",
       "5         S3      10"
      ]
     },
     "execution_count": 7,
     "metadata": {},
     "output_type": "execute_result"
    }
   ],
   "source": [
    "Courses"
   ]
  },
  {
   "cell_type": "code",
   "execution_count": 3,
   "id": "b8d8b337",
   "metadata": {},
   "outputs": [
    {
     "name": "stdout",
     "output_type": "stream",
     "text": [
      "  Student_ID  Birth_date  year\n",
      "0         S1  1996-07-14  1996\n",
      "1         S2  1997-08-22  1997\n",
      "2         S3  1998-05-11  1998\n"
     ]
    }
   ],
   "source": [
    "#%% extracting the year from the birth date\n",
    "Student_R['year'] = pd.DatetimeIndex(Student_R['Birth_date']).year\n",
    "print(Student_R.head())\n",
    "# console output:\n",
    "#   Student_ID  Birth_date  year\n",
    "# 0         S1  1996-07-14  1996\n",
    "# 1         S2  1997-08-22  1997\n",
    "# 2         S3  1998-05-11  1998"
   ]
  },
  {
   "cell_type": "code",
   "execution_count": 4,
   "id": "d9e30bfe",
   "metadata": {},
   "outputs": [],
   "source": [
    "#%% creation of features by aggregation of grouped values\n",
    "goper = Courses.groupby('Student_ID')['Grades'].\\\n",
    "    agg(['mean','max','min'])"
   ]
  },
  {
   "cell_type": "code",
   "execution_count": 8,
   "id": "ddb07ab8",
   "metadata": {},
   "outputs": [
    {
     "name": "stdout",
     "output_type": "stream",
     "text": [
      "            mean_grade  max_grade  min_grade\n",
      "Student_ID                                  \n",
      "S1                16.5         18         15\n",
      "S2                15.0         19         11\n",
      "S3                11.0         12         10\n"
     ]
    }
   ],
   "source": [
    "# rename columns\n",
    "goper.columns = ['mean_grade','max_grade','min_grade']\n",
    "print(goper.head())\n",
    "# console output:\n",
    "#             mean_grade  max_grade  min_grade\n",
    "# Student_ID                                  \n",
    "# S1                16.5         18         15\n",
    "# S2                15.0         19         11\n",
    "# S3                11.0         12         10"
   ]
  },
  {
   "cell_type": "code",
   "execution_count": null,
   "id": "bd017afd",
   "metadata": {},
   "outputs": [],
   "source": []
  },
  {
   "cell_type": "code",
   "execution_count": 9,
   "id": "a8da1a07",
   "metadata": {},
   "outputs": [
    {
     "data": {
      "text/html": [
       "<div>\n",
       "<style scoped>\n",
       "    .dataframe tbody tr th:only-of-type {\n",
       "        vertical-align: middle;\n",
       "    }\n",
       "\n",
       "    .dataframe tbody tr th {\n",
       "        vertical-align: top;\n",
       "    }\n",
       "\n",
       "    .dataframe thead th {\n",
       "        text-align: right;\n",
       "    }\n",
       "</style>\n",
       "<table border=\"1\" class=\"dataframe\">\n",
       "  <thead>\n",
       "    <tr style=\"text-align: right;\">\n",
       "      <th></th>\n",
       "      <th>Student_ID</th>\n",
       "      <th>Birth_date</th>\n",
       "      <th>year</th>\n",
       "      <th>mean_grade</th>\n",
       "      <th>max_grade</th>\n",
       "      <th>min_grade</th>\n",
       "    </tr>\n",
       "  </thead>\n",
       "  <tbody>\n",
       "    <tr>\n",
       "      <th>0</th>\n",
       "      <td>S1</td>\n",
       "      <td>1996-07-14</td>\n",
       "      <td>1996</td>\n",
       "      <td>16.5</td>\n",
       "      <td>18</td>\n",
       "      <td>15</td>\n",
       "    </tr>\n",
       "    <tr>\n",
       "      <th>1</th>\n",
       "      <td>S2</td>\n",
       "      <td>1997-08-22</td>\n",
       "      <td>1997</td>\n",
       "      <td>15.0</td>\n",
       "      <td>19</td>\n",
       "      <td>11</td>\n",
       "    </tr>\n",
       "    <tr>\n",
       "      <th>2</th>\n",
       "      <td>S3</td>\n",
       "      <td>1998-05-11</td>\n",
       "      <td>1998</td>\n",
       "      <td>11.0</td>\n",
       "      <td>12</td>\n",
       "      <td>10</td>\n",
       "    </tr>\n",
       "  </tbody>\n",
       "</table>\n",
       "</div>"
      ],
      "text/plain": [
       "  Student_ID  Birth_date  year  mean_grade  max_grade  min_grade\n",
       "0         S1  1996-07-14  1996        16.5         18         15\n",
       "1         S2  1997-08-22  1997        15.0         19         11\n",
       "2         S3  1998-05-11  1998        11.0         12         10"
      ]
     },
     "execution_count": 9,
     "metadata": {},
     "output_type": "execute_result"
    }
   ],
   "source": [
    "#%% merge with the Student_R dataframe\n",
    "R = Student_R.merge(goper, left_on = 'Student_ID', \\\n",
    "    right_index=True, how = 'left'). \\\n",
    "        head()\n",
    "# show the dataframe\n",
    "R\n",
    "#   Student_ID  Birth_date  year  mean_grade  max_grade  min_grade\n",
    "# 0         S1  1996-07-14  1996        16.5         18         15\n",
    "# 1         S2  1997-08-22  1997        15.0         19         11\n",
    "# 2         S3  1998-05-11  1998        11.0         12         10"
   ]
  },
  {
   "cell_type": "markdown",
   "id": "8f43b4e5",
   "metadata": {},
   "source": [
    "### 2. Example 2\n",
    "In this example, we will see how we can use Python to extract added value within a dataset based on dates.\n"
   ]
  },
  {
   "cell_type": "code",
   "execution_count": 7,
   "id": "f456a567",
   "metadata": {},
   "outputs": [],
   "source": [
    "# load the required packages\n",
    "import pandas as pd\n",
    "from scipy.stats import spearmanr\n",
    "from datetime import date\n",
    "import seaborn as sns"
   ]
  },
  {
   "cell_type": "code",
   "execution_count": 8,
   "id": "e9b10aa2",
   "metadata": {},
   "outputs": [],
   "source": [
    "#%% load the data\n",
    "dat = pd.read_csv('data_visitors.csv', delimiter=' ')"
   ]
  },
  {
   "cell_type": "code",
   "execution_count": 9,
   "id": "d8165651",
   "metadata": {},
   "outputs": [
    {
     "data": {
      "text/html": [
       "<div>\n",
       "<style scoped>\n",
       "    .dataframe tbody tr th:only-of-type {\n",
       "        vertical-align: middle;\n",
       "    }\n",
       "\n",
       "    .dataframe tbody tr th {\n",
       "        vertical-align: top;\n",
       "    }\n",
       "\n",
       "    .dataframe thead th {\n",
       "        text-align: right;\n",
       "    }\n",
       "</style>\n",
       "<table border=\"1\" class=\"dataframe\">\n",
       "  <thead>\n",
       "    <tr style=\"text-align: right;\">\n",
       "      <th></th>\n",
       "      <th>date</th>\n",
       "      <th>visitors</th>\n",
       "    </tr>\n",
       "  </thead>\n",
       "  <tbody>\n",
       "    <tr>\n",
       "      <th>0</th>\n",
       "      <td>2021-01-01</td>\n",
       "      <td>2735</td>\n",
       "    </tr>\n",
       "    <tr>\n",
       "      <th>1</th>\n",
       "      <td>2021-01-02</td>\n",
       "      <td>2084</td>\n",
       "    </tr>\n",
       "    <tr>\n",
       "      <th>2</th>\n",
       "      <td>2021-01-03</td>\n",
       "      <td>647</td>\n",
       "    </tr>\n",
       "    <tr>\n",
       "      <th>3</th>\n",
       "      <td>2021-01-04</td>\n",
       "      <td>1098</td>\n",
       "    </tr>\n",
       "    <tr>\n",
       "      <th>4</th>\n",
       "      <td>2021-01-05</td>\n",
       "      <td>1778</td>\n",
       "    </tr>\n",
       "    <tr>\n",
       "      <th>...</th>\n",
       "      <td>...</td>\n",
       "      <td>...</td>\n",
       "    </tr>\n",
       "    <tr>\n",
       "      <th>360</th>\n",
       "      <td>2021-12-27</td>\n",
       "      <td>536</td>\n",
       "    </tr>\n",
       "    <tr>\n",
       "      <th>361</th>\n",
       "      <td>2021-12-28</td>\n",
       "      <td>277</td>\n",
       "    </tr>\n",
       "    <tr>\n",
       "      <th>362</th>\n",
       "      <td>2021-12-29</td>\n",
       "      <td>842</td>\n",
       "    </tr>\n",
       "    <tr>\n",
       "      <th>363</th>\n",
       "      <td>2021-12-30</td>\n",
       "      <td>1163</td>\n",
       "    </tr>\n",
       "    <tr>\n",
       "      <th>364</th>\n",
       "      <td>2021-12-31</td>\n",
       "      <td>2200</td>\n",
       "    </tr>\n",
       "  </tbody>\n",
       "</table>\n",
       "<p>365 rows × 2 columns</p>\n",
       "</div>"
      ],
      "text/plain": [
       "           date  visitors\n",
       "0    2021-01-01      2735\n",
       "1    2021-01-02      2084\n",
       "2    2021-01-03       647\n",
       "3    2021-01-04      1098\n",
       "4    2021-01-05      1778\n",
       "..          ...       ...\n",
       "360  2021-12-27       536\n",
       "361  2021-12-28       277\n",
       "362  2021-12-29       842\n",
       "363  2021-12-30      1163\n",
       "364  2021-12-31      2200\n",
       "\n",
       "[365 rows x 2 columns]"
      ]
     },
     "execution_count": 9,
     "metadata": {},
     "output_type": "execute_result"
    }
   ],
   "source": [
    "#%% glimpse at the data\n",
    "dat"
   ]
  },
  {
   "cell_type": "code",
   "execution_count": 11,
   "id": "36bfcfaf",
   "metadata": {},
   "outputs": [
    {
     "data": {
      "text/plain": [
       "SpearmanrResult(correlation=0.0010369613036009904, pvalue=0.9842482530265125)"
      ]
     },
     "execution_count": 11,
     "metadata": {},
     "output_type": "execute_result"
    }
   ],
   "source": [
    "#%% correlate the date and the visitors\n",
    "spearmanr(dat['date'], dat['visitors'])\n",
    "#Calculate a Spearman correlation coefficient with associated p-value.\n",
    "# The Spearman rank-order correlation coefficient is a nonparametric measure of the monotonicity of the relationship\n",
    "# between two datasets. Like other correlation coefficients, this one varies between -1 and +1 with 0 implying no correlation\n",
    "# Correlations of -1 or +1 imply an exact monotonic relationship. \n",
    "# Positive correlations imply that as x increases, so does y. \n",
    "# Negative correlations imply that as x increases, y decreases."
   ]
  },
  {
   "cell_type": "code",
   "execution_count": 12,
   "id": "cdf9cc2b",
   "metadata": {},
   "outputs": [],
   "source": [
    "#%% define the date as such\n",
    "dat['date'] = pd.to_datetime(dat['date'])"
   ]
  },
  {
   "cell_type": "code",
   "execution_count": 13,
   "id": "9b0a9b4b",
   "metadata": {},
   "outputs": [],
   "source": [
    "#%% extract the weekdays from the date (Monday is 0 and Sunday is 6)\n",
    "dat['weekday'] = dat['date'].apply(lambda date: date.weekday())"
   ]
  },
  {
   "cell_type": "code",
   "execution_count": 14,
   "id": "3d14efc5",
   "metadata": {},
   "outputs": [
    {
     "data": {
      "text/html": [
       "<div>\n",
       "<style scoped>\n",
       "    .dataframe tbody tr th:only-of-type {\n",
       "        vertical-align: middle;\n",
       "    }\n",
       "\n",
       "    .dataframe tbody tr th {\n",
       "        vertical-align: top;\n",
       "    }\n",
       "\n",
       "    .dataframe thead th {\n",
       "        text-align: right;\n",
       "    }\n",
       "</style>\n",
       "<table border=\"1\" class=\"dataframe\">\n",
       "  <thead>\n",
       "    <tr style=\"text-align: right;\">\n",
       "      <th></th>\n",
       "      <th>date</th>\n",
       "      <th>visitors</th>\n",
       "      <th>weekday</th>\n",
       "    </tr>\n",
       "  </thead>\n",
       "  <tbody>\n",
       "    <tr>\n",
       "      <th>0</th>\n",
       "      <td>2021-01-01</td>\n",
       "      <td>2735</td>\n",
       "      <td>4</td>\n",
       "    </tr>\n",
       "    <tr>\n",
       "      <th>1</th>\n",
       "      <td>2021-01-02</td>\n",
       "      <td>2084</td>\n",
       "      <td>5</td>\n",
       "    </tr>\n",
       "    <tr>\n",
       "      <th>2</th>\n",
       "      <td>2021-01-03</td>\n",
       "      <td>647</td>\n",
       "      <td>6</td>\n",
       "    </tr>\n",
       "    <tr>\n",
       "      <th>3</th>\n",
       "      <td>2021-01-04</td>\n",
       "      <td>1098</td>\n",
       "      <td>0</td>\n",
       "    </tr>\n",
       "    <tr>\n",
       "      <th>4</th>\n",
       "      <td>2021-01-05</td>\n",
       "      <td>1778</td>\n",
       "      <td>1</td>\n",
       "    </tr>\n",
       "    <tr>\n",
       "      <th>...</th>\n",
       "      <td>...</td>\n",
       "      <td>...</td>\n",
       "      <td>...</td>\n",
       "    </tr>\n",
       "    <tr>\n",
       "      <th>360</th>\n",
       "      <td>2021-12-27</td>\n",
       "      <td>536</td>\n",
       "      <td>0</td>\n",
       "    </tr>\n",
       "    <tr>\n",
       "      <th>361</th>\n",
       "      <td>2021-12-28</td>\n",
       "      <td>277</td>\n",
       "      <td>1</td>\n",
       "    </tr>\n",
       "    <tr>\n",
       "      <th>362</th>\n",
       "      <td>2021-12-29</td>\n",
       "      <td>842</td>\n",
       "      <td>2</td>\n",
       "    </tr>\n",
       "    <tr>\n",
       "      <th>363</th>\n",
       "      <td>2021-12-30</td>\n",
       "      <td>1163</td>\n",
       "      <td>3</td>\n",
       "    </tr>\n",
       "    <tr>\n",
       "      <th>364</th>\n",
       "      <td>2021-12-31</td>\n",
       "      <td>2200</td>\n",
       "      <td>4</td>\n",
       "    </tr>\n",
       "  </tbody>\n",
       "</table>\n",
       "<p>365 rows × 3 columns</p>\n",
       "</div>"
      ],
      "text/plain": [
       "          date  visitors  weekday\n",
       "0   2021-01-01      2735        4\n",
       "1   2021-01-02      2084        5\n",
       "2   2021-01-03       647        6\n",
       "3   2021-01-04      1098        0\n",
       "4   2021-01-05      1778        1\n",
       "..         ...       ...      ...\n",
       "360 2021-12-27       536        0\n",
       "361 2021-12-28       277        1\n",
       "362 2021-12-29       842        2\n",
       "363 2021-12-30      1163        3\n",
       "364 2021-12-31      2200        4\n",
       "\n",
       "[365 rows x 3 columns]"
      ]
     },
     "execution_count": 14,
     "metadata": {},
     "output_type": "execute_result"
    }
   ],
   "source": [
    "#%% glimpse at the data\n",
    "dat"
   ]
  },
  {
   "cell_type": "code",
   "execution_count": 15,
   "id": "34e20e5c",
   "metadata": {},
   "outputs": [],
   "source": [
    "#%% extract the weekends\n",
    "dat['weekend'] = dat['weekday'].apply(lambda weekday: 0 if (weekday < 5) else 1)"
   ]
  },
  {
   "cell_type": "code",
   "execution_count": 16,
   "id": "ee1ee58e",
   "metadata": {},
   "outputs": [
    {
     "data": {
      "text/html": [
       "<div>\n",
       "<style scoped>\n",
       "    .dataframe tbody tr th:only-of-type {\n",
       "        vertical-align: middle;\n",
       "    }\n",
       "\n",
       "    .dataframe tbody tr th {\n",
       "        vertical-align: top;\n",
       "    }\n",
       "\n",
       "    .dataframe thead th {\n",
       "        text-align: right;\n",
       "    }\n",
       "</style>\n",
       "<table border=\"1\" class=\"dataframe\">\n",
       "  <thead>\n",
       "    <tr style=\"text-align: right;\">\n",
       "      <th></th>\n",
       "      <th>date</th>\n",
       "      <th>visitors</th>\n",
       "      <th>weekday</th>\n",
       "      <th>weekend</th>\n",
       "    </tr>\n",
       "  </thead>\n",
       "  <tbody>\n",
       "    <tr>\n",
       "      <th>0</th>\n",
       "      <td>2021-01-01</td>\n",
       "      <td>2735</td>\n",
       "      <td>4</td>\n",
       "      <td>0</td>\n",
       "    </tr>\n",
       "    <tr>\n",
       "      <th>1</th>\n",
       "      <td>2021-01-02</td>\n",
       "      <td>2084</td>\n",
       "      <td>5</td>\n",
       "      <td>1</td>\n",
       "    </tr>\n",
       "    <tr>\n",
       "      <th>2</th>\n",
       "      <td>2021-01-03</td>\n",
       "      <td>647</td>\n",
       "      <td>6</td>\n",
       "      <td>1</td>\n",
       "    </tr>\n",
       "    <tr>\n",
       "      <th>3</th>\n",
       "      <td>2021-01-04</td>\n",
       "      <td>1098</td>\n",
       "      <td>0</td>\n",
       "      <td>0</td>\n",
       "    </tr>\n",
       "    <tr>\n",
       "      <th>4</th>\n",
       "      <td>2021-01-05</td>\n",
       "      <td>1778</td>\n",
       "      <td>1</td>\n",
       "      <td>0</td>\n",
       "    </tr>\n",
       "    <tr>\n",
       "      <th>...</th>\n",
       "      <td>...</td>\n",
       "      <td>...</td>\n",
       "      <td>...</td>\n",
       "      <td>...</td>\n",
       "    </tr>\n",
       "    <tr>\n",
       "      <th>360</th>\n",
       "      <td>2021-12-27</td>\n",
       "      <td>536</td>\n",
       "      <td>0</td>\n",
       "      <td>0</td>\n",
       "    </tr>\n",
       "    <tr>\n",
       "      <th>361</th>\n",
       "      <td>2021-12-28</td>\n",
       "      <td>277</td>\n",
       "      <td>1</td>\n",
       "      <td>0</td>\n",
       "    </tr>\n",
       "    <tr>\n",
       "      <th>362</th>\n",
       "      <td>2021-12-29</td>\n",
       "      <td>842</td>\n",
       "      <td>2</td>\n",
       "      <td>0</td>\n",
       "    </tr>\n",
       "    <tr>\n",
       "      <th>363</th>\n",
       "      <td>2021-12-30</td>\n",
       "      <td>1163</td>\n",
       "      <td>3</td>\n",
       "      <td>0</td>\n",
       "    </tr>\n",
       "    <tr>\n",
       "      <th>364</th>\n",
       "      <td>2021-12-31</td>\n",
       "      <td>2200</td>\n",
       "      <td>4</td>\n",
       "      <td>0</td>\n",
       "    </tr>\n",
       "  </tbody>\n",
       "</table>\n",
       "<p>365 rows × 4 columns</p>\n",
       "</div>"
      ],
      "text/plain": [
       "          date  visitors  weekday  weekend\n",
       "0   2021-01-01      2735        4        0\n",
       "1   2021-01-02      2084        5        1\n",
       "2   2021-01-03       647        6        1\n",
       "3   2021-01-04      1098        0        0\n",
       "4   2021-01-05      1778        1        0\n",
       "..         ...       ...      ...      ...\n",
       "360 2021-12-27       536        0        0\n",
       "361 2021-12-28       277        1        0\n",
       "362 2021-12-29       842        2        0\n",
       "363 2021-12-30      1163        3        0\n",
       "364 2021-12-31      2200        4        0\n",
       "\n",
       "[365 rows x 4 columns]"
      ]
     },
     "execution_count": 16,
     "metadata": {},
     "output_type": "execute_result"
    }
   ],
   "source": [
    "#%% glimpse at the data\n",
    "dat"
   ]
  },
  {
   "cell_type": "code",
   "execution_count": 17,
   "id": "36b6f2c5",
   "metadata": {},
   "outputs": [
    {
     "data": {
      "text/plain": [
       "SpearmanrResult(correlation=0.20095637220308932, pvalue=0.00011081519702575257)"
      ]
     },
     "execution_count": 17,
     "metadata": {},
     "output_type": "execute_result"
    }
   ],
   "source": [
    "#%% correlate the weekends and the visitors\n",
    "spearmanr(dat['weekend'], dat['visitors'])"
   ]
  },
  {
   "cell_type": "code",
   "execution_count": 18,
   "id": "a3ce3e4a",
   "metadata": {},
   "outputs": [
    {
     "data": {
      "image/png": "[encoded data removed]",
      "text/plain": [
       "<Figure size 432x288 with 1 Axes>"
      ]
     },
     "metadata": {
      "needs_background": "light"
     },
     "output_type": "display_data"
    }
   ],
   "source": [
    "#%% visually glimpse at the data\n",
    "ax = sns.barplot(x=\"weekend\", y=\"visitors\", data=dat)\n",
    "# %%"
   ]
  },
  {
   "cell_type": "code",
   "execution_count": null,
   "id": "84e50cbb",
   "metadata": {},
   "outputs": [],
   "source": []
  }
 ],
 "metadata": {
  "kernelspec": {
   "display_name": "Python 3",
   "language": "python",
   "name": "python3"
  },
  "language_info": {
   "codemirror_mode": {
    "name": "ipython",
    "version": 3
   },
   "file_extension": ".py",
   "mimetype": "text/x-python",
   "name": "python",
   "nbconvert_exporter": "python",
   "pygments_lexer": "ipython3",
   "version": "3.7.9"
  }
 },
 "nbformat": 4,
 "nbformat_minor": 5
}
