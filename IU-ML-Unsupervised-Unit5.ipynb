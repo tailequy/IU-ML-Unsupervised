{
 "cells": [
  {
   "cell_type": "markdown",
   "id": "6eb2a04f",
   "metadata": {},
   "source": [
    "# Machine Learning - Unsupervised Learning and Feature Engineering\n",
    "## Unit 5. Feature Selection\n",
    "### Lecturer: Tai Le Quy\n",
    "#### 30.8.2023\n",
    "Thanks Prof. Dr. Christian Müller-Kett for his code."
   ]
  },
  {
   "cell_type": "markdown",
   "id": "ec3ed8bc",
   "metadata": {},
   "source": [
    "## 1 Feature Importance"
   ]
  },
  {
   "cell_type": "markdown",
   "id": "a2214ce2",
   "metadata": {},
   "source": [
    "### 1.1 ANOVA test"
   ]
  },
  {
   "cell_type": "code",
   "execution_count": 1,
   "id": "a61673c1",
   "metadata": {},
   "outputs": [],
   "source": [
    "# Feature Importance\n",
    "# ANOVA test\n",
    "\n",
    "#SelectKBest is a function that takes two arrays as input: the data points X and target \n",
    "#or response variable or column y, and\n",
    "#returns a pair of arrays (features scores and p-values) or just the features’ scores array.\n",
    "#It return f_classif is a function that performs ANOVA test by assigning it a p-value for\n",
    "#a classification task. Then, SelectKBest will rank the different features according to their\n",
    "#assigned p-value (the lower the better) and will retain the best k features. Hence, k\n",
    "#must be predefined by the user.\n",
    "\n",
    "#%% import libraries\n",
    "import pandas as pd\n",
    "import numpy as np\n",
    "import matplotlib.pyplot as plt\n",
    "from sklearn.datasets import load_iris\n",
    "from sklearn.feature_selection import SelectKBest   \n",
    "from sklearn.feature_selection import f_classif"
   ]
  },
  {
   "cell_type": "code",
   "execution_count": 2,
   "id": "797f7dc8",
   "metadata": {},
   "outputs": [],
   "source": [
    "#%% load sample data\n",
    "iris = load_iris()\n",
    "feature_names = load_iris().feature_names\n",
    "X = pd.DataFrame(iris.data, columns=iris.feature_names)\n",
    "y = iris.target"
   ]
  },
  {
   "cell_type": "code",
   "execution_count": 4,
   "id": "f0d2f2b8",
   "metadata": {},
   "outputs": [],
   "source": [
    "#%%\n",
    "# create feature selector which uses F-values\n",
    "# in an ANOVA-test between test samples and labels\n",
    "# to select 2 features\n",
    "selector = SelectKBest(score_func=f_classif, k=2)"
   ]
  },
  {
   "cell_type": "code",
   "execution_count": 5,
   "id": "2f72cd40",
   "metadata": {},
   "outputs": [],
   "source": [
    "#%% fit the selector\n",
    "X_new = selector.fit_transform(X, y)"
   ]
  },
  {
   "cell_type": "code",
   "execution_count": 6,
   "id": "f4579ba1",
   "metadata": {},
   "outputs": [
    {
     "data": {
      "text/plain": [
       "array([[1.4, 0.2],\n",
       "       [1.4, 0.2],\n",
       "       [1.3, 0.2],\n",
       "       [1.5, 0.2],\n",
       "       [1.4, 0.2],\n",
       "       [1.7, 0.4],\n",
       "       [1.4, 0.3],\n",
       "       [1.5, 0.2],\n",
       "       [1.4, 0.2],\n",
       "       [1.5, 0.1],\n",
       "       [1.5, 0.2],\n",
       "       [1.6, 0.2],\n",
       "       [1.4, 0.1],\n",
       "       [1.1, 0.1],\n",
       "       [1.2, 0.2],\n",
       "       [1.5, 0.4],\n",
       "       [1.3, 0.4],\n",
       "       [1.4, 0.3],\n",
       "       [1.7, 0.3],\n",
       "       [1.5, 0.3],\n",
       "       [1.7, 0.2],\n",
       "       [1.5, 0.4],\n",
       "       [1. , 0.2],\n",
       "       [1.7, 0.5],\n",
       "       [1.9, 0.2],\n",
       "       [1.6, 0.2],\n",
       "       [1.6, 0.4],\n",
       "       [1.5, 0.2],\n",
       "       [1.4, 0.2],\n",
       "       [1.6, 0.2],\n",
       "       [1.6, 0.2],\n",
       "       [1.5, 0.4],\n",
       "       [1.5, 0.1],\n",
       "       [1.4, 0.2],\n",
       "       [1.5, 0.2],\n",
       "       [1.2, 0.2],\n",
       "       [1.3, 0.2],\n",
       "       [1.4, 0.1],\n",
       "       [1.3, 0.2],\n",
       "       [1.5, 0.2],\n",
       "       [1.3, 0.3],\n",
       "       [1.3, 0.3],\n",
       "       [1.3, 0.2],\n",
       "       [1.6, 0.6],\n",
       "       [1.9, 0.4],\n",
       "       [1.4, 0.3],\n",
       "       [1.6, 0.2],\n",
       "       [1.4, 0.2],\n",
       "       [1.5, 0.2],\n",
       "       [1.4, 0.2],\n",
       "       [4.7, 1.4],\n",
       "       [4.5, 1.5],\n",
       "       [4.9, 1.5],\n",
       "       [4. , 1.3],\n",
       "       [4.6, 1.5],\n",
       "       [4.5, 1.3],\n",
       "       [4.7, 1.6],\n",
       "       [3.3, 1. ],\n",
       "       [4.6, 1.3],\n",
       "       [3.9, 1.4],\n",
       "       [3.5, 1. ],\n",
       "       [4.2, 1.5],\n",
       "       [4. , 1. ],\n",
       "       [4.7, 1.4],\n",
       "       [3.6, 1.3],\n",
       "       [4.4, 1.4],\n",
       "       [4.5, 1.5],\n",
       "       [4.1, 1. ],\n",
       "       [4.5, 1.5],\n",
       "       [3.9, 1.1],\n",
       "       [4.8, 1.8],\n",
       "       [4. , 1.3],\n",
       "       [4.9, 1.5],\n",
       "       [4.7, 1.2],\n",
       "       [4.3, 1.3],\n",
       "       [4.4, 1.4],\n",
       "       [4.8, 1.4],\n",
       "       [5. , 1.7],\n",
       "       [4.5, 1.5],\n",
       "       [3.5, 1. ],\n",
       "       [3.8, 1.1],\n",
       "       [3.7, 1. ],\n",
       "       [3.9, 1.2],\n",
       "       [5.1, 1.6],\n",
       "       [4.5, 1.5],\n",
       "       [4.5, 1.6],\n",
       "       [4.7, 1.5],\n",
       "       [4.4, 1.3],\n",
       "       [4.1, 1.3],\n",
       "       [4. , 1.3],\n",
       "       [4.4, 1.2],\n",
       "       [4.6, 1.4],\n",
       "       [4. , 1.2],\n",
       "       [3.3, 1. ],\n",
       "       [4.2, 1.3],\n",
       "       [4.2, 1.2],\n",
       "       [4.2, 1.3],\n",
       "       [4.3, 1.3],\n",
       "       [3. , 1.1],\n",
       "       [4.1, 1.3],\n",
       "       [6. , 2.5],\n",
       "       [5.1, 1.9],\n",
       "       [5.9, 2.1],\n",
       "       [5.6, 1.8],\n",
       "       [5.8, 2.2],\n",
       "       [6.6, 2.1],\n",
       "       [4.5, 1.7],\n",
       "       [6.3, 1.8],\n",
       "       [5.8, 1.8],\n",
       "       [6.1, 2.5],\n",
       "       [5.1, 2. ],\n",
       "       [5.3, 1.9],\n",
       "       [5.5, 2.1],\n",
       "       [5. , 2. ],\n",
       "       [5.1, 2.4],\n",
       "       [5.3, 2.3],\n",
       "       [5.5, 1.8],\n",
       "       [6.7, 2.2],\n",
       "       [6.9, 2.3],\n",
       "       [5. , 1.5],\n",
       "       [5.7, 2.3],\n",
       "       [4.9, 2. ],\n",
       "       [6.7, 2. ],\n",
       "       [4.9, 1.8],\n",
       "       [5.7, 2.1],\n",
       "       [6. , 1.8],\n",
       "       [4.8, 1.8],\n",
       "       [4.9, 1.8],\n",
       "       [5.6, 2.1],\n",
       "       [5.8, 1.6],\n",
       "       [6.1, 1.9],\n",
       "       [6.4, 2. ],\n",
       "       [5.6, 2.2],\n",
       "       [5.1, 1.5],\n",
       "       [5.6, 1.4],\n",
       "       [6.1, 2.3],\n",
       "       [5.6, 2.4],\n",
       "       [5.5, 1.8],\n",
       "       [4.8, 1.8],\n",
       "       [5.4, 2.1],\n",
       "       [5.6, 2.4],\n",
       "       [5.1, 2.3],\n",
       "       [5.1, 1.9],\n",
       "       [5.9, 2.3],\n",
       "       [5.7, 2.5],\n",
       "       [5.2, 2.3],\n",
       "       [5. , 1.9],\n",
       "       [5.2, 2. ],\n",
       "       [5.4, 2.3],\n",
       "       [5.1, 1.8]])"
      ]
     },
     "execution_count": 6,
     "metadata": {},
     "output_type": "execute_result"
    }
   ],
   "source": [
    "X_new"
   ]
  },
  {
   "cell_type": "code",
   "execution_count": 7,
   "id": "9503493a",
   "metadata": {},
   "outputs": [
    {
     "data": {
      "text/html": [
       "<div>\n",
       "<style scoped>\n",
       "    .dataframe tbody tr th:only-of-type {\n",
       "        vertical-align: middle;\n",
       "    }\n",
       "\n",
       "    .dataframe tbody tr th {\n",
       "        vertical-align: top;\n",
       "    }\n",
       "\n",
       "    .dataframe thead th {\n",
       "        text-align: right;\n",
       "    }\n",
       "</style>\n",
       "<table border=\"1\" class=\"dataframe\">\n",
       "  <thead>\n",
       "    <tr style=\"text-align: right;\">\n",
       "      <th></th>\n",
       "      <th>features</th>\n",
       "      <th>Scores</th>\n",
       "      <th>p-values</th>\n",
       "    </tr>\n",
       "  </thead>\n",
       "  <tbody>\n",
       "    <tr>\n",
       "      <th>0</th>\n",
       "      <td>sepal length (cm)</td>\n",
       "      <td>119.264502</td>\n",
       "      <td>1.669669e-31</td>\n",
       "    </tr>\n",
       "    <tr>\n",
       "      <th>1</th>\n",
       "      <td>sepal width (cm)</td>\n",
       "      <td>49.160040</td>\n",
       "      <td>4.492017e-17</td>\n",
       "    </tr>\n",
       "    <tr>\n",
       "      <th>2</th>\n",
       "      <td>petal length (cm)</td>\n",
       "      <td>1180.161182</td>\n",
       "      <td>2.856777e-91</td>\n",
       "    </tr>\n",
       "    <tr>\n",
       "      <th>3</th>\n",
       "      <td>petal width (cm)</td>\n",
       "      <td>960.007147</td>\n",
       "      <td>4.169446e-85</td>\n",
       "    </tr>\n",
       "  </tbody>\n",
       "</table>\n",
       "</div>"
      ],
      "text/plain": [
       "            features       Scores      p-values\n",
       "0  sepal length (cm)   119.264502  1.669669e-31\n",
       "1   sepal width (cm)    49.160040  4.492017e-17\n",
       "2  petal length (cm)  1180.161182  2.856777e-91\n",
       "3   petal width (cm)   960.007147  4.169446e-85"
      ]
     },
     "execution_count": 7,
     "metadata": {},
     "output_type": "execute_result"
    }
   ],
   "source": [
    "#%% print F- and p-values per feature\n",
    "pd.DataFrame({'features': feature_names, \n",
    "    'Scores': selector.scores_, \n",
    "    'p-values': selector.pvalues_})"
   ]
  },
  {
   "cell_type": "markdown",
   "id": "35151e20",
   "metadata": {},
   "source": [
    "### 1.2 Chi-square test"
   ]
  },
  {
   "cell_type": "code",
   "execution_count": 14,
   "id": "f605adb5",
   "metadata": {},
   "outputs": [],
   "source": [
    "#%% import libraries\n",
    "import pandas as pd\n",
    "from sklearn.feature_selection import SelectKBest, chi2\n",
    "from sklearn.preprocessing import LabelEncoder"
   ]
  },
  {
   "cell_type": "code",
   "execution_count": 15,
   "id": "d2061432",
   "metadata": {},
   "outputs": [],
   "source": [
    "#Load the data\n",
    "#This dataset is used to predict the bank churn rate: left a bank or decided to stay\n",
    "#https://www.kaggle.com/datasets/sonalidasgupta95/churn-prediction-of-bank-customers?resource=download\n",
    "churn_df = pd.read_csv('Churn_Modelling.csv')"
   ]
  },
  {
   "cell_type": "code",
   "execution_count": 16,
   "id": "830a2c85",
   "metadata": {},
   "outputs": [],
   "source": [
    "#%% prepare the data\n",
    "y = churn_df['Exited']\n",
    "X = churn_df[['Gender', 'HasCrCard', 'IsActiveMember']]"
   ]
  },
  {
   "cell_type": "code",
   "execution_count": 17,
   "id": "416c3673",
   "metadata": {},
   "outputs": [
    {
     "data": {
      "text/html": [
       "<div>\n",
       "<style scoped>\n",
       "    .dataframe tbody tr th:only-of-type {\n",
       "        vertical-align: middle;\n",
       "    }\n",
       "\n",
       "    .dataframe tbody tr th {\n",
       "        vertical-align: top;\n",
       "    }\n",
       "\n",
       "    .dataframe thead th {\n",
       "        text-align: right;\n",
       "    }\n",
       "</style>\n",
       "<table border=\"1\" class=\"dataframe\">\n",
       "  <thead>\n",
       "    <tr style=\"text-align: right;\">\n",
       "      <th></th>\n",
       "      <th>Gender</th>\n",
       "      <th>HasCrCard</th>\n",
       "      <th>IsActiveMember</th>\n",
       "    </tr>\n",
       "  </thead>\n",
       "  <tbody>\n",
       "    <tr>\n",
       "      <th>0</th>\n",
       "      <td>Female</td>\n",
       "      <td>1</td>\n",
       "      <td>1</td>\n",
       "    </tr>\n",
       "    <tr>\n",
       "      <th>1</th>\n",
       "      <td>Female</td>\n",
       "      <td>0</td>\n",
       "      <td>1</td>\n",
       "    </tr>\n",
       "    <tr>\n",
       "      <th>2</th>\n",
       "      <td>Female</td>\n",
       "      <td>1</td>\n",
       "      <td>0</td>\n",
       "    </tr>\n",
       "    <tr>\n",
       "      <th>3</th>\n",
       "      <td>Female</td>\n",
       "      <td>0</td>\n",
       "      <td>0</td>\n",
       "    </tr>\n",
       "    <tr>\n",
       "      <th>4</th>\n",
       "      <td>Female</td>\n",
       "      <td>1</td>\n",
       "      <td>1</td>\n",
       "    </tr>\n",
       "    <tr>\n",
       "      <th>...</th>\n",
       "      <td>...</td>\n",
       "      <td>...</td>\n",
       "      <td>...</td>\n",
       "    </tr>\n",
       "    <tr>\n",
       "      <th>9995</th>\n",
       "      <td>Male</td>\n",
       "      <td>1</td>\n",
       "      <td>0</td>\n",
       "    </tr>\n",
       "    <tr>\n",
       "      <th>9996</th>\n",
       "      <td>Male</td>\n",
       "      <td>1</td>\n",
       "      <td>1</td>\n",
       "    </tr>\n",
       "    <tr>\n",
       "      <th>9997</th>\n",
       "      <td>Female</td>\n",
       "      <td>0</td>\n",
       "      <td>1</td>\n",
       "    </tr>\n",
       "    <tr>\n",
       "      <th>9998</th>\n",
       "      <td>Male</td>\n",
       "      <td>1</td>\n",
       "      <td>0</td>\n",
       "    </tr>\n",
       "    <tr>\n",
       "      <th>9999</th>\n",
       "      <td>Female</td>\n",
       "      <td>1</td>\n",
       "      <td>0</td>\n",
       "    </tr>\n",
       "  </tbody>\n",
       "</table>\n",
       "<p>10000 rows × 3 columns</p>\n",
       "</div>"
      ],
      "text/plain": [
       "      Gender  HasCrCard  IsActiveMember\n",
       "0     Female          1               1\n",
       "1     Female          0               1\n",
       "2     Female          1               0\n",
       "3     Female          0               0\n",
       "4     Female          1               1\n",
       "...      ...        ...             ...\n",
       "9995    Male          1               0\n",
       "9996    Male          1               1\n",
       "9997  Female          0               1\n",
       "9998    Male          1               0\n",
       "9999  Female          1               0\n",
       "\n",
       "[10000 rows x 3 columns]"
      ]
     },
     "execution_count": 17,
     "metadata": {},
     "output_type": "execute_result"
    }
   ],
   "source": [
    "X"
   ]
  },
  {
   "cell_type": "code",
   "execution_count": 18,
   "id": "9540c17c",
   "metadata": {},
   "outputs": [
    {
     "name": "stderr",
     "output_type": "stream",
     "text": [
      "C:\\ProgramData\\Anaconda3\\lib\\site-packages\\ipykernel_launcher.py:2: SettingWithCopyWarning: \n",
      "A value is trying to be set on a copy of a slice from a DataFrame.\n",
      "Try using .loc[row_indexer,col_indexer] = value instead\n",
      "\n",
      "See the caveats in the documentation: https://pandas.pydata.org/pandas-docs/stable/user_guide/indexing.html#returning-a-view-versus-a-copy\n",
      "  \n"
     ]
    }
   ],
   "source": [
    "#%% apply label encoder\n",
    "X['Gender'] = LabelEncoder().fit_transform(X['Gender'])"
   ]
  },
  {
   "cell_type": "code",
   "execution_count": 19,
   "id": "869f3a72",
   "metadata": {},
   "outputs": [
    {
     "data": {
      "text/html": [
       "<div>\n",
       "<style scoped>\n",
       "    .dataframe tbody tr th:only-of-type {\n",
       "        vertical-align: middle;\n",
       "    }\n",
       "\n",
       "    .dataframe tbody tr th {\n",
       "        vertical-align: top;\n",
       "    }\n",
       "\n",
       "    .dataframe thead th {\n",
       "        text-align: right;\n",
       "    }\n",
       "</style>\n",
       "<table border=\"1\" class=\"dataframe\">\n",
       "  <thead>\n",
       "    <tr style=\"text-align: right;\">\n",
       "      <th></th>\n",
       "      <th>Gender</th>\n",
       "      <th>HasCrCard</th>\n",
       "      <th>IsActiveMember</th>\n",
       "    </tr>\n",
       "  </thead>\n",
       "  <tbody>\n",
       "    <tr>\n",
       "      <th>0</th>\n",
       "      <td>0</td>\n",
       "      <td>1</td>\n",
       "      <td>1</td>\n",
       "    </tr>\n",
       "    <tr>\n",
       "      <th>1</th>\n",
       "      <td>0</td>\n",
       "      <td>0</td>\n",
       "      <td>1</td>\n",
       "    </tr>\n",
       "    <tr>\n",
       "      <th>2</th>\n",
       "      <td>0</td>\n",
       "      <td>1</td>\n",
       "      <td>0</td>\n",
       "    </tr>\n",
       "    <tr>\n",
       "      <th>3</th>\n",
       "      <td>0</td>\n",
       "      <td>0</td>\n",
       "      <td>0</td>\n",
       "    </tr>\n",
       "    <tr>\n",
       "      <th>4</th>\n",
       "      <td>0</td>\n",
       "      <td>1</td>\n",
       "      <td>1</td>\n",
       "    </tr>\n",
       "    <tr>\n",
       "      <th>...</th>\n",
       "      <td>...</td>\n",
       "      <td>...</td>\n",
       "      <td>...</td>\n",
       "    </tr>\n",
       "    <tr>\n",
       "      <th>9995</th>\n",
       "      <td>1</td>\n",
       "      <td>1</td>\n",
       "      <td>0</td>\n",
       "    </tr>\n",
       "    <tr>\n",
       "      <th>9996</th>\n",
       "      <td>1</td>\n",
       "      <td>1</td>\n",
       "      <td>1</td>\n",
       "    </tr>\n",
       "    <tr>\n",
       "      <th>9997</th>\n",
       "      <td>0</td>\n",
       "      <td>0</td>\n",
       "      <td>1</td>\n",
       "    </tr>\n",
       "    <tr>\n",
       "      <th>9998</th>\n",
       "      <td>1</td>\n",
       "      <td>1</td>\n",
       "      <td>0</td>\n",
       "    </tr>\n",
       "    <tr>\n",
       "      <th>9999</th>\n",
       "      <td>0</td>\n",
       "      <td>1</td>\n",
       "      <td>0</td>\n",
       "    </tr>\n",
       "  </tbody>\n",
       "</table>\n",
       "<p>10000 rows × 3 columns</p>\n",
       "</div>"
      ],
      "text/plain": [
       "      Gender  HasCrCard  IsActiveMember\n",
       "0          0          1               1\n",
       "1          0          0               1\n",
       "2          0          1               0\n",
       "3          0          0               0\n",
       "4          0          1               1\n",
       "...      ...        ...             ...\n",
       "9995       1          1               0\n",
       "9996       1          1               1\n",
       "9997       0          0               1\n",
       "9998       1          1               0\n",
       "9999       0          1               0\n",
       "\n",
       "[10000 rows x 3 columns]"
      ]
     },
     "execution_count": 19,
     "metadata": {},
     "output_type": "execute_result"
    }
   ],
   "source": [
    "X"
   ]
  },
  {
   "cell_type": "code",
   "execution_count": 20,
   "id": "7cd46cce",
   "metadata": {},
   "outputs": [
    {
     "data": {
      "text/plain": [
       "SelectKBest(k=2, score_func=<function chi2 at 0x0000027715F4B8B8>)"
      ]
     },
     "execution_count": 20,
     "metadata": {},
     "output_type": "execute_result"
    }
   ],
   "source": [
    "#%% create and fit feature selector\n",
    "selector = SelectKBest(chi2, k=2)\n",
    "selector.fit(X,y)"
   ]
  },
  {
   "cell_type": "code",
   "execution_count": 21,
   "id": "d960ae2c",
   "metadata": {},
   "outputs": [],
   "source": [
    "#%% apply feature selector to the data\n",
    "X_new = selector.transform(X)"
   ]
  },
  {
   "cell_type": "code",
   "execution_count": 22,
   "id": "4154921b",
   "metadata": {},
   "outputs": [
    {
     "data": {
      "text/plain": [
       "array([[0, 1],\n",
       "       [0, 1],\n",
       "       [0, 0],\n",
       "       ...,\n",
       "       [0, 1],\n",
       "       [1, 0],\n",
       "       [0, 0]], dtype=int64)"
      ]
     },
     "execution_count": 22,
     "metadata": {},
     "output_type": "execute_result"
    }
   ],
   "source": [
    "X_new"
   ]
  },
  {
   "cell_type": "code",
   "execution_count": 23,
   "id": "275d7a9d",
   "metadata": {},
   "outputs": [
    {
     "data": {
      "text/html": [
       "<div>\n",
       "<style scoped>\n",
       "    .dataframe tbody tr th:only-of-type {\n",
       "        vertical-align: middle;\n",
       "    }\n",
       "\n",
       "    .dataframe tbody tr th {\n",
       "        vertical-align: top;\n",
       "    }\n",
       "\n",
       "    .dataframe thead th {\n",
       "        text-align: right;\n",
       "    }\n",
       "</style>\n",
       "<table border=\"1\" class=\"dataframe\">\n",
       "  <thead>\n",
       "    <tr style=\"text-align: right;\">\n",
       "      <th></th>\n",
       "      <th>features</th>\n",
       "      <th>Scores</th>\n",
       "      <th>p-values</th>\n",
       "    </tr>\n",
       "  </thead>\n",
       "  <tbody>\n",
       "    <tr>\n",
       "      <th>0</th>\n",
       "      <td>Gender</td>\n",
       "      <td>51.539926</td>\n",
       "      <td>7.015575e-13</td>\n",
       "    </tr>\n",
       "    <tr>\n",
       "      <th>1</th>\n",
       "      <td>HasCrCard</td>\n",
       "      <td>0.150041</td>\n",
       "      <td>6.984962e-01</td>\n",
       "    </tr>\n",
       "    <tr>\n",
       "      <th>2</th>\n",
       "      <td>IsActiveMember</td>\n",
       "      <td>118.199414</td>\n",
       "      <td>1.568036e-27</td>\n",
       "    </tr>\n",
       "  </tbody>\n",
       "</table>\n",
       "</div>"
      ],
      "text/plain": [
       "         features      Scores      p-values\n",
       "0          Gender   51.539926  7.015575e-13\n",
       "1       HasCrCard    0.150041  6.984962e-01\n",
       "2  IsActiveMember  118.199414  1.568036e-27"
      ]
     },
     "execution_count": 23,
     "metadata": {},
     "output_type": "execute_result"
    }
   ],
   "source": [
    "#%% print Chi²-statistics- and p-values per feature\n",
    "pd.DataFrame({'features': X.columns.values, 'Scores': selector.scores_, 'p-values': selector.pvalues_})\n"
   ]
  },
  {
   "cell_type": "markdown",
   "id": "7e67bdd7",
   "metadata": {},
   "source": [
    "### 1.3 Mutual information"
   ]
  },
  {
   "cell_type": "code",
   "execution_count": 24,
   "id": "9772df7a",
   "metadata": {},
   "outputs": [],
   "source": [
    "#%% import libraries\n",
    "from sklearn.feature_selection import mutual_info_classif\n",
    "from sklearn.feature_selection import SelectKBest\n",
    "import pandas as pd\n",
    "from sklearn.datasets import load_iris"
   ]
  },
  {
   "cell_type": "code",
   "execution_count": 25,
   "id": "875e1f1c",
   "metadata": {},
   "outputs": [],
   "source": [
    "#%% load sample data\n",
    "iris = load_iris()\n",
    "feature_names = load_iris().feature_names\n",
    "X = pd.DataFrame(iris.data, columns=iris.feature_names)\n",
    "y = iris.target"
   ]
  },
  {
   "cell_type": "code",
   "execution_count": 26,
   "id": "35743852",
   "metadata": {},
   "outputs": [],
   "source": [
    "##%% create and fit feature selector\n",
    "selector = SelectKBest(score_func=mutual_info_classif, k=2)\n",
    "X_new = selector.fit_transform(X, y)"
   ]
  },
  {
   "cell_type": "code",
   "execution_count": 27,
   "id": "2aec4113",
   "metadata": {},
   "outputs": [
    {
     "data": {
      "text/html": [
       "<div>\n",
       "<style scoped>\n",
       "    .dataframe tbody tr th:only-of-type {\n",
       "        vertical-align: middle;\n",
       "    }\n",
       "\n",
       "    .dataframe tbody tr th {\n",
       "        vertical-align: top;\n",
       "    }\n",
       "\n",
       "    .dataframe thead th {\n",
       "        text-align: right;\n",
       "    }\n",
       "</style>\n",
       "<table border=\"1\" class=\"dataframe\">\n",
       "  <thead>\n",
       "    <tr style=\"text-align: right;\">\n",
       "      <th></th>\n",
       "      <th>features</th>\n",
       "      <th>Scores</th>\n",
       "    </tr>\n",
       "  </thead>\n",
       "  <tbody>\n",
       "    <tr>\n",
       "      <th>0</th>\n",
       "      <td>sepal length (cm)</td>\n",
       "      <td>0.488584</td>\n",
       "    </tr>\n",
       "    <tr>\n",
       "      <th>1</th>\n",
       "      <td>sepal width (cm)</td>\n",
       "      <td>0.229371</td>\n",
       "    </tr>\n",
       "    <tr>\n",
       "      <th>2</th>\n",
       "      <td>petal length (cm)</td>\n",
       "      <td>0.983380</td>\n",
       "    </tr>\n",
       "    <tr>\n",
       "      <th>3</th>\n",
       "      <td>petal width (cm)</td>\n",
       "      <td>0.995523</td>\n",
       "    </tr>\n",
       "  </tbody>\n",
       "</table>\n",
       "</div>"
      ],
      "text/plain": [
       "            features    Scores\n",
       "0  sepal length (cm)  0.488584\n",
       "1   sepal width (cm)  0.229371\n",
       "2  petal length (cm)  0.983380\n",
       "3   petal width (cm)  0.995523"
      ]
     },
     "execution_count": 27,
     "metadata": {},
     "output_type": "execute_result"
    }
   ],
   "source": [
    "#%% print mutual information per feature\n",
    "pd.DataFrame({'features': X.columns.values, 'Scores': selector.scores_})"
   ]
  },
  {
   "cell_type": "markdown",
   "id": "68704446",
   "metadata": {},
   "source": [
    "### 1.4 Permutation Feature Importance"
   ]
  },
  {
   "cell_type": "code",
   "execution_count": 23,
   "id": "9cbbc88f",
   "metadata": {},
   "outputs": [],
   "source": [
    "#%% load libraries\n",
    "import pandas as pd\n",
    "from sklearn.datasets import load_iris\n",
    "from sklearn.model_selection import train_test_split\n",
    "from sklearn.inspection import permutation_importance\n",
    "from sklearn.neighbors import KNeighborsClassifier"
   ]
  },
  {
   "cell_type": "code",
   "execution_count": 24,
   "id": "3c0ed3d7",
   "metadata": {},
   "outputs": [],
   "source": [
    "#%% load sample data\n",
    "iris = load_iris()"
   ]
  },
  {
   "cell_type": "code",
   "execution_count": 25,
   "id": "5d0489b6",
   "metadata": {},
   "outputs": [],
   "source": [
    "#%% split the data into training and testing, 0.25 test size default\n",
    "X_train, X_test, y_train,y_test = train_test_split(iris.data, iris.target)"
   ]
  },
  {
   "cell_type": "code",
   "execution_count": 26,
   "id": "7921b731",
   "metadata": {},
   "outputs": [
    {
     "data": {
      "text/plain": [
       "KNeighborsClassifier()"
      ]
     },
     "execution_count": 26,
     "metadata": {},
     "output_type": "execute_result"
    }
   ],
   "source": [
    "#%% create and fit a KNN model\n",
    "model = KNeighborsClassifier()\n",
    "model.fit(X_train, y_train)"
   ]
  },
  {
   "cell_type": "code",
   "execution_count": 27,
   "id": "da737d90",
   "metadata": {},
   "outputs": [],
   "source": [
    "#%% assess feature importance by permutation \n",
    "feat_imp = permutation_importance(model, X_test, y_test, n_repeats=10, scoring='accuracy')"
   ]
  },
  {
   "cell_type": "code",
   "execution_count": 28,
   "id": "8ee5bf9b",
   "metadata": {},
   "outputs": [
    {
     "data": {
      "text/html": [
       "<div>\n",
       "<style scoped>\n",
       "    .dataframe tbody tr th:only-of-type {\n",
       "        vertical-align: middle;\n",
       "    }\n",
       "\n",
       "    .dataframe tbody tr th {\n",
       "        vertical-align: top;\n",
       "    }\n",
       "\n",
       "    .dataframe thead th {\n",
       "        text-align: right;\n",
       "    }\n",
       "</style>\n",
       "<table border=\"1\" class=\"dataframe\">\n",
       "  <thead>\n",
       "    <tr style=\"text-align: right;\">\n",
       "      <th></th>\n",
       "      <th>features</th>\n",
       "      <th>importances_mean</th>\n",
       "      <th>importances_std</th>\n",
       "    </tr>\n",
       "  </thead>\n",
       "  <tbody>\n",
       "    <tr>\n",
       "      <th>0</th>\n",
       "      <td>sepal length (cm)</td>\n",
       "      <td>-0.002632</td>\n",
       "      <td>0.018421</td>\n",
       "    </tr>\n",
       "    <tr>\n",
       "      <th>1</th>\n",
       "      <td>sepal width (cm)</td>\n",
       "      <td>0.013158</td>\n",
       "      <td>0.024262</td>\n",
       "    </tr>\n",
       "    <tr>\n",
       "      <th>2</th>\n",
       "      <td>petal length (cm)</td>\n",
       "      <td>0.565789</td>\n",
       "      <td>0.065789</td>\n",
       "    </tr>\n",
       "    <tr>\n",
       "      <th>3</th>\n",
       "      <td>petal width (cm)</td>\n",
       "      <td>0.107895</td>\n",
       "      <td>0.039823</td>\n",
       "    </tr>\n",
       "  </tbody>\n",
       "</table>\n",
       "</div>"
      ],
      "text/plain": [
       "            features  importances_mean  importances_std\n",
       "0  sepal length (cm)         -0.002632         0.018421\n",
       "1   sepal width (cm)          0.013158         0.024262\n",
       "2  petal length (cm)          0.565789         0.065789\n",
       "3   petal width (cm)          0.107895         0.039823"
      ]
     },
     "execution_count": 28,
     "metadata": {},
     "output_type": "execute_result"
    }
   ],
   "source": [
    "#%% display calculated feature importances\n",
    "#The scores in the table above show how much model performance and accuracy rate\n",
    "#decreased with a random permutation. Therefore, the most important features are\n",
    "#first “petal length,” then “petal width.” The other two features have very little importance\n",
    "#since their impact on the accuracy rate is very small. \n",
    "\n",
    "pd.DataFrame({'features': iris.feature_names, \n",
    " 'importances_mean': feat_imp['importances_mean'], \n",
    " 'importances_std': feat_imp['importances_std']})"
   ]
  },
  {
   "cell_type": "markdown",
   "id": "8050b167",
   "metadata": {},
   "source": [
    "## 2 Feature Variance"
   ]
  },
  {
   "cell_type": "markdown",
   "id": "1e51cbe7",
   "metadata": {},
   "source": [
    "#### Example 1"
   ]
  },
  {
   "cell_type": "code",
   "execution_count": 28,
   "id": "1743b521",
   "metadata": {},
   "outputs": [],
   "source": [
    "#%% load libraries\n",
    "import numpy as np\n",
    "import pandas as pd\n",
    "from sklearn.feature_selection import VarianceThreshold\n",
    "from sklearn.datasets import load_iris\n",
    "from matplotlib import pyplot as plt"
   ]
  },
  {
   "cell_type": "code",
   "execution_count": 29,
   "id": "1168719c",
   "metadata": {},
   "outputs": [],
   "source": [
    "#%% generate sample data\n",
    "X = np.array([[0, 2, 0, 3], [0, 3, 4, 3], \n",
    "    [0, 5, 1, 2]])"
   ]
  },
  {
   "cell_type": "code",
   "execution_count": 30,
   "id": "d34378b8",
   "metadata": {},
   "outputs": [],
   "source": [
    "#%% apply variance threshold\n",
    "selector = VarianceThreshold(threshold=0.4)\n",
    "Xs = selector.fit_transform(X)"
   ]
  },
  {
   "cell_type": "code",
   "execution_count": 31,
   "id": "d4af7c46",
   "metadata": {},
   "outputs": [
    {
     "name": "stdout",
     "output_type": "stream",
     "text": [
      "[0.         1.55555556 2.88888889 0.22222222]\n"
     ]
    }
   ],
   "source": [
    "#%% show the variances per feature\n",
    "# (the ones above the threshold were chosen)\n",
    "print(selector.variances_)"
   ]
  },
  {
   "cell_type": "markdown",
   "id": "716eca7f",
   "metadata": {},
   "source": [
    "#### Example 2"
   ]
  },
  {
   "cell_type": "code",
   "execution_count": 32,
   "id": "6d61d736",
   "metadata": {},
   "outputs": [],
   "source": [
    "#%% load sample data\n",
    "iris = load_iris()\n",
    "X = pd.DataFrame(iris.data, columns=iris.feature_names)\n",
    "y = iris.target"
   ]
  },
  {
   "cell_type": "code",
   "execution_count": 33,
   "id": "8cf6ff54",
   "metadata": {},
   "outputs": [
    {
     "data": {
      "text/plain": [
       "array([[5.1, 1.4],\n",
       "       [4.9, 1.4],\n",
       "       [4.7, 1.3],\n",
       "       [4.6, 1.5],\n",
       "       [5. , 1.4],\n",
       "       [5.4, 1.7],\n",
       "       [4.6, 1.4],\n",
       "       [5. , 1.5],\n",
       "       [4.4, 1.4],\n",
       "       [4.9, 1.5],\n",
       "       [5.4, 1.5],\n",
       "       [4.8, 1.6],\n",
       "       [4.8, 1.4],\n",
       "       [4.3, 1.1],\n",
       "       [5.8, 1.2],\n",
       "       [5.7, 1.5],\n",
       "       [5.4, 1.3],\n",
       "       [5.1, 1.4],\n",
       "       [5.7, 1.7],\n",
       "       [5.1, 1.5],\n",
       "       [5.4, 1.7],\n",
       "       [5.1, 1.5],\n",
       "       [4.6, 1. ],\n",
       "       [5.1, 1.7],\n",
       "       [4.8, 1.9],\n",
       "       [5. , 1.6],\n",
       "       [5. , 1.6],\n",
       "       [5.2, 1.5],\n",
       "       [5.2, 1.4],\n",
       "       [4.7, 1.6],\n",
       "       [4.8, 1.6],\n",
       "       [5.4, 1.5],\n",
       "       [5.2, 1.5],\n",
       "       [5.5, 1.4],\n",
       "       [4.9, 1.5],\n",
       "       [5. , 1.2],\n",
       "       [5.5, 1.3],\n",
       "       [4.9, 1.4],\n",
       "       [4.4, 1.3],\n",
       "       [5.1, 1.5],\n",
       "       [5. , 1.3],\n",
       "       [4.5, 1.3],\n",
       "       [4.4, 1.3],\n",
       "       [5. , 1.6],\n",
       "       [5.1, 1.9],\n",
       "       [4.8, 1.4],\n",
       "       [5.1, 1.6],\n",
       "       [4.6, 1.4],\n",
       "       [5.3, 1.5],\n",
       "       [5. , 1.4],\n",
       "       [7. , 4.7],\n",
       "       [6.4, 4.5],\n",
       "       [6.9, 4.9],\n",
       "       [5.5, 4. ],\n",
       "       [6.5, 4.6],\n",
       "       [5.7, 4.5],\n",
       "       [6.3, 4.7],\n",
       "       [4.9, 3.3],\n",
       "       [6.6, 4.6],\n",
       "       [5.2, 3.9],\n",
       "       [5. , 3.5],\n",
       "       [5.9, 4.2],\n",
       "       [6. , 4. ],\n",
       "       [6.1, 4.7],\n",
       "       [5.6, 3.6],\n",
       "       [6.7, 4.4],\n",
       "       [5.6, 4.5],\n",
       "       [5.8, 4.1],\n",
       "       [6.2, 4.5],\n",
       "       [5.6, 3.9],\n",
       "       [5.9, 4.8],\n",
       "       [6.1, 4. ],\n",
       "       [6.3, 4.9],\n",
       "       [6.1, 4.7],\n",
       "       [6.4, 4.3],\n",
       "       [6.6, 4.4],\n",
       "       [6.8, 4.8],\n",
       "       [6.7, 5. ],\n",
       "       [6. , 4.5],\n",
       "       [5.7, 3.5],\n",
       "       [5.5, 3.8],\n",
       "       [5.5, 3.7],\n",
       "       [5.8, 3.9],\n",
       "       [6. , 5.1],\n",
       "       [5.4, 4.5],\n",
       "       [6. , 4.5],\n",
       "       [6.7, 4.7],\n",
       "       [6.3, 4.4],\n",
       "       [5.6, 4.1],\n",
       "       [5.5, 4. ],\n",
       "       [5.5, 4.4],\n",
       "       [6.1, 4.6],\n",
       "       [5.8, 4. ],\n",
       "       [5. , 3.3],\n",
       "       [5.6, 4.2],\n",
       "       [5.7, 4.2],\n",
       "       [5.7, 4.2],\n",
       "       [6.2, 4.3],\n",
       "       [5.1, 3. ],\n",
       "       [5.7, 4.1],\n",
       "       [6.3, 6. ],\n",
       "       [5.8, 5.1],\n",
       "       [7.1, 5.9],\n",
       "       [6.3, 5.6],\n",
       "       [6.5, 5.8],\n",
       "       [7.6, 6.6],\n",
       "       [4.9, 4.5],\n",
       "       [7.3, 6.3],\n",
       "       [6.7, 5.8],\n",
       "       [7.2, 6.1],\n",
       "       [6.5, 5.1],\n",
       "       [6.4, 5.3],\n",
       "       [6.8, 5.5],\n",
       "       [5.7, 5. ],\n",
       "       [5.8, 5.1],\n",
       "       [6.4, 5.3],\n",
       "       [6.5, 5.5],\n",
       "       [7.7, 6.7],\n",
       "       [7.7, 6.9],\n",
       "       [6. , 5. ],\n",
       "       [6.9, 5.7],\n",
       "       [5.6, 4.9],\n",
       "       [7.7, 6.7],\n",
       "       [6.3, 4.9],\n",
       "       [6.7, 5.7],\n",
       "       [7.2, 6. ],\n",
       "       [6.2, 4.8],\n",
       "       [6.1, 4.9],\n",
       "       [6.4, 5.6],\n",
       "       [7.2, 5.8],\n",
       "       [7.4, 6.1],\n",
       "       [7.9, 6.4],\n",
       "       [6.4, 5.6],\n",
       "       [6.3, 5.1],\n",
       "       [6.1, 5.6],\n",
       "       [7.7, 6.1],\n",
       "       [6.3, 5.6],\n",
       "       [6.4, 5.5],\n",
       "       [6. , 4.8],\n",
       "       [6.9, 5.4],\n",
       "       [6.7, 5.6],\n",
       "       [6.9, 5.1],\n",
       "       [5.8, 5.1],\n",
       "       [6.8, 5.9],\n",
       "       [6.7, 5.7],\n",
       "       [6.7, 5.2],\n",
       "       [6.3, 5. ],\n",
       "       [6.5, 5.2],\n",
       "       [6.2, 5.4],\n",
       "       [5.9, 5.1]])"
      ]
     },
     "execution_count": 33,
     "metadata": {},
     "output_type": "execute_result"
    }
   ],
   "source": [
    "#%% create and fit feature selector\n",
    "selector = VarianceThreshold(threshold=0.6)\n",
    "selector.fit_transform(X)"
   ]
  },
  {
   "cell_type": "code",
   "execution_count": 34,
   "id": "ea8cc65b",
   "metadata": {},
   "outputs": [
    {
     "data": {
      "text/html": [
       "<div>\n",
       "<style scoped>\n",
       "    .dataframe tbody tr th:only-of-type {\n",
       "        vertical-align: middle;\n",
       "    }\n",
       "\n",
       "    .dataframe tbody tr th {\n",
       "        vertical-align: top;\n",
       "    }\n",
       "\n",
       "    .dataframe thead th {\n",
       "        text-align: right;\n",
       "    }\n",
       "</style>\n",
       "<table border=\"1\" class=\"dataframe\">\n",
       "  <thead>\n",
       "    <tr style=\"text-align: right;\">\n",
       "      <th></th>\n",
       "      <th>features</th>\n",
       "      <th>variances</th>\n",
       "    </tr>\n",
       "  </thead>\n",
       "  <tbody>\n",
       "    <tr>\n",
       "      <th>0</th>\n",
       "      <td>sepal length (cm)</td>\n",
       "      <td>0.681122</td>\n",
       "    </tr>\n",
       "    <tr>\n",
       "      <th>1</th>\n",
       "      <td>sepal width (cm)</td>\n",
       "      <td>0.188713</td>\n",
       "    </tr>\n",
       "    <tr>\n",
       "      <th>2</th>\n",
       "      <td>petal length (cm)</td>\n",
       "      <td>3.095503</td>\n",
       "    </tr>\n",
       "    <tr>\n",
       "      <th>3</th>\n",
       "      <td>petal width (cm)</td>\n",
       "      <td>0.577133</td>\n",
       "    </tr>\n",
       "  </tbody>\n",
       "</table>\n",
       "</div>"
      ],
      "text/plain": [
       "            features  variances\n",
       "0  sepal length (cm)   0.681122\n",
       "1   sepal width (cm)   0.188713\n",
       "2  petal length (cm)   3.095503\n",
       "3   petal width (cm)   0.577133"
      ]
     },
     "execution_count": 34,
     "metadata": {},
     "output_type": "execute_result"
    }
   ],
   "source": [
    "#%%\n",
    "# show the variances per feature\n",
    "# (the ones above the threshold were chosen)\n",
    "pd.DataFrame({'features': iris.feature_names, \n",
    "    'variances': selector.variances_})"
   ]
  },
  {
   "cell_type": "code",
   "execution_count": 38,
   "id": "07bca1c5",
   "metadata": {},
   "outputs": [
    {
     "data": {
      "image/png": "[encoded data removed]",
      "text/plain": [
       "<Figure size 432x288 with 1 Axes>"
      ]
     },
     "metadata": {
      "needs_background": "light"
     },
     "output_type": "display_data"
    }
   ],
   "source": [
    "#%% create a barplot visual based on the variances\n",
    "plt.bar(x=iris.feature_names, height=selector.variances_)\n",
    "plt.ylabel('Feature Variance')\n",
    "plt.title('Iris features variance comparison')\n",
    "plt.show()"
   ]
  },
  {
   "cell_type": "code",
   "execution_count": 39,
   "id": "0995e897",
   "metadata": {},
   "outputs": [
    {
     "name": "stdout",
     "output_type": "stream",
     "text": [
      "* sepal length (cm)\n",
      "* petal length (cm)\n"
     ]
    }
   ],
   "source": [
    "#%% Select features with variance greater than 0.6 and display the names of selected features. \n",
    "#The method get_support()\n",
    "for selected_feature in selector.get_support(indices=True):\n",
    "    print('* ' + feature_names[selected_feature])"
   ]
  },
  {
   "cell_type": "markdown",
   "id": "1b0e31e3",
   "metadata": {},
   "source": [
    "## 3 Correlation matrix"
   ]
  },
  {
   "cell_type": "markdown",
   "id": "27f2fffa",
   "metadata": {},
   "source": [
    "### 3.1 Pearson’s Correlation"
   ]
  },
  {
   "cell_type": "code",
   "execution_count": 35,
   "id": "650e403e",
   "metadata": {},
   "outputs": [],
   "source": [
    "#%% load libraries\n",
    "import pandas as pd\n",
    "import numpy as np\n",
    "from sklearn.datasets import load_iris\n",
    "from matplotlib import pyplot as plt\n",
    "import seaborn as sns\n",
    "from scipy import stats"
   ]
  },
  {
   "cell_type": "code",
   "execution_count": 36,
   "id": "80a9dd41",
   "metadata": {},
   "outputs": [],
   "source": [
    "#%% load sample data\n",
    "iris = load_iris()\n",
    "X = pd.DataFrame(iris.data, \n",
    "    columns=iris.feature_names)\n",
    "y = pd.DataFrame(iris.target, \n",
    "    columns=['Response_variable'])\n",
    "XY = pd.concat([X, y], axis=1)"
   ]
  },
  {
   "cell_type": "code",
   "execution_count": 37,
   "id": "4c9e1174",
   "metadata": {},
   "outputs": [
    {
     "data": {
      "text/html": [
       "<div>\n",
       "<style scoped>\n",
       "    .dataframe tbody tr th:only-of-type {\n",
       "        vertical-align: middle;\n",
       "    }\n",
       "\n",
       "    .dataframe tbody tr th {\n",
       "        vertical-align: top;\n",
       "    }\n",
       "\n",
       "    .dataframe thead th {\n",
       "        text-align: right;\n",
       "    }\n",
       "</style>\n",
       "<table border=\"1\" class=\"dataframe\">\n",
       "  <thead>\n",
       "    <tr style=\"text-align: right;\">\n",
       "      <th></th>\n",
       "      <th>sepal length (cm)</th>\n",
       "      <th>sepal width (cm)</th>\n",
       "      <th>petal length (cm)</th>\n",
       "      <th>petal width (cm)</th>\n",
       "      <th>Response_variable</th>\n",
       "    </tr>\n",
       "  </thead>\n",
       "  <tbody>\n",
       "    <tr>\n",
       "      <th>sepal length (cm)</th>\n",
       "      <td>1.000000</td>\n",
       "      <td>-0.117570</td>\n",
       "      <td>0.871754</td>\n",
       "      <td>0.817941</td>\n",
       "      <td>0.782561</td>\n",
       "    </tr>\n",
       "    <tr>\n",
       "      <th>sepal width (cm)</th>\n",
       "      <td>-0.117570</td>\n",
       "      <td>1.000000</td>\n",
       "      <td>-0.428440</td>\n",
       "      <td>-0.366126</td>\n",
       "      <td>-0.426658</td>\n",
       "    </tr>\n",
       "    <tr>\n",
       "      <th>petal length (cm)</th>\n",
       "      <td>0.871754</td>\n",
       "      <td>-0.428440</td>\n",
       "      <td>1.000000</td>\n",
       "      <td>0.962865</td>\n",
       "      <td>0.949035</td>\n",
       "    </tr>\n",
       "    <tr>\n",
       "      <th>petal width (cm)</th>\n",
       "      <td>0.817941</td>\n",
       "      <td>-0.366126</td>\n",
       "      <td>0.962865</td>\n",
       "      <td>1.000000</td>\n",
       "      <td>0.956547</td>\n",
       "    </tr>\n",
       "    <tr>\n",
       "      <th>Response_variable</th>\n",
       "      <td>0.782561</td>\n",
       "      <td>-0.426658</td>\n",
       "      <td>0.949035</td>\n",
       "      <td>0.956547</td>\n",
       "      <td>1.000000</td>\n",
       "    </tr>\n",
       "  </tbody>\n",
       "</table>\n",
       "</div>"
      ],
      "text/plain": [
       "                   sepal length (cm)  sepal width (cm)  petal length (cm)  \\\n",
       "sepal length (cm)           1.000000         -0.117570           0.871754   \n",
       "sepal width (cm)           -0.117570          1.000000          -0.428440   \n",
       "petal length (cm)           0.871754         -0.428440           1.000000   \n",
       "petal width (cm)            0.817941         -0.366126           0.962865   \n",
       "Response_variable           0.782561         -0.426658           0.949035   \n",
       "\n",
       "                   petal width (cm)  Response_variable  \n",
       "sepal length (cm)          0.817941           0.782561  \n",
       "sepal width (cm)          -0.366126          -0.426658  \n",
       "petal length (cm)          0.962865           0.949035  \n",
       "petal width (cm)           1.000000           0.956547  \n",
       "Response_variable          0.956547           1.000000  "
      ]
     },
     "execution_count": 37,
     "metadata": {},
     "output_type": "execute_result"
    }
   ],
   "source": [
    "#%% calcualte the correlation matrix\n",
    "cor_mat = XY.corr(method='pearson')\n",
    "cor_mat"
   ]
  },
  {
   "cell_type": "code",
   "execution_count": 43,
   "id": "6e878b28",
   "metadata": {},
   "outputs": [
    {
     "data": {
      "image/png": "[encoded data removed]",
      "text/plain": [
       "<Figure size 432x288 with 2 Axes>"
      ]
     },
     "metadata": {
      "needs_background": "light"
     },
     "output_type": "display_data"
    }
   ],
   "source": [
    "#%% correlation matrix as heatmap\n",
    "ax = sns.heatmap(cor_mat, vmin=-1, vmax=1, \n",
    "    annot=True, fmt=\"f\")\n",
    "plt.show()"
   ]
  },
  {
   "cell_type": "markdown",
   "id": "2a4da663",
   "metadata": {},
   "source": [
    "### 3.2 Spearman correlation"
   ]
  },
  {
   "cell_type": "code",
   "execution_count": 38,
   "id": "fff0ffb7",
   "metadata": {},
   "outputs": [],
   "source": [
    "#%% generate sampe data\n",
    "dat = pd.DataFrame({'x': np.arange(0,10), \n",
    "    'y': np.exp(-np.arange(0,10))})"
   ]
  },
  {
   "cell_type": "code",
   "execution_count": 39,
   "id": "eb1011b7",
   "metadata": {},
   "outputs": [
    {
     "data": {
      "text/html": [
       "<div>\n",
       "<style scoped>\n",
       "    .dataframe tbody tr th:only-of-type {\n",
       "        vertical-align: middle;\n",
       "    }\n",
       "\n",
       "    .dataframe tbody tr th {\n",
       "        vertical-align: top;\n",
       "    }\n",
       "\n",
       "    .dataframe thead th {\n",
       "        text-align: right;\n",
       "    }\n",
       "</style>\n",
       "<table border=\"1\" class=\"dataframe\">\n",
       "  <thead>\n",
       "    <tr style=\"text-align: right;\">\n",
       "      <th></th>\n",
       "      <th>x</th>\n",
       "      <th>y</th>\n",
       "    </tr>\n",
       "  </thead>\n",
       "  <tbody>\n",
       "    <tr>\n",
       "      <th>x</th>\n",
       "      <td>1.00000</td>\n",
       "      <td>-0.71687</td>\n",
       "    </tr>\n",
       "    <tr>\n",
       "      <th>y</th>\n",
       "      <td>-0.71687</td>\n",
       "      <td>1.00000</td>\n",
       "    </tr>\n",
       "  </tbody>\n",
       "</table>\n",
       "</div>"
      ],
      "text/plain": [
       "         x        y\n",
       "x  1.00000 -0.71687\n",
       "y -0.71687  1.00000"
      ]
     },
     "execution_count": 39,
     "metadata": {},
     "output_type": "execute_result"
    }
   ],
   "source": [
    "#%%\n",
    "# compute Pearson’s correlation and\n",
    "# display the correlation matrix\n",
    "dat.corr(method='pearson')"
   ]
  },
  {
   "cell_type": "code",
   "execution_count": 40,
   "id": "830a6d8c",
   "metadata": {},
   "outputs": [
    {
     "name": "stderr",
     "output_type": "stream",
     "text": [
      "C:\\ProgramData\\Anaconda3\\lib\\site-packages\\scipy\\stats\\stats.py:1604: UserWarning: kurtosistest only valid for n>=20 ... continuing anyway, n=10\n",
      "  \"anyway, n=%i\" % int(n))\n"
     ]
    },
    {
     "data": {
      "text/plain": [
       "NormaltestResult(statistic=2.02697581498966, pvalue=0.362950830342156)"
      ]
     },
     "execution_count": 40,
     "metadata": {},
     "output_type": "execute_result"
    }
   ],
   "source": [
    "#%% test for normal distribution of the data\n",
    "stats.normaltest(dat['x'])"
   ]
  },
  {
   "cell_type": "code",
   "execution_count": 41,
   "id": "f21f3ddd",
   "metadata": {},
   "outputs": [
    {
     "data": {
      "text/plain": [
       "NormaltestResult(statistic=19.779358749097575, pvalue=5.0695197559354735e-05)"
      ]
     },
     "execution_count": 41,
     "metadata": {},
     "output_type": "execute_result"
    }
   ],
   "source": [
    "stats.normaltest(dat['y'])"
   ]
  },
  {
   "cell_type": "code",
   "execution_count": 42,
   "id": "aa58c38e",
   "metadata": {},
   "outputs": [
    {
     "data": {
      "text/html": [
       "<div>\n",
       "<style scoped>\n",
       "    .dataframe tbody tr th:only-of-type {\n",
       "        vertical-align: middle;\n",
       "    }\n",
       "\n",
       "    .dataframe tbody tr th {\n",
       "        vertical-align: top;\n",
       "    }\n",
       "\n",
       "    .dataframe thead th {\n",
       "        text-align: right;\n",
       "    }\n",
       "</style>\n",
       "<table border=\"1\" class=\"dataframe\">\n",
       "  <thead>\n",
       "    <tr style=\"text-align: right;\">\n",
       "      <th></th>\n",
       "      <th>x</th>\n",
       "      <th>y</th>\n",
       "    </tr>\n",
       "  </thead>\n",
       "  <tbody>\n",
       "    <tr>\n",
       "      <th>x</th>\n",
       "      <td>1.0</td>\n",
       "      <td>-1.0</td>\n",
       "    </tr>\n",
       "    <tr>\n",
       "      <th>y</th>\n",
       "      <td>-1.0</td>\n",
       "      <td>1.0</td>\n",
       "    </tr>\n",
       "  </tbody>\n",
       "</table>\n",
       "</div>"
      ],
      "text/plain": [
       "     x    y\n",
       "x  1.0 -1.0\n",
       "y -1.0  1.0"
      ]
     },
     "execution_count": 42,
     "metadata": {},
     "output_type": "execute_result"
    }
   ],
   "source": [
    "#%%\n",
    "# compute Spearman’s rank correlation and\n",
    "# display the correlation matrix\n",
    "dat.corr(method='spearman')"
   ]
  },
  {
   "cell_type": "markdown",
   "id": "acbac87a",
   "metadata": {},
   "source": [
    "## 4 Recursive Feature Selection"
   ]
  },
  {
   "cell_type": "markdown",
   "id": "5626a183",
   "metadata": {},
   "source": [
    "### 4.1 Exclusive Feature Selection (EFS)"
   ]
  },
  {
   "cell_type": "code",
   "execution_count": 43,
   "id": "1c8b6e0f",
   "metadata": {},
   "outputs": [],
   "source": [
    "# Recursive feature selection\n",
    "# Exclusive Feature Selection (EFS)\n",
    "\n",
    "#%% import libraries\n",
    "import pandas as pd\n",
    "import numpy as np\n",
    "from sklearn.datasets import load_iris\n",
    "from mlxtend.feature_selection \\\n",
    "    import ExhaustiveFeatureSelector as EFS\n",
    "from sklearn.linear_model import LogisticRegression\n",
    "import matplotlib.pyplot as plt"
   ]
  },
  {
   "cell_type": "code",
   "execution_count": 44,
   "id": "c22e9156",
   "metadata": {},
   "outputs": [],
   "source": [
    "#%% load sample data\n",
    "iris = load_iris()\n",
    "x = pd.DataFrame(iris.data, \n",
    "    columns=iris.feature_names)"
   ]
  },
  {
   "cell_type": "code",
   "execution_count": 45,
   "id": "33d96b8f",
   "metadata": {},
   "outputs": [],
   "source": [
    "#%% create a logistic regression object\n",
    "lr = LogisticRegression()"
   ]
  },
  {
   "cell_type": "code",
   "execution_count": 46,
   "id": "fc92da8f",
   "metadata": {},
   "outputs": [],
   "source": [
    "#%% create an EFS object, cross-validations = 5\n",
    "efs = EFS(estimator=lr,        \n",
    "          min_features=1,      \n",
    "          max_features=3,      \n",
    "          scoring='accuracy',  \n",
    "          cv=5)"
   ]
  },
  {
   "cell_type": "code",
   "execution_count": 47,
   "id": "8316583a",
   "metadata": {},
   "outputs": [
    {
     "name": "stderr",
     "output_type": "stream",
     "text": [
      "Features: 14/14"
     ]
    }
   ],
   "source": [
    "#%% fit the model\n",
    "efs = efs.fit(x, iris.target)"
   ]
  },
  {
   "cell_type": "code",
   "execution_count": 48,
   "id": "d0186ec0",
   "metadata": {},
   "outputs": [
    {
     "data": {
      "text/plain": [
       "('sepal length (cm)', 'petal length (cm)', 'petal width (cm)')"
      ]
     },
     "execution_count": 48,
     "metadata": {},
     "output_type": "execute_result"
    }
   ],
   "source": [
    "#%% show the selected features\n",
    "efs.best_feature_names_"
   ]
  },
  {
   "cell_type": "code",
   "execution_count": 49,
   "id": "d591e374",
   "metadata": {},
   "outputs": [],
   "source": [
    "#%% show a full report on the feature selection\n",
    "efs_results = pd.DataFrame(efs.get_metric_dict()).T.sort_values(by='avg_score', ascending=False)"
   ]
  },
  {
   "cell_type": "code",
   "execution_count": 50,
   "id": "ad36c772",
   "metadata": {},
   "outputs": [
    {
     "data": {
      "text/html": [
       "<div>\n",
       "<style scoped>\n",
       "    .dataframe tbody tr th:only-of-type {\n",
       "        vertical-align: middle;\n",
       "    }\n",
       "\n",
       "    .dataframe tbody tr th {\n",
       "        vertical-align: top;\n",
       "    }\n",
       "\n",
       "    .dataframe thead th {\n",
       "        text-align: right;\n",
       "    }\n",
       "</style>\n",
       "<table border=\"1\" class=\"dataframe\">\n",
       "  <thead>\n",
       "    <tr style=\"text-align: right;\">\n",
       "      <th></th>\n",
       "      <th>feature_idx</th>\n",
       "      <th>cv_scores</th>\n",
       "      <th>avg_score</th>\n",
       "      <th>feature_names</th>\n",
       "      <th>ci_bound</th>\n",
       "      <th>std_dev</th>\n",
       "      <th>std_err</th>\n",
       "    </tr>\n",
       "  </thead>\n",
       "  <tbody>\n",
       "    <tr>\n",
       "      <th>12</th>\n",
       "      <td>(0, 2, 3)</td>\n",
       "      <td>[0.9666666666666667, 0.9666666666666667, 0.933...</td>\n",
       "      <td>0.966667</td>\n",
       "      <td>(sepal length (cm), petal length (cm), petal w...</td>\n",
       "      <td>0.027096</td>\n",
       "      <td>0.021082</td>\n",
       "      <td>0.010541</td>\n",
       "    </tr>\n",
       "    <tr>\n",
       "      <th>13</th>\n",
       "      <td>(1, 2, 3)</td>\n",
       "      <td>[0.9666666666666667, 0.9666666666666667, 0.933...</td>\n",
       "      <td>0.966667</td>\n",
       "      <td>(sepal width (cm), petal length (cm), petal wi...</td>\n",
       "      <td>0.027096</td>\n",
       "      <td>0.021082</td>\n",
       "      <td>0.010541</td>\n",
       "    </tr>\n",
       "    <tr>\n",
       "      <th>3</th>\n",
       "      <td>(3,)</td>\n",
       "      <td>[1.0, 0.9666666666666667, 0.9, 0.9333333333333...</td>\n",
       "      <td>0.96</td>\n",
       "      <td>(petal width (cm),)</td>\n",
       "      <td>0.049963</td>\n",
       "      <td>0.038873</td>\n",
       "      <td>0.019437</td>\n",
       "    </tr>\n",
       "    <tr>\n",
       "      <th>9</th>\n",
       "      <td>(2, 3)</td>\n",
       "      <td>[0.9666666666666667, 0.9666666666666667, 0.933...</td>\n",
       "      <td>0.96</td>\n",
       "      <td>(petal length (cm), petal width (cm))</td>\n",
       "      <td>0.032061</td>\n",
       "      <td>0.024944</td>\n",
       "      <td>0.012472</td>\n",
       "    </tr>\n",
       "    <tr>\n",
       "      <th>2</th>\n",
       "      <td>(2,)</td>\n",
       "      <td>[0.9333333333333333, 1.0, 0.9, 0.9333333333333...</td>\n",
       "      <td>0.953333</td>\n",
       "      <td>(petal length (cm),)</td>\n",
       "      <td>0.051412</td>\n",
       "      <td>0.04</td>\n",
       "      <td>0.02</td>\n",
       "    </tr>\n",
       "    <tr>\n",
       "      <th>5</th>\n",
       "      <td>(0, 2)</td>\n",
       "      <td>[0.9333333333333333, 1.0, 0.9, 0.9333333333333...</td>\n",
       "      <td>0.953333</td>\n",
       "      <td>(sepal length (cm), petal length (cm))</td>\n",
       "      <td>0.051412</td>\n",
       "      <td>0.04</td>\n",
       "      <td>0.02</td>\n",
       "    </tr>\n",
       "    <tr>\n",
       "      <th>6</th>\n",
       "      <td>(0, 3)</td>\n",
       "      <td>[0.9333333333333333, 0.9666666666666667, 0.933...</td>\n",
       "      <td>0.953333</td>\n",
       "      <td>(sepal length (cm), petal width (cm))</td>\n",
       "      <td>0.034274</td>\n",
       "      <td>0.026667</td>\n",
       "      <td>0.013333</td>\n",
       "    </tr>\n",
       "    <tr>\n",
       "      <th>7</th>\n",
       "      <td>(1, 2)</td>\n",
       "      <td>[0.9333333333333333, 1.0, 0.9, 0.9333333333333...</td>\n",
       "      <td>0.953333</td>\n",
       "      <td>(sepal width (cm), petal length (cm))</td>\n",
       "      <td>0.051412</td>\n",
       "      <td>0.04</td>\n",
       "      <td>0.02</td>\n",
       "    </tr>\n",
       "    <tr>\n",
       "      <th>10</th>\n",
       "      <td>(0, 1, 2)</td>\n",
       "      <td>[0.9333333333333333, 1.0, 0.9, 0.9333333333333...</td>\n",
       "      <td>0.953333</td>\n",
       "      <td>(sepal length (cm), sepal width (cm), petal le...</td>\n",
       "      <td>0.051412</td>\n",
       "      <td>0.04</td>\n",
       "      <td>0.02</td>\n",
       "    </tr>\n",
       "    <tr>\n",
       "      <th>11</th>\n",
       "      <td>(0, 1, 3)</td>\n",
       "      <td>[0.9, 0.9666666666666667, 0.9333333333333333, ...</td>\n",
       "      <td>0.946667</td>\n",
       "      <td>(sepal length (cm), sepal width (cm), petal wi...</td>\n",
       "      <td>0.043691</td>\n",
       "      <td>0.033993</td>\n",
       "      <td>0.016997</td>\n",
       "    </tr>\n",
       "    <tr>\n",
       "      <th>8</th>\n",
       "      <td>(1, 3)</td>\n",
       "      <td>[0.9333333333333333, 0.9666666666666667, 0.9, ...</td>\n",
       "      <td>0.94</td>\n",
       "      <td>(sepal width (cm), petal width (cm))</td>\n",
       "      <td>0.032061</td>\n",
       "      <td>0.024944</td>\n",
       "      <td>0.012472</td>\n",
       "    </tr>\n",
       "    <tr>\n",
       "      <th>4</th>\n",
       "      <td>(0, 1)</td>\n",
       "      <td>[0.7333333333333333, 0.8333333333333334, 0.766...</td>\n",
       "      <td>0.813333</td>\n",
       "      <td>(sepal length (cm), sepal width (cm))</td>\n",
       "      <td>0.069612</td>\n",
       "      <td>0.05416</td>\n",
       "      <td>0.02708</td>\n",
       "    </tr>\n",
       "    <tr>\n",
       "      <th>0</th>\n",
       "      <td>(0,)</td>\n",
       "      <td>[0.6666666666666666, 0.7333333333333333, 0.766...</td>\n",
       "      <td>0.753333</td>\n",
       "      <td>(sepal length (cm),)</td>\n",
       "      <td>0.069612</td>\n",
       "      <td>0.05416</td>\n",
       "      <td>0.02708</td>\n",
       "    </tr>\n",
       "    <tr>\n",
       "      <th>1</th>\n",
       "      <td>(1,)</td>\n",
       "      <td>[0.5333333333333333, 0.5666666666666667, 0.533...</td>\n",
       "      <td>0.566667</td>\n",
       "      <td>(sepal width (cm),)</td>\n",
       "      <td>0.046932</td>\n",
       "      <td>0.036515</td>\n",
       "      <td>0.018257</td>\n",
       "    </tr>\n",
       "  </tbody>\n",
       "</table>\n",
       "</div>"
      ],
      "text/plain": [
       "   feature_idx                                          cv_scores avg_score  \\\n",
       "12   (0, 2, 3)  [0.9666666666666667, 0.9666666666666667, 0.933...  0.966667   \n",
       "13   (1, 2, 3)  [0.9666666666666667, 0.9666666666666667, 0.933...  0.966667   \n",
       "3         (3,)  [1.0, 0.9666666666666667, 0.9, 0.9333333333333...      0.96   \n",
       "9       (2, 3)  [0.9666666666666667, 0.9666666666666667, 0.933...      0.96   \n",
       "2         (2,)  [0.9333333333333333, 1.0, 0.9, 0.9333333333333...  0.953333   \n",
       "5       (0, 2)  [0.9333333333333333, 1.0, 0.9, 0.9333333333333...  0.953333   \n",
       "6       (0, 3)  [0.9333333333333333, 0.9666666666666667, 0.933...  0.953333   \n",
       "7       (1, 2)  [0.9333333333333333, 1.0, 0.9, 0.9333333333333...  0.953333   \n",
       "10   (0, 1, 2)  [0.9333333333333333, 1.0, 0.9, 0.9333333333333...  0.953333   \n",
       "11   (0, 1, 3)  [0.9, 0.9666666666666667, 0.9333333333333333, ...  0.946667   \n",
       "8       (1, 3)  [0.9333333333333333, 0.9666666666666667, 0.9, ...      0.94   \n",
       "4       (0, 1)  [0.7333333333333333, 0.8333333333333334, 0.766...  0.813333   \n",
       "0         (0,)  [0.6666666666666666, 0.7333333333333333, 0.766...  0.753333   \n",
       "1         (1,)  [0.5333333333333333, 0.5666666666666667, 0.533...  0.566667   \n",
       "\n",
       "                                        feature_names  ci_bound   std_dev  \\\n",
       "12  (sepal length (cm), petal length (cm), petal w...  0.027096  0.021082   \n",
       "13  (sepal width (cm), petal length (cm), petal wi...  0.027096  0.021082   \n",
       "3                                 (petal width (cm),)  0.049963  0.038873   \n",
       "9               (petal length (cm), petal width (cm))  0.032061  0.024944   \n",
       "2                                (petal length (cm),)  0.051412      0.04   \n",
       "5              (sepal length (cm), petal length (cm))  0.051412      0.04   \n",
       "6               (sepal length (cm), petal width (cm))  0.034274  0.026667   \n",
       "7               (sepal width (cm), petal length (cm))  0.051412      0.04   \n",
       "10  (sepal length (cm), sepal width (cm), petal le...  0.051412      0.04   \n",
       "11  (sepal length (cm), sepal width (cm), petal wi...  0.043691  0.033993   \n",
       "8                (sepal width (cm), petal width (cm))  0.032061  0.024944   \n",
       "4               (sepal length (cm), sepal width (cm))  0.069612   0.05416   \n",
       "0                                (sepal length (cm),)  0.069612   0.05416   \n",
       "1                                 (sepal width (cm),)  0.046932  0.036515   \n",
       "\n",
       "     std_err  \n",
       "12  0.010541  \n",
       "13  0.010541  \n",
       "3   0.019437  \n",
       "9   0.012472  \n",
       "2       0.02  \n",
       "5       0.02  \n",
       "6   0.013333  \n",
       "7       0.02  \n",
       "10      0.02  \n",
       "11  0.016997  \n",
       "8   0.012472  \n",
       "4    0.02708  \n",
       "0    0.02708  \n",
       "1   0.018257  "
      ]
     },
     "execution_count": 50,
     "metadata": {},
     "output_type": "execute_result"
    }
   ],
   "source": [
    "efs_results"
   ]
  },
  {
   "cell_type": "code",
   "execution_count": 51,
   "id": "00b1193f",
   "metadata": {},
   "outputs": [
    {
     "data": {
      "image/png": "[encoded data removed]",
      "text/plain": [
       "<Figure size 432x288 with 1 Axes>"
      ]
     },
     "metadata": {
      "needs_background": "light"
     },
     "output_type": "display_data"
    }
   ],
   "source": [
    "#%% show feature importance visually\n",
    "# create figure and axes\n",
    "fig, ax = plt.subplots()\n",
    "# plot bars\n",
    "y_pos = np.arange(len(efs_results))\n",
    "ax.barh(y_pos, efs_results['avg_score'], \n",
    "    xerr=efs_results['std_err'])\n",
    "# set axis ticks and labels\n",
    "ax.set_yticks(y_pos)\n",
    "ax.set_yticklabels(efs_results['feature_names'])\n",
    "ax.set_xlabel('Accuracy')\n",
    "\n",
    "# show the plot\n",
    "plt.show()"
   ]
  },
  {
   "cell_type": "markdown",
   "id": "403a0c8a",
   "metadata": {},
   "source": [
    "### 4.2 Sequential Forward Feature Selection (SFS)"
   ]
  },
  {
   "cell_type": "code",
   "execution_count": 69,
   "id": "c2495fda",
   "metadata": {},
   "outputs": [],
   "source": [
    "# import libraries\n",
    "import pandas as pd\n",
    "import numpy as np\n",
    "from sklearn.datasets import load_iris\n",
    "from mlxtend.feature_selection import SequentialFeatureSelector as SFS\n",
    "from sklearn.linear_model import LogisticRegression\n",
    "import matplotlib.pyplot as plt"
   ]
  },
  {
   "cell_type": "code",
   "execution_count": 67,
   "id": "395a81e3",
   "metadata": {},
   "outputs": [],
   "source": [
    "# load sample data\n",
    "iris = load_iris()\n",
    "x = pd.DataFrame(iris.data, columns=iris.feature_names)"
   ]
  },
  {
   "cell_type": "code",
   "execution_count": 70,
   "id": "646d782e",
   "metadata": {},
   "outputs": [],
   "source": [
    "# Create a logistic regression model\n",
    "lr = LogisticRegression()"
   ]
  },
  {
   "cell_type": "code",
   "execution_count": 71,
   "id": "7f26abb2",
   "metadata": {},
   "outputs": [],
   "source": [
    "#%% create an SFS object\n",
    "sfs = SFS(estimator=lr,\n",
    "          k_features=(1, 3),  \n",
    "          forward=True,       \n",
    "          scoring='accuracy', \n",
    "          cv=5)   "
   ]
  },
  {
   "cell_type": "code",
   "execution_count": 72,
   "id": "f3e1efdf",
   "metadata": {},
   "outputs": [],
   "source": [
    "#%% fit the model\n",
    "sfs = sfs.fit(x, iris.target)"
   ]
  },
  {
   "cell_type": "code",
   "execution_count": 73,
   "id": "e44e1efa",
   "metadata": {},
   "outputs": [
    {
     "data": {
      "text/plain": [
       "('sepal length (cm)', 'petal length (cm)', 'petal width (cm)')"
      ]
     },
     "execution_count": 73,
     "metadata": {},
     "output_type": "execute_result"
    }
   ],
   "source": [
    "#%% show the selected features\n",
    "sfs.k_feature_names_"
   ]
  },
  {
   "cell_type": "code",
   "execution_count": 74,
   "id": "6c1df8ef",
   "metadata": {},
   "outputs": [],
   "source": [
    "#%% show a full report on the feature selection\n",
    "sfs_results = pd.DataFrame(sfs.get_metric_dict()).T.sort_values(by='avg_score', ascending=False)"
   ]
  },
  {
   "cell_type": "code",
   "execution_count": 75,
   "id": "7a3d04eb",
   "metadata": {},
   "outputs": [
    {
     "data": {
      "text/html": [
       "<div>\n",
       "<style scoped>\n",
       "    .dataframe tbody tr th:only-of-type {\n",
       "        vertical-align: middle;\n",
       "    }\n",
       "\n",
       "    .dataframe tbody tr th {\n",
       "        vertical-align: top;\n",
       "    }\n",
       "\n",
       "    .dataframe thead th {\n",
       "        text-align: right;\n",
       "    }\n",
       "</style>\n",
       "<table border=\"1\" class=\"dataframe\">\n",
       "  <thead>\n",
       "    <tr style=\"text-align: right;\">\n",
       "      <th></th>\n",
       "      <th>feature_idx</th>\n",
       "      <th>cv_scores</th>\n",
       "      <th>avg_score</th>\n",
       "      <th>feature_names</th>\n",
       "      <th>ci_bound</th>\n",
       "      <th>std_dev</th>\n",
       "      <th>std_err</th>\n",
       "    </tr>\n",
       "  </thead>\n",
       "  <tbody>\n",
       "    <tr>\n",
       "      <th>3</th>\n",
       "      <td>(0, 2, 3)</td>\n",
       "      <td>[0.9666666666666667, 0.9666666666666667, 0.933...</td>\n",
       "      <td>0.966667</td>\n",
       "      <td>(sepal length (cm), petal length (cm), petal w...</td>\n",
       "      <td>0.027096</td>\n",
       "      <td>0.021082</td>\n",
       "      <td>0.010541</td>\n",
       "    </tr>\n",
       "    <tr>\n",
       "      <th>1</th>\n",
       "      <td>(3,)</td>\n",
       "      <td>[1.0, 0.9666666666666667, 0.9, 0.9333333333333...</td>\n",
       "      <td>0.96</td>\n",
       "      <td>(petal width (cm),)</td>\n",
       "      <td>0.049963</td>\n",
       "      <td>0.038873</td>\n",
       "      <td>0.019437</td>\n",
       "    </tr>\n",
       "    <tr>\n",
       "      <th>2</th>\n",
       "      <td>(2, 3)</td>\n",
       "      <td>[0.9666666666666667, 0.9666666666666667, 0.933...</td>\n",
       "      <td>0.96</td>\n",
       "      <td>(petal length (cm), petal width (cm))</td>\n",
       "      <td>0.032061</td>\n",
       "      <td>0.024944</td>\n",
       "      <td>0.012472</td>\n",
       "    </tr>\n",
       "  </tbody>\n",
       "</table>\n",
       "</div>"
      ],
      "text/plain": [
       "  feature_idx                                          cv_scores avg_score  \\\n",
       "3   (0, 2, 3)  [0.9666666666666667, 0.9666666666666667, 0.933...  0.966667   \n",
       "1        (3,)  [1.0, 0.9666666666666667, 0.9, 0.9333333333333...      0.96   \n",
       "2      (2, 3)  [0.9666666666666667, 0.9666666666666667, 0.933...      0.96   \n",
       "\n",
       "                                       feature_names  ci_bound   std_dev  \\\n",
       "3  (sepal length (cm), petal length (cm), petal w...  0.027096  0.021082   \n",
       "1                                (petal width (cm),)  0.049963  0.038873   \n",
       "2              (petal length (cm), petal width (cm))  0.032061  0.024944   \n",
       "\n",
       "    std_err  \n",
       "3  0.010541  \n",
       "1  0.019437  \n",
       "2  0.012472  "
      ]
     },
     "execution_count": 75,
     "metadata": {},
     "output_type": "execute_result"
    }
   ],
   "source": [
    "sfs_results"
   ]
  },
  {
   "cell_type": "code",
   "execution_count": 76,
   "id": "fa2dd1af",
   "metadata": {},
   "outputs": [
    {
     "data": {
      "image/png": "[encoded data removed]",
      "text/plain": [
       "<Figure size 432x288 with 1 Axes>"
      ]
     },
     "metadata": {
      "needs_background": "light"
     },
     "output_type": "display_data"
    }
   ],
   "source": [
    "#%% show feature importance visually\n",
    "# create figure and axes\n",
    "fig, ax = plt.subplots()\n",
    "\n",
    "# plot bars\n",
    "y_pos = np.arange(len(sfs_results))\n",
    "ax.barh(y_pos, sfs_results['avg_score'], \\\n",
    "    xerr=sfs_results['std_err'])\n",
    "\n",
    "# set axis ticks and labels\n",
    "ax.set_yticks(y_pos)\n",
    "ax.set_yticklabels(sfs_results['feature_names'])\n",
    "ax.set_xlabel('Accuracy')\n",
    "\n",
    "# limit range to overimpose differences\n",
    "plt.xlim([0.95, 0.98])\n",
    "\n",
    "# show the plot\n",
    "plt.show()"
   ]
  },
  {
   "cell_type": "markdown",
   "id": "bf1751fa",
   "metadata": {},
   "source": [
    "### 4.3 Sequential Backward Feature Selection (SBS)"
   ]
  },
  {
   "cell_type": "code",
   "execution_count": 78,
   "id": "bd77e8f8",
   "metadata": {},
   "outputs": [],
   "source": [
    "# Sequential Backward Feature Selection (SBS)\n",
    "\n",
    "#%% import libraries\n",
    "import pandas as pd\n",
    "import numpy as np\n",
    "from sklearn.datasets import load_iris\n",
    "from mlxtend.feature_selection     import SequentialFeatureSelector as SBS\n",
    "from sklearn.linear_model import LogisticRegression\n",
    "import matplotlib.pyplot as plt"
   ]
  },
  {
   "cell_type": "code",
   "execution_count": 79,
   "id": "b8adcfd2",
   "metadata": {},
   "outputs": [],
   "source": [
    "#%% load sample data\n",
    "iris = load_iris()\n",
    "x = pd.DataFrame(iris.data, \n",
    "    columns=iris.feature_names)"
   ]
  },
  {
   "cell_type": "code",
   "execution_count": 80,
   "id": "2d8b8ad0",
   "metadata": {},
   "outputs": [],
   "source": [
    "#%% create a logistic regression object\n",
    "lr = LogisticRegression()"
   ]
  },
  {
   "cell_type": "code",
   "execution_count": 81,
   "id": "5763766b",
   "metadata": {},
   "outputs": [],
   "source": [
    "#%% create an SBS object\n",
    "sbs = SBS(estimator=lr,\n",
    "          k_features=(1, 3),  \n",
    "          forward=False,       \n",
    "          scoring='accuracy', \n",
    "          cv=5)    "
   ]
  },
  {
   "cell_type": "code",
   "execution_count": 82,
   "id": "ed7ad5a4",
   "metadata": {},
   "outputs": [
    {
     "name": "stderr",
     "output_type": "stream",
     "text": [
      "C:\\ProgramData\\Anaconda3\\lib\\site-packages\\sklearn\\linear_model\\_logistic.py:818: ConvergenceWarning: lbfgs failed to converge (status=1):\n",
      "STOP: TOTAL NO. of ITERATIONS REACHED LIMIT.\n",
      "\n",
      "Increase the number of iterations (max_iter) or scale the data as shown in:\n",
      "    https://scikit-learn.org/stable/modules/preprocessing.html\n",
      "Please also refer to the documentation for alternative solver options:\n",
      "    https://scikit-learn.org/stable/modules/linear_model.html#logistic-regression\n",
      "  extra_warning_msg=_LOGISTIC_SOLVER_CONVERGENCE_MSG,\n"
     ]
    }
   ],
   "source": [
    "#%% fit the model\n",
    "sbs = sbs.fit(x, iris.target)"
   ]
  },
  {
   "cell_type": "code",
   "execution_count": 83,
   "id": "b3d21d7b",
   "metadata": {},
   "outputs": [
    {
     "data": {
      "text/plain": [
       "('sepal length (cm)', 'petal length (cm)', 'petal width (cm)')"
      ]
     },
     "execution_count": 83,
     "metadata": {},
     "output_type": "execute_result"
    }
   ],
   "source": [
    "#%% show the selected features\n",
    "sbs.k_feature_names_"
   ]
  },
  {
   "cell_type": "code",
   "execution_count": 84,
   "id": "e3d0d64f",
   "metadata": {},
   "outputs": [],
   "source": [
    "#%% show a full report on the feature selection\n",
    "sbs_results = pd.DataFrame(sbs.get_metric_dict()).T.sort_values(by='avg_score', ascending=False)"
   ]
  },
  {
   "cell_type": "code",
   "execution_count": 85,
   "id": "8980a8a9",
   "metadata": {},
   "outputs": [
    {
     "data": {
      "text/html": [
       "<div>\n",
       "<style scoped>\n",
       "    .dataframe tbody tr th:only-of-type {\n",
       "        vertical-align: middle;\n",
       "    }\n",
       "\n",
       "    .dataframe tbody tr th {\n",
       "        vertical-align: top;\n",
       "    }\n",
       "\n",
       "    .dataframe thead th {\n",
       "        text-align: right;\n",
       "    }\n",
       "</style>\n",
       "<table border=\"1\" class=\"dataframe\">\n",
       "  <thead>\n",
       "    <tr style=\"text-align: right;\">\n",
       "      <th></th>\n",
       "      <th>feature_idx</th>\n",
       "      <th>cv_scores</th>\n",
       "      <th>avg_score</th>\n",
       "      <th>feature_names</th>\n",
       "      <th>ci_bound</th>\n",
       "      <th>std_dev</th>\n",
       "      <th>std_err</th>\n",
       "    </tr>\n",
       "  </thead>\n",
       "  <tbody>\n",
       "    <tr>\n",
       "      <th>4</th>\n",
       "      <td>(0, 1, 2, 3)</td>\n",
       "      <td>[0.9666666666666667, 1.0, 0.9333333333333333, ...</td>\n",
       "      <td>0.973333</td>\n",
       "      <td>(sepal length (cm), sepal width (cm), petal le...</td>\n",
       "      <td>0.032061</td>\n",
       "      <td>0.024944</td>\n",
       "      <td>0.012472</td>\n",
       "    </tr>\n",
       "    <tr>\n",
       "      <th>3</th>\n",
       "      <td>(0, 2, 3)</td>\n",
       "      <td>[0.9666666666666667, 0.9666666666666667, 0.933...</td>\n",
       "      <td>0.966667</td>\n",
       "      <td>(sepal length (cm), petal length (cm), petal w...</td>\n",
       "      <td>0.027096</td>\n",
       "      <td>0.021082</td>\n",
       "      <td>0.010541</td>\n",
       "    </tr>\n",
       "    <tr>\n",
       "      <th>2</th>\n",
       "      <td>(2, 3)</td>\n",
       "      <td>[0.9666666666666667, 0.9666666666666667, 0.933...</td>\n",
       "      <td>0.96</td>\n",
       "      <td>(petal length (cm), petal width (cm))</td>\n",
       "      <td>0.032061</td>\n",
       "      <td>0.024944</td>\n",
       "      <td>0.012472</td>\n",
       "    </tr>\n",
       "    <tr>\n",
       "      <th>1</th>\n",
       "      <td>(3,)</td>\n",
       "      <td>[1.0, 0.9666666666666667, 0.9, 0.9333333333333...</td>\n",
       "      <td>0.96</td>\n",
       "      <td>(petal width (cm),)</td>\n",
       "      <td>0.049963</td>\n",
       "      <td>0.038873</td>\n",
       "      <td>0.019437</td>\n",
       "    </tr>\n",
       "  </tbody>\n",
       "</table>\n",
       "</div>"
      ],
      "text/plain": [
       "    feature_idx                                          cv_scores avg_score  \\\n",
       "4  (0, 1, 2, 3)  [0.9666666666666667, 1.0, 0.9333333333333333, ...  0.973333   \n",
       "3     (0, 2, 3)  [0.9666666666666667, 0.9666666666666667, 0.933...  0.966667   \n",
       "2        (2, 3)  [0.9666666666666667, 0.9666666666666667, 0.933...      0.96   \n",
       "1          (3,)  [1.0, 0.9666666666666667, 0.9, 0.9333333333333...      0.96   \n",
       "\n",
       "                                       feature_names  ci_bound   std_dev  \\\n",
       "4  (sepal length (cm), sepal width (cm), petal le...  0.032061  0.024944   \n",
       "3  (sepal length (cm), petal length (cm), petal w...  0.027096  0.021082   \n",
       "2              (petal length (cm), petal width (cm))  0.032061  0.024944   \n",
       "1                                (petal width (cm),)  0.049963  0.038873   \n",
       "\n",
       "    std_err  \n",
       "4  0.012472  \n",
       "3  0.010541  \n",
       "2  0.012472  \n",
       "1  0.019437  "
      ]
     },
     "execution_count": 85,
     "metadata": {},
     "output_type": "execute_result"
    }
   ],
   "source": [
    "sbs_results"
   ]
  },
  {
   "cell_type": "code",
   "execution_count": 86,
   "id": "c93b401e",
   "metadata": {},
   "outputs": [
    {
     "data": {
      "image/png": "[encoded data removed]",
      "text/plain": [
       "<Figure size 432x288 with 1 Axes>"
      ]
     },
     "metadata": {
      "needs_background": "light"
     },
     "output_type": "display_data"
    }
   ],
   "source": [
    "#%% show feature importance visually\n",
    "# create figure and axes\n",
    "fig, ax = plt.subplots()\n",
    "# plot bars\n",
    "y_pos = np.arange(len(sbs_results))\n",
    "ax.barh(y_pos, sbs_results['avg_score'], \\\n",
    "    xerr=sbs_results['std_err'])\n",
    "\n",
    "# set axis ticks and labels\n",
    "ax.set_yticks(y_pos)\n",
    "ax.set_yticklabels(sbs_results['feature_names'])\n",
    "ax.set_xlabel('Accuracy')\n",
    "\n",
    "# limit range to overimpose differences\n",
    "plt.xlim([0.95, 0.98])\n",
    "\n",
    "# show the plot\n",
    "plt.show()"
   ]
  },
  {
   "cell_type": "markdown",
   "id": "f932c628",
   "metadata": {},
   "source": [
    "### 4.4 Recursive Feature Elimination (RFE)"
   ]
  },
  {
   "cell_type": "code",
   "execution_count": 96,
   "id": "3bfee205",
   "metadata": {},
   "outputs": [],
   "source": [
    "# Recursive Feature Elimination\n",
    "\n",
    "#%% import libraries\n",
    "import pandas as pd\n",
    "import numpy as np\n",
    "from sklearn.datasets import load_iris\n",
    "from sklearn.feature_selection import RFE\n",
    "from sklearn.linear_model import LogisticRegression\n",
    "from sklearn.feature_selection import RFECV"
   ]
  },
  {
   "cell_type": "code",
   "execution_count": 97,
   "id": "06c7eab1",
   "metadata": {},
   "outputs": [],
   "source": [
    "#%% load sample data\n",
    "iris = load_iris()\n",
    "x = pd.DataFrame(iris.data,columns=iris.feature_names)"
   ]
  },
  {
   "cell_type": "code",
   "execution_count": 98,
   "id": "f9a15cf2",
   "metadata": {},
   "outputs": [],
   "source": [
    "#%% create a logistic regression object\n",
    "lr = LogisticRegression()"
   ]
  },
  {
   "cell_type": "code",
   "execution_count": 102,
   "id": "893d322d",
   "metadata": {},
   "outputs": [
    {
     "name": "stderr",
     "output_type": "stream",
     "text": [
      "C:\\ProgramData\\Anaconda3\\lib\\site-packages\\sklearn\\linear_model\\_logistic.py:818: ConvergenceWarning: lbfgs failed to converge (status=1):\n",
      "STOP: TOTAL NO. of ITERATIONS REACHED LIMIT.\n",
      "\n",
      "Increase the number of iterations (max_iter) or scale the data as shown in:\n",
      "    https://scikit-learn.org/stable/modules/preprocessing.html\n",
      "Please also refer to the documentation for alternative solver options:\n",
      "    https://scikit-learn.org/stable/modules/linear_model.html#logistic-regression\n",
      "  extra_warning_msg=_LOGISTIC_SOLVER_CONVERGENCE_MSG,\n"
     ]
    },
    {
     "data": {
      "text/plain": [
       "RFE(estimator=LogisticRegression(), n_features_to_select=3)"
      ]
     },
     "execution_count": 102,
     "metadata": {},
     "output_type": "execute_result"
    }
   ],
   "source": [
    "#%% create and fit logistic regressor with RFE\n",
    "rfe = RFE(estimator = lr, n_features_to_select =3)\n",
    "rfe.fit(x, iris.target)"
   ]
  },
  {
   "cell_type": "code",
   "execution_count": 103,
   "id": "d393c6b3",
   "metadata": {},
   "outputs": [
    {
     "data": {
      "text/html": [
       "<div>\n",
       "<style scoped>\n",
       "    .dataframe tbody tr th:only-of-type {\n",
       "        vertical-align: middle;\n",
       "    }\n",
       "\n",
       "    .dataframe tbody tr th {\n",
       "        vertical-align: top;\n",
       "    }\n",
       "\n",
       "    .dataframe thead th {\n",
       "        text-align: right;\n",
       "    }\n",
       "</style>\n",
       "<table border=\"1\" class=\"dataframe\">\n",
       "  <thead>\n",
       "    <tr style=\"text-align: right;\">\n",
       "      <th></th>\n",
       "      <th>features</th>\n",
       "      <th>Selected features</th>\n",
       "      <th>Feature ranks</th>\n",
       "    </tr>\n",
       "  </thead>\n",
       "  <tbody>\n",
       "    <tr>\n",
       "      <th>0</th>\n",
       "      <td>sepal length (cm)</td>\n",
       "      <td>False</td>\n",
       "      <td>2</td>\n",
       "    </tr>\n",
       "    <tr>\n",
       "      <th>1</th>\n",
       "      <td>sepal width (cm)</td>\n",
       "      <td>True</td>\n",
       "      <td>1</td>\n",
       "    </tr>\n",
       "    <tr>\n",
       "      <th>2</th>\n",
       "      <td>petal length (cm)</td>\n",
       "      <td>True</td>\n",
       "      <td>1</td>\n",
       "    </tr>\n",
       "    <tr>\n",
       "      <th>3</th>\n",
       "      <td>petal width (cm)</td>\n",
       "      <td>True</td>\n",
       "      <td>1</td>\n",
       "    </tr>\n",
       "  </tbody>\n",
       "</table>\n",
       "</div>"
      ],
      "text/plain": [
       "            features  Selected features  Feature ranks\n",
       "0  sepal length (cm)              False              2\n",
       "1   sepal width (cm)               True              1\n",
       "2  petal length (cm)               True              1\n",
       "3   petal width (cm)               True              1"
      ]
     },
     "execution_count": 103,
     "metadata": {},
     "output_type": "execute_result"
    }
   ],
   "source": [
    "#%% show which feature were selected\n",
    "pd.DataFrame({'features': iris.feature_names,\n",
    "    'Selected features': rfe.support_, \n",
    "    'Feature ranks': rfe.ranking_})"
   ]
  },
  {
   "cell_type": "code",
   "execution_count": 106,
   "id": "0b4884f6",
   "metadata": {},
   "outputs": [
    {
     "name": "stderr",
     "output_type": "stream",
     "text": [
      "C:\\ProgramData\\Anaconda3\\lib\\site-packages\\sklearn\\linear_model\\_logistic.py:818: ConvergenceWarning: lbfgs failed to converge (status=1):\n",
      "STOP: TOTAL NO. of ITERATIONS REACHED LIMIT.\n",
      "\n",
      "Increase the number of iterations (max_iter) or scale the data as shown in:\n",
      "    https://scikit-learn.org/stable/modules/preprocessing.html\n",
      "Please also refer to the documentation for alternative solver options:\n",
      "    https://scikit-learn.org/stable/modules/linear_model.html#logistic-regression\n",
      "  extra_warning_msg=_LOGISTIC_SOLVER_CONVERGENCE_MSG,\n",
      "C:\\ProgramData\\Anaconda3\\lib\\site-packages\\sklearn\\linear_model\\_logistic.py:818: ConvergenceWarning: lbfgs failed to converge (status=1):\n",
      "STOP: TOTAL NO. of ITERATIONS REACHED LIMIT.\n",
      "\n",
      "Increase the number of iterations (max_iter) or scale the data as shown in:\n",
      "    https://scikit-learn.org/stable/modules/preprocessing.html\n",
      "Please also refer to the documentation for alternative solver options:\n",
      "    https://scikit-learn.org/stable/modules/linear_model.html#logistic-regression\n",
      "  extra_warning_msg=_LOGISTIC_SOLVER_CONVERGENCE_MSG,\n",
      "C:\\ProgramData\\Anaconda3\\lib\\site-packages\\sklearn\\linear_model\\_logistic.py:818: ConvergenceWarning: lbfgs failed to converge (status=1):\n",
      "STOP: TOTAL NO. of ITERATIONS REACHED LIMIT.\n",
      "\n",
      "Increase the number of iterations (max_iter) or scale the data as shown in:\n",
      "    https://scikit-learn.org/stable/modules/preprocessing.html\n",
      "Please also refer to the documentation for alternative solver options:\n",
      "    https://scikit-learn.org/stable/modules/linear_model.html#logistic-regression\n",
      "  extra_warning_msg=_LOGISTIC_SOLVER_CONVERGENCE_MSG,\n"
     ]
    }
   ],
   "source": [
    "#Other option: It is possible to find the number of features to be selected using cross validation\n",
    "#%% REF with cross-validation = 5\n",
    "#step: the number of features to be eliminated at each iteration\n",
    "rfecv = RFECV(estimator=lr, step=1, cv=5, \n",
    "    scoring='accuracy', \n",
    "    min_features_to_select= 3).fit(x, iris.target)\n"
   ]
  },
  {
   "cell_type": "code",
   "execution_count": 107,
   "id": "f282bcf5",
   "metadata": {},
   "outputs": [
    {
     "name": "stdout",
     "output_type": "stream",
     "text": [
      "[[0.96666667 0.96666667 0.93333333 0.96666667 1.        ]\n",
      " [0.96666667 1.         0.93333333 0.96666667 1.        ]]\n"
     ]
    },
    {
     "name": "stderr",
     "output_type": "stream",
     "text": [
      "C:\\ProgramData\\Anaconda3\\lib\\site-packages\\sklearn\\utils\\deprecation.py:103: FutureWarning: The `grid_scores_` attribute is deprecated in version 1.0 in favor of `cv_results_` and will be removed in version 1.2.\n",
      "  warnings.warn(msg, category=FutureWarning)\n"
     ]
    }
   ],
   "source": [
    "#%% show grid scores for selected featues\n",
    "print(rfecv.grid_scores_)"
   ]
  },
  {
   "cell_type": "code",
   "execution_count": 108,
   "id": "9600dba5",
   "metadata": {},
   "outputs": [
    {
     "data": {
      "text/plain": [
       "{'mean_test_score': array([0.96666667, 0.97333333]),\n",
       " 'std_test_score': array([0.02108185, 0.02494438]),\n",
       " 'split0_test_score': array([0.96666667, 0.96666667]),\n",
       " 'split1_test_score': array([0.96666667, 1.        ]),\n",
       " 'split2_test_score': array([0.93333333, 0.93333333]),\n",
       " 'split3_test_score': array([0.96666667, 0.96666667]),\n",
       " 'split4_test_score': array([1., 1.])}"
      ]
     },
     "execution_count": 108,
     "metadata": {},
     "output_type": "execute_result"
    }
   ],
   "source": [
    "rfecv.cv_results_"
   ]
  },
  {
   "cell_type": "code",
   "execution_count": 109,
   "id": "fb920460",
   "metadata": {},
   "outputs": [
    {
     "data": {
      "text/plain": [
       "4"
      ]
     },
     "execution_count": 109,
     "metadata": {},
     "output_type": "execute_result"
    }
   ],
   "source": [
    "# The number of selected features with cross-validation.\n",
    "rfecv.n_features_"
   ]
  },
  {
   "cell_type": "code",
   "execution_count": null,
   "id": "9a7234d7",
   "metadata": {},
   "outputs": [],
   "source": []
  }
 ],
 "metadata": {
  "kernelspec": {
   "display_name": "Python 3",
   "language": "python",
   "name": "python3"
  },
  "language_info": {
   "codemirror_mode": {
    "name": "ipython",
    "version": 3
   },
   "file_extension": ".py",
   "mimetype": "text/x-python",
   "name": "python",
   "nbconvert_exporter": "python",
   "pygments_lexer": "ipython3",
   "version": "3.7.9"
  }
 },
 "nbformat": 4,
 "nbformat_minor": 5
}
